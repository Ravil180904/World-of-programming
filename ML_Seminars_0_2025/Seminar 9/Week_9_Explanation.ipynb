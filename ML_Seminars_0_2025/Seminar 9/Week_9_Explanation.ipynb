{
 "cells": [
  {
   "cell_type": "markdown",
   "id": "85bc8076-fed4-432b-926f-2f8d7dbb1311",
   "metadata": {},
   "source": [
    "1. gwg"
   ]
  },
  {
   "cell_type": "code",
   "execution_count": null,
   "id": "c2e2bc1c-f2b1-4c1d-9ba4-d50923ece70d",
   "metadata": {},
   "outputs": [],
   "source": []
  }
 ],
 "metadata": {
  "kernelspec": {
   "display_name": "Python 3 (ipykernel)",
   "language": "python",
   "name": "python3"
  },
  "language_info": {
   "codemirror_mode": {
    "name": "ipython",
    "version": 3
   },
   "file_extension": ".py",
   "mimetype": "text/x-python",
   "name": "python",
   "nbconvert_exporter": "python",
   "pygments_lexer": "ipython3",
   "version": "3.11.5"
  }
 },
 "nbformat": 4,
 "nbformat_minor": 5
}
