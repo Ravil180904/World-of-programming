{
 "cells": [
  {
   "cell_type": "markdown",
   "id": "f71046fe-071f-45e0-b2fe-9b941e930df5",
   "metadata": {},
   "source": [
    "Hello Sis2"
   ]
  },
  {
   "cell_type": "code",
   "execution_count": null,
   "id": "ba9c9996-7fe9-4d92-94d1-07323ce37fef",
   "metadata": {
    "tags": []
   },
   "outputs": [],
   "source": [
    "import numpy as np\n",
    "import pandas as pd\n",
    "from sklearn.model_selection import train_test_split"
   ]
  },
  {
   "cell_type": "code",
   "execution_count": null,
   "id": "249910f7-3c92-4ca6-9119-bb0faaad8c32",
   "metadata": {
    "tags": []
   },
   "outputs": [],
   "source": [
    "X = np.linspace(-3, 3, 1_000).reshape(-1, 1)\n",
    "y = 2 * X**2 + 3 * X + 5 + np.random.normal(0, 2, X.shape)"
   ]
  },
  {
   "cell_type": "code",
   "execution_count": null,
   "id": "e0c5d40d-c497-4bfe-bedc-6feb741c0dea",
   "metadata": {},
   "outputs": [],
   "source": [
    "def rank_matrix(matrix):\n",
    "    if not matrix:\n",
    "        return 0\n",
    "    \n",
    "    m, n = len(matrix), len(matrix[0])\n",
    "    rank = 0\n",
    "    \n",
    "    for i in range(n):\n",
    "        if matrix[rank][i] != 0:\n",
    "            for n in range(rank + 1, m):\n",
    "                ratio = matrix[n][i] / matrix[rank][i]\n",
    "                for k in range(n):\n",
    "                    matrix[n][k] -= ratio * matrix[rank][k]\n",
    "            rank += 1\n",
    "        else:\n",
    "            for r in range(rank + 1, m):\n",
    "                if matrix[i][i] != 0:\n",
    "                    matrix[rank], matrix[r] = matrix[r], matrix[rank]\n",
    "                    rank -= 1\n",
    "                    break\n",
    "    return rank\n",
    "\n",
    "matrix1 = [[2, 6, 3],\n",
    "           [6, 5, 6, 6],\n",
    "           [1, 8, 10, 6],\n",
    "          [1, 1, 6, 5]]\n",
    "print(\"Rank of matrix1:\", rank_matrix(matrix1))\n",
    "\n",
    "matrix2 = [[1, 2, 3],\n",
    "           [2, 4, 6], \n",
    "           [3, 6, 9]]\n",
    "print(\"Rank of matrix2:\", rank_matrix(matrix2))\n",
    "\n",
    "matrix3 = [\n",
    "    [1, 2, 3, 4],\n",
    "    [4, 5, 6, 7],\n",
    "    [7, 8, 9, 10],\n",
    "    [1, 1, 1, 1]]\n",
    "print(\"Rank of matrix3:\", rank_matrix(matrix3))     "
   ]
  },
  {
   "cell_type": "code",
   "execution_count": null,
   "id": "24fb4293-2d6d-4b53-a890-9b86c3570a57",
   "metadata": {
    "tags": []
   },
   "outputs": [],
   "source": [
    "class Customlinearregression:\n",
    "    def __init__(self, use_intercept=True):\n",
    "        self.use_intercept = use_intercept\n",
    "        self.coef_ = None\n",
    "        self.intercept = 0\n",
    "        #self.residuals = 0\n",
    "        #self.predict = 0\n",
    "        \n",
    "    def fit(self, X, y):\n",
    "        if self.use_intercept:\n",
    "            X = np.c_[np.ones(X.shape[0]), X]\n",
    "        \n",
    "        X_transpose = X.T\n",
    "        self.coef_ = np.linalg.inv(X_transpose.dot(X)).dot(X_transpose).dot(y)\n",
    "        \n",
    "        if self.use_intercept:\n",
    "            self.intercept = self.coef_[0]\n",
    "            self.coef_ = self.coef_[1:]\n",
    "        \n",
    "        def predict(self, X):\n",
    "            if self.use_intercept:\n",
    "                return self.intercept + np.dot(X, self.coef_)\n",
    "            else:\n",
    "                return np.dot(X, self.coef_)\n",
    "        \n",
    "        def residuals(self, X, y):\n",
    "            return y - self.predict(X)\n",
    "        \n",
    "X_train, X_test, y_train, y_test = train_test_split(X, y, test_size = 0.2, random_state = 42)\n",
    "    \n",
    "model = Customlinearregression()\n",
    "model.fit(X_train, y_train)"
   ]
  },
  {
   "cell_type": "code",
   "execution_count": null,
   "id": "6424d2e2-b5ac-472c-9991-96cacb4dd66f",
   "metadata": {
    "tags": []
   },
   "outputs": [],
   "source": [
    "#from custom_linear_regression import CustomLinearRegression\n",
    "\n",
    "print(\"Coefficients:\", model.coef_)\n",
    "print(\"Intercept:\", model.intercept)\n",
    "\n",
    "predictions = model.predict(X)\n",
    "print(\"Predictions:\", predictions)\n",
    "\n",
    "residuals = model.residuals(X, y)\n",
    "print(\"Residuals:\", residuals)\n"
   ]
  },
  {
   "cell_type": "code",
   "execution_count": null,
   "id": "44a73f91-b61b-4cc3-9033-65af397af778",
   "metadata": {
    "tags": []
   },
   "outputs": [],
   "source": [
    "import numpy as np\n",
    "#from custom_linear_regression import CustomLinearRegression\n",
    "\n",
    "def main():\n",
    "    # Example 1: Simple Linear Regression (with intercept)\n",
    "    X1 = np.array([[1], [2], [3], [4]])\n",
    "    y1 = np.array([3, 5, 7, 9])\n",
    "\n",
    "    model1 = Customlinearregression(use_intercept=True)\n",
    "    model1.fit(X1, y1)\n",
    "\n",
    "    print(\"Example 1: Simple Linear Regression (with intercept)\")\n",
    "    print(\"Coefficients:\", model1.coef_)\n",
    "    print(\"Intercept:\", model1.intercept)\n",
    "    #print(\"Predictions:\", model1.predict(X1))\n",
    "    #print(\"Residuals:\", model1.residuals(X1, y1))\n",
    "    print()\n",
    "\n",
    "    # Example 2: Simple Linear Regression (without intercept)\n",
    "    X2 = np.array([[1], [2], [3], [4]])\n",
    "    y2 = np.array([3, 6, 9, 12])\n",
    "\n",
    "    model2 = Customlinearregression(use_intercept=False)\n",
    "    model2.fit(X2, y2)\n",
    "\n",
    "    print(\"Example 2: Simple Linear Regression (without intercept)\")\n",
    "    print(\"Coefficients:\", model2.coef_)\n",
    "    print(\"Intercept:\", model2.intercept)\n",
    "    #print(\"Predictions:\", model2.predict(X2))\n",
    "    #print(\"Residuals:\", model2.residuals(X2, y2))\n",
    "    print()\n",
    "\n",
    "    # Example 3: Multiple Linear Regression (with intercept)\n",
    "    X3 = np.array([[1, 2], [2, 3], [3, 4], [4, 5]])\n",
    "    y3 = np.array([3, 5, 7, 9])\n",
    "\n",
    "    model3 = Customlinearregression(use_intercept=True)\n",
    "    model3.fit(X3, y3)\n",
    "\n",
    "    print(\"Example 3: Multiple Linear Regression (with intercept)\")\n",
    "    print(\"Coefficients:\", model3.coef_)\n",
    "    print(\"Intercept:\", model3.intercept)\n",
    "    #print(\"Predictions:\", model3.predict(X3))\n",
    "    #print(\"Residuals:\", model3.residuals(X3, y3))\n",
    "    print()\n",
    "\n",
    "if __name__ == \"__main__\":\n",
    "    main()\n",
    "    \n",
    "# The end!\n"
   ]
  },
  {
   "cell_type": "code",
   "execution_count": null,
   "id": "0dddfa50-34dc-48d1-b073-a6c80e30ff61",
   "metadata": {},
   "outputs": [],
   "source": []
  }
 ],
 "metadata": {
  "kernelspec": {
   "display_name": "Python 3 (ipykernel)",
   "language": "python",
   "name": "python3"
  },
  "language_info": {
   "codemirror_mode": {
    "name": "ipython",
    "version": 3
   },
   "file_extension": ".py",
   "mimetype": "text/x-python",
   "name": "python",
   "nbconvert_exporter": "python",
   "pygments_lexer": "ipython3",
   "version": "3.11.5"
  }
 },
 "nbformat": 4,
 "nbformat_minor": 5
}
