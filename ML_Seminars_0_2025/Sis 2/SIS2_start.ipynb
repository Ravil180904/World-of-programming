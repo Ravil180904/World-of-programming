{
 "cells": [
  {
   "cell_type": "markdown",
   "metadata": {},
   "source": [
    "# SIS 2 (6 points)\n",
    "\n",
    "Deadline for submission : **Monday 24th March : 23h50**\n",
    "\n",
    "- The defense for this SIS will take place next week on **February 27 and March 1**.  \n",
    "- During the defense, I will ask you to explain your solutions, and you may also receive additional questions.  \n",
    "- If you are working in a group of two and are not from the same practical class, please contact me in advance to schedule your defense during office hours.  \n",
    "- Unjustified absences will result in a zero for the assignment, even if you have completed and submitted your work.  \n",
    "\n",
    "\n",
    "**THE CODE SHOULD BE RUN AND RESULTS NOT CLEARED**\n",
    "\n",
    "---"
   ]
  },
  {
   "cell_type": "markdown",
   "metadata": {},
   "source": [
    "## Exercise 1 : Gauss-Markov Assumptions\n",
    "\n",
    "- **This exercise should be solved on PAPER (and photo or scan should be send).**\n",
    "\n",
    "- Proofs should be DETAILED (otherwise they aren't proofs...). \n",
    "\n",
    "\n",
    "\n",
    "\n",
    "\n",
    "Consider the multi-linear model:\n",
    "\n",
    "$\n",
    "y_i = X \\beta + \\epsilon_i\n",
    "$\n",
    "\n",
    "where:\n",
    "- $y_i$ is an $(n \\times 1)$ vector of observations,\n",
    "- $X$ is an $(n \\times k)$ matrix of independent variables,\n",
    "- $\\beta$ is a $(k \\times 1)$ vector of parameters,\n",
    "- $\\epsilon_i$ is an $(n \\times 1)$ vector of error terms.\n",
    "\n",
    "And the OLS estimator $\\hat{\\beta} = (X'X)^{-1} X'y$"
   ]
  },
  {
   "cell_type": "markdown",
   "metadata": {},
   "source": [
    "\n",
    "---\n",
    "#### 1. What does the Gauss-Markov theorem states ?\n",
    "\n",
    "---\n",
    "#### 2. Which assumptions do you need in order to show that $\\hat{\\beta}$ is identified? Show identification.\n",
    "\n",
    "---\n",
    "#### 3. Show that $\\hat{\\beta}$ is unbiased, \n",
    "\n",
    "i.e., $\\mathbb{E}[\\hat{\\beta}] = \\beta$.\n",
    "\n",
    "---\n",
    "#### 4. Prove that $\\operatorname{Var}(\\hat{\\beta}) = \\sigma^2 (X'X)^{-1}$.\n",
    "\n",
    "---\n",
    "#### 5. Efficiency of $\\hat{\\beta}$ and the Gauss-Markov Theorem  \n",
    "\n",
    "Let $\\tilde{\\beta}$ be another **linear and unbiased** estimator of $\\beta$. That is,  \n",
    "\n",
    "\n",
    "$\\tilde{\\beta} = Ay$\n",
    "\n",
    "\n",
    "for some matrix $A$ such that $\\mathbb{E}[\\tilde{\\beta}] = \\beta$.  \n",
    "\n",
    "Using **Cochran’s theorem**, show that the variance of any other linear unbiased estimator $\\tilde{\\beta}$ is always at least as large as the variance of $\\hat{\\beta}$, the OLS estimator.  \n",
    "\n",
    "Conclude that $\\hat{\\beta}$ is the **Best Linear Unbiased Estimator (BLUE)** according to the **Gauss-Markov theorem**.  \n",
    "\n",
    "---\n",
    "#### 6. Consistency of $\\hat{\\beta}$  \n",
    "\n",
    "A sequence of estimators $\\hat{\\beta}_n$ is said to be **consistent** for $\\beta$ if:  \n",
    "\n",
    "$\\hat{\\beta}_n \\xrightarrow{p} \\beta \\quad \\text{(convergence in probability)}.$\n",
    "\n",
    "This means that as the sample size increases, $\\hat{\\beta}_n$ gets arbitrarily close to $\\beta$ with high probability.  \n",
    "\n",
    "Using the **Law of Large Numbers (LLN)**, prove that the OLS estimator $\\hat{\\beta}$ is consistent under standard assumptions.  \n"
   ]
  },
  {
   "cell_type": "markdown",
   "metadata": {},
   "source": [
    "---\n",
    "\n",
    "## Exercise 2 : Linear Dependence and Rank of a Matrix\n",
    "\n",
    "**Understanding Linear Dependence in Matrices**\n",
    "\n",
    "In the context of a matrix, **linear dependence** refers to a situation where one or more columns (or rows) can be written as a linear combination of other columns (or rows). If all columns (or rows) are linearly independent, no such relationship exists.\n",
    "\n",
    "A set of column vectors $ \\mathbf{v}_1, \\mathbf{v}_2, \\dots, \\mathbf{v}_n $ in $ \\mathbb{R}^m $ is **linearly dependent** if there exist scalars $ c_1, c_2, \\dots, c_n $, **not all zero**, such that:\n",
    "\n",
    "$$\n",
    "c_1 \\mathbf{v}_1 + c_2 \\mathbf{v}_2 + \\dots + c_n \\mathbf{v}_n = \\mathbf{0}\n",
    "$$\n",
    "\n",
    "Equivalently, a matrix $ A $ with columns $ \\mathbf{v}_1, \\mathbf{v}_2, \\dots, \\mathbf{v}_n $ is **linearly dependent** if there is a nontrivial solution to:\n",
    "\n",
    "$$\n",
    "A \\mathbf{c} = \\mathbf{0}\n",
    "$$\n",
    "\n",
    "where $ A = [\\mathbf{v}_1 \\, \\mathbf{v}_2 \\, \\dots \\, \\mathbf{v}_n] $ and $ \\mathbf{c} \\neq \\mathbf{0} $.\n",
    "\n",
    "One way to determine if a set of vectors (columns or rows) is linearly dependent is by checking the **rank** of the matrix.\n",
    "\n",
    "- The **rank** of a matrix $ A $ is the number of **linearly independent** columns (or rows).\n",
    "- If $ \\text{rank}(A) = n $ (the number of columns), the columns are **linearly independent**.\n",
    "- If $ \\text{rank}(A) < n $, then at least one column can be written as a linear combination of the others, meaning the columns are **linearly dependent**.\n",
    "\n",
    "To compute the rank of a matrix, we can transform it into **Row Echelon Form (REF)** using **Gaussian Elimination**. The number of nonzero rows in REF corresponds to the rank:\n",
    "\n",
    "$$\n",
    "\\text{rank}(A) = \\text{number of nonzero rows in REF}\n",
    "$$\n",
    "\n",
    "If $ \\text{rank}(A) < n $, the matrix has **linearly dependent columns**."
   ]
  },
  {
   "cell_type": "markdown",
   "metadata": {},
   "source": [
    "---\n",
    "\n",
    "#### **Task: Implement Rank Calculation Using Gaussian Elimination**\n",
    "Your goal is to implement a function that determines the rank of a matrix using Gaussian Elimination, without relying on external libraries (like NumPy or SciPy). \n",
    "Then, using your function, determine whether the given matrices are linearly independent.\n",
    "\n",
    "### **Instructions**\n",
    "1. Implement the function `rank_of_matrix(matrix: list[list[float]]) -> int` that:\n",
    "   - Takes a matrix as a list of lists.\n",
    "   - Performs Gaussian elimination to convert it into row echelon form.\n",
    "   - Returns the rank (i.e., the number of nonzero rows in the echelon form).\n",
    "\n",
    "2. Use your function to determine if the following matrices have **linearly independent columns**.\n",
    "\n",
    "### **Example Matrices**\n",
    "```python\n",
    "matrix1 = [\n",
    "    [1, 2, 3],\n",
    "    [4, 5, 6],\n",
    "    [7, 8, 9]\n",
    "]\n",
    "\n",
    "matrix2 = [\n",
    "    [1, 0, 0],\n",
    "    [0, 1, 0],\n",
    "    [0, 0, 1]\n",
    "]\n",
    "\n",
    "matrix3 = [\n",
    "    [1, 2, 3, 4],\n",
    "    [4, 5, 6, 7],\n",
    "    [7, 8, 9, 10],\n",
    "    [1, 1, 1, 1]\n",
    "]"
   ]
  },
  {
   "cell_type": "code",
   "execution_count": null,
   "metadata": {},
   "outputs": [],
   "source": [
    "def rank_matrix(matrix):\n",
    "    \"\"\"Returns the rank of a matrix using Gaussian elimination.\"\"\"\n",
    "    # YOUR CODE GOES HERE\n",
    "    return rank\n",
    "\n",
    "matrix1 = [[1, 2, 3], \n",
    "           [4, 5, 6], \n",
    "           [7, 8, 10]]\n",
    "print(\"Rank of matrix1:\", rank_matrix(matrix1))\n",
    "\n",
    "matrix2 = [[1, 2, 3], \n",
    "           [2, 4, 6], \n",
    "           [3, 6, 9]]\n",
    "print(\"Rank of matrix2:\", rank_matrix(matrix2))\n",
    "\n",
    "matrix3 = [\n",
    "    [1, 2, 3, 4],\n",
    "    [4, 5, 6, 7],\n",
    "    [7, 8, 9, 10],\n",
    "    [1, 1, 1, 1]\n",
    "]\n",
    "print(\"Rank of matrix3:\", rank_matrix(matrix3))\n"
   ]
  },
  {
   "cell_type": "markdown",
   "metadata": {},
   "source": [
    "## Exercise 3 : Coding tasks\n",
    "\n",
    "Consider the following dataset"
   ]
  },
  {
   "cell_type": "code",
   "execution_count": 6,
   "metadata": {},
   "outputs": [
    {
     "data": {
      "image/png": "[encoded data removed]",
      "text/plain": [
       "<Figure size 640x480 with 1 Axes>"
      ]
     },
     "metadata": {},
     "output_type": "display_data"
    }
   ],
   "source": [
    "import numpy as np\n",
    "import pandas as pd\n",
    "import matplotlib.pyplot as plt\n",
    "\n",
    "np.random.seed(42)\n",
    "\n",
    "X = np.linspace(-3, 3, 1_000).reshape(-1, 1)\n",
    "y = 2 * X**2 + 3 * X + 5 + np.random.normal(0, 2, X.shape)\n",
    "\n",
    "plt.scatter(X, y, color='blue', label='Data points')\n",
    "plt.xlabel('X')\n",
    "plt.ylabel('y')\n",
    "plt.title('Non-Linear Dataset')\n",
    "plt.legend()\n",
    "plt.show()\n"
   ]
  },
  {
   "cell_type": "markdown",
   "metadata": {},
   "source": [
    "### **Step 1**\n",
    "\n",
    "You should implement a custom regression class using the template below that does the following:\n",
    "- Parameters: Accepts a flag to include a constant (intercept) or not.\n",
    "- Fit: Estimate the OLS parameters using the formulas\n",
    "$$\\widehat a = \\frac{\\sum\\limits_{i=1}^n (x_i - \\bar{x})(y_i - \\bar{y})}{\\sum\\limits_{i=1}^n (x_i - \\bar{x})^2}, \\quad \n",
    "    \\widehat b = \\bar{y} - \\widehat a \\bar{x}.$$\n",
    "- Predict: Compute predictions using the estimated parameters.\n",
    "- Residuals: Return the residuals, defined as:\n",
    "$$ residuals = y − \\widehat y $$"
   ]
  },
  {
   "cell_type": "code",
   "execution_count": 4,
   "metadata": {},
   "outputs": [],
   "source": [
    "class CustomLinearRegression:\n",
    "    def __init__(self, use_intercept=True):\n",
    "        self.use_intercept = use_intercept\n",
    "        self.coef_ = None\n",
    "        self.intercept_ = 0\n",
    "    \n",
    "    def fit(self, X, y):\n",
    "        # YOUR CODE GOES HERE\n",
    "            pass\n",
    "    def predict(self, X):\n",
    "        # YOUR CODE GOES HERE\n",
    "            pass\n",
    "    def residuals(self, X, y):\n",
    "        # YOUR CODE GOES HERE\n",
    "            pass"
   ]
  },
  {
   "cell_type": "markdown",
   "metadata": {},
   "source": [
    "### Step 2\n",
    "- Split the dataset into training and testing sets\n",
    "- Use your custom linear regression class to fit the model"
   ]
  },
  {
   "cell_type": "code",
   "execution_count": null,
   "metadata": {},
   "outputs": [],
   "source": [
    "# YOUR CODE GOES HERE"
   ]
  },
  {
   "cell_type": "markdown",
   "metadata": {},
   "source": [
    "### Step 3\n",
    "- Compute predictions for the test data."
   ]
  },
  {
   "cell_type": "code",
   "execution_count": null,
   "metadata": {},
   "outputs": [],
   "source": [
    "# YOUR CODE GOES HERE"
   ]
  },
  {
   "cell_type": "markdown",
   "metadata": {},
   "source": [
    "### Step 4\n",
    "\n",
    "- Plot the actual data points and overlay the regression line from your custom model."
   ]
  },
  {
   "cell_type": "code",
   "execution_count": null,
   "metadata": {},
   "outputs": [],
   "source": [
    "# YOUR CODE GOES HERE"
   ]
  },
  {
   "cell_type": "markdown",
   "metadata": {},
   "source": [
    "### Step 5\n",
    "- Create a plot of residuals \n",
    "- Are the residuals randomly dispersed around zero?\n",
    "- What does the pattern (or lack thereof) tell you about the appropriateness of a linear model for this dataset?"
   ]
  },
  {
   "cell_type": "code",
   "execution_count": null,
   "metadata": {},
   "outputs": [],
   "source": [
    "# YOUR CODE GOES HERE"
   ]
  },
  {
   "cell_type": "markdown",
   "metadata": {},
   "source": [
    "### Step 6\n",
    "\n",
    "- Use sklearn to implement Polynomial Regression and fit it on the same dataset.\n",
    "- Compare the results."
   ]
  },
  {
   "cell_type": "code",
   "execution_count": null,
   "metadata": {},
   "outputs": [],
   "source": [
    "# YOUR CODE GOES HERE"
   ]
  },
  {
   "cell_type": "markdown",
   "metadata": {},
   "source": [
    "### Final Discussion\n",
    "\n",
    "- Discuss how the linear model may underfit the data because it cannot capture the inherent non-linear relationships\n",
    "- Explain how introducing polynomial terms leads to a better fit"
   ]
  },
  {
   "cell_type": "code",
   "execution_count": null,
   "metadata": {},
   "outputs": [],
   "source": []
  }
 ],
 "metadata": {
  "kernelspec": {
   "display_name": "Python 3 (ipykernel)",
   "language": "python",
   "name": "python3"
  },
  "language_info": {
   "codemirror_mode": {
    "name": "ipython",
    "version": 3
   },
   "file_extension": ".py",
   "mimetype": "text/x-python",
   "name": "python",
   "nbconvert_exporter": "python",
   "pygments_lexer": "ipython3",
   "version": "3.13.5"
  }
 },
 "nbformat": 4,
 "nbformat_minor": 4
}
