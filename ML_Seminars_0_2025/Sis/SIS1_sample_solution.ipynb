{
 "cells": [
  {
   "cell_type": "markdown",
   "metadata": {},
   "source": [
    "# SIS 1"
   ]
  },
  {
   "cell_type": "markdown",
   "metadata": {},
   "source": [
    "# Some theoretical questions"
   ]
  },
  {
   "cell_type": "markdown",
   "metadata": {},
   "source": [
    "## Exercise: Comparing MSE and RMSE\n",
    "\n",
    "Given the following set of true values and predicted values from a regression model:\n",
    "\n",
    "**True values :**  \n",
    "\n",
    "$y_i$ = [500, 300, 800, 400, 6000]\n",
    "\n",
    "**Predicted values :** \n",
    "\n",
    "$\\hat{y_i}$ = [450, 350, 780, 420, 910]"
   ]
  },
  {
   "cell_type": "markdown",
   "metadata": {},
   "source": [
    "1. Calculate on paper the **Mean Squared Error (MSE)** for this set of true and predicted values. \n",
    "\n",
    "   The formula for MSE is:  \n",
    "   MSE = $\\frac{1}{n} \\Sigma_{i=1}^n({y_i}-\\hat{y_i})^2$, where n is the number of data points.\n",
    "\n",
    "2. What does the result quantify ? Explain with your own words.\n",
    "\n",
    "3. What are the disadvantages of this metric ?"
   ]
  },
  {
   "cell_type": "markdown",
   "metadata": {},
   "source": [
    "Solution for 1.\n",
    "\n",
    "MSE = $\\frac{1}{n} \\sum_{i=1}^n (y_i - \\hat{Y_i})^2$\n",
    "Calculate the square difference between true and predicted values for each pair: \n",
    "$1.(500-450)^2 = 50^2 = 2500$\n",
    "$2. (300-350)^2 = (-50)^2 = 2500$\n",
    "$3. (800-780)^2 = 20^2 = 400$\n",
    "$4. (400-420)^2 = (-20)^2 = 400$\n",
    "$5. (6000-910)^2 = 5090^2 = 25908100$\n",
    "\n",
    "Then sum all differences: $(2500+2500+400+400+25908100=25913900)$\n",
    "\n",
    "Since n=5 the MSE will be:\n",
    "\n",
    "MSE $= \\frac{25913900}{5} = 5182780$"
   ]
  },
  {
   "cell_type": "markdown",
   "metadata": {},
   "source": [
    "Solution for 2.\n",
    "\n",
    "The MSE quantifies the average square difference between true values and predicted values."
   ]
  },
  {
   "cell_type": "markdown",
   "metadata": {},
   "source": [
    "Solution for 3.\n",
    "\n",
    "1. Sensitive to large errors;\n",
    "2. Hard to interpret"
   ]
  },
  {
   "cell_type": "markdown",
   "metadata": {},
   "source": [
    "4. Calculate the **Root Mean Squared Error (RMSE)** for the same values.\n",
    "\n",
    "   The formula for RMSE is:\n",
    "\n",
    "   RMSE = $\\sqrt{\\frac{1}{n} \\Sigma_{i=1}^n({y_i}-\\hat{y_i})^2} = \\sqrt{MSE}$\n",
    "\n",
    "5. Interprete the results.\n",
    "\n",
    "6. What is the difference with MSE ? How does it make it \"better\" ? In your opinion, why is the RMSE generally preferred in some situations over MSE ?"
   ]
  },
  {
   "cell_type": "markdown",
   "metadata": {},
   "source": [
    "Solution for 4:\n",
    "\n"
   ]
  },
  {
   "cell_type": "markdown",
   "metadata": {},
   "source": [
    "MSE = $5182780$\n",
    "\n",
    "RMSE $= \\sqrt{MSE}$\n",
    "\n",
    "RMSE = $\\sqrt{5182780}$ = $2276.6$\n"
   ]
  },
  {
   "cell_type": "markdown",
   "metadata": {},
   "source": [
    "## Exercise: Bias Variance decomposition of MSE \n",
    "\n",
    "Given a model $\\hat{f}(X)$ that predicts a value based on some input data, and the true value $Y$, prove that the **Mean Squared Error (MSE)** can be decomposed into two components: **Bias** and **Variance**, i.e. $\\text{MSE} = \\mathbb{E}[(\\hat{Y} - Y)^2] = (\\text{Bias}(\\hat{Y}))^2 + \\text{Var}(\\hat{Y}) $\n",
    "\n",
    "Where:\n",
    "- **Bias** is the difference between the expected prediction and the true value, i.e., $\\text{Bias} = \\mathbb{E}[\\hat{Y}] - Y$.\n",
    "- **Variance** is the expected squared deviation of the predicted value from the expected predicted value, i.e., $\\text{Variance} = \\mathbb{E}[(\\hat{Y} - \\mathbb{E}[\\hat{Y}])^2]$.\n",
    "\n",
    "\n",
    "Hints:\n",
    "- Use the identity : $(\\hat{Y} - Y) = (\\hat{Y} - \\mathbb{E}[\\hat{Y}]) + (\\mathbb{E}[\\hat{Y}] - Y) = (\\hat{Y} - \\mathbb{E}[\\hat{Y}]) + \\text{Bias}(\\hat{Y})$\n",
    "- Start by expanding the expression $(\\hat{Y} - Y)^2$ to isolate the terms involving $\\hat{Y}$ and $Y$."
   ]
  },
  {
   "cell_type": "markdown",
   "metadata": {
    "tags": []
   },
   "source": [
    "Solution: \n",
    "MSE = $\\mathbb{E}[(\\hat{Y} - Y)^2] ]$\n",
    "\n",
    "Substitute the identity into the MSE: \n",
    "\n",
    "MSE = $\\mathbb{E}[(\\hat{Y} - \\mathbb{E}[\\hat{Y}] + \\mathbb{E}[\\hat{Y}] - Y)^2] ]$\n",
    "\n",
    "Use formula $(a+b)^2=a^2+2ab+b^2$\n",
    "$(\\hat{Y} - \\mathbb{E}[\\hat{Y}] + \\mathbb{E}[\\hat{Y}] - Y)^2 = (\\hat{Y} - \\mathbb{E}[\\hat{Y}])^2 + 2(\\hat{Y} -\\mathbb{E}[\\hat{Y}])(\\mathbb{E}[\\hat{Y}] - Y) + (\\mathbb{E}\\hat{Y}] - Y)^2$\n",
    "\n",
    "Take the expectation of both sides: $[ \\mathbb{E}[(\\hat{Y} - Y)^2] = \\mathbb{E}[(\\hat{Y} - \\mathbb{E}[\\hat{Y}])^2] + \\mathbb{E}[(\\mathbb{E}[\\hat{Y}] - Y)^2] + 2 \\mathbb{E}[(\\hat{Y} - \\mathbb{E}[\\hat{Y}])(\\mathbb{E}[\\hat{Y}] - Y)] ]$\n"
   ]
  },
  {
   "cell_type": "markdown",
   "metadata": {},
   "source": [
    "# Coding exercise"
   ]
  },
  {
   "cell_type": "code",
   "execution_count": 8,
   "metadata": {
    "tags": []
   },
   "outputs": [],
   "source": [
    "import pandas as pd\n",
    "#import numpy as np\n",
    "import matplotlib.pyplot as plt # you can also use seaborn if you prefer\n",
    "\n",
    "from sklearn.ensemble import GradientBoostingRegressor\n",
    "\n",
    "# Import the other necessary library here\n",
    "from sklearn.preprocessing import OneHotEncoder, LabelEncoder, StandardScaler\n",
    "from sklearn.model_selection import train_test_split\n",
    "import seaborn as sns\n",
    "from sklearn.ensemble import GradientBoostingRegressor\n",
    "from sklearn.metrics import mean_squared_error"
   ]
  },
  {
   "cell_type": "code",
   "execution_count": 9,
   "metadata": {
    "tags": []
   },
   "outputs": [],
   "source": [
    "# import the dataset\n",
    "df = pd.read_csv(\"C:\\\\Users\\\\Darya\\\\Desktop\\\\№7 Lecture support materials, lectures, seminars and labs\\\\Seminars\\\\Machine learning\\\\Sis\\\\cars.csv\")\n",
    "df = df.fillna(value=float(0)) # replace NaN by float(0) (don't do this automatically in future projects, it can be source of under or overfitting. It should be done precociously)"
   ]
  },
  {
   "cell_type": "code",
   "execution_count": 10,
   "metadata": {
    "tags": []
   },
   "outputs": [
    {
     "data": {
      "text/html": [
       "<div>\n",
       "<style scoped>\n",
       "    .dataframe tbody tr th:only-of-type {\n",
       "        vertical-align: middle;\n",
       "    }\n",
       "\n",
       "    .dataframe tbody tr th {\n",
       "        vertical-align: top;\n",
       "    }\n",
       "\n",
       "    .dataframe thead th {\n",
       "        text-align: right;\n",
       "    }\n",
       "</style>\n",
       "<table border=\"1\" class=\"dataframe\">\n",
       "  <thead>\n",
       "    <tr style=\"text-align: right;\">\n",
       "      <th></th>\n",
       "      <th>name</th>\n",
       "      <th>year</th>\n",
       "      <th>selling_price</th>\n",
       "      <th>km_driven</th>\n",
       "      <th>fuel</th>\n",
       "      <th>seller_type</th>\n",
       "      <th>transmission</th>\n",
       "      <th>owner</th>\n",
       "      <th>mileage</th>\n",
       "      <th>engine</th>\n",
       "      <th>max_power</th>\n",
       "      <th>seats</th>\n",
       "    </tr>\n",
       "  </thead>\n",
       "  <tbody>\n",
       "    <tr>\n",
       "      <th>0</th>\n",
       "      <td>Maruti Swift Dzire VDI</td>\n",
       "      <td>2014</td>\n",
       "      <td>450000</td>\n",
       "      <td>145500</td>\n",
       "      <td>Diesel</td>\n",
       "      <td>Individual</td>\n",
       "      <td>Manual</td>\n",
       "      <td>First Owner</td>\n",
       "      <td>23.40</td>\n",
       "      <td>1248.0</td>\n",
       "      <td>74.00</td>\n",
       "      <td>5.0</td>\n",
       "    </tr>\n",
       "    <tr>\n",
       "      <th>1</th>\n",
       "      <td>Skoda Rapid 1.5 TDI Ambition</td>\n",
       "      <td>2014</td>\n",
       "      <td>370000</td>\n",
       "      <td>120000</td>\n",
       "      <td>Diesel</td>\n",
       "      <td>Individual</td>\n",
       "      <td>Manual</td>\n",
       "      <td>Second Owner</td>\n",
       "      <td>21.14</td>\n",
       "      <td>1498.0</td>\n",
       "      <td>103.52</td>\n",
       "      <td>5.0</td>\n",
       "    </tr>\n",
       "    <tr>\n",
       "      <th>2</th>\n",
       "      <td>Honda City 2017-2020 EXi</td>\n",
       "      <td>2006</td>\n",
       "      <td>158000</td>\n",
       "      <td>140000</td>\n",
       "      <td>Petrol</td>\n",
       "      <td>Individual</td>\n",
       "      <td>Manual</td>\n",
       "      <td>Third Owner</td>\n",
       "      <td>17.70</td>\n",
       "      <td>1497.0</td>\n",
       "      <td>78.00</td>\n",
       "      <td>5.0</td>\n",
       "    </tr>\n",
       "    <tr>\n",
       "      <th>3</th>\n",
       "      <td>Hyundai i20 Sportz Diesel</td>\n",
       "      <td>2010</td>\n",
       "      <td>225000</td>\n",
       "      <td>127000</td>\n",
       "      <td>Diesel</td>\n",
       "      <td>Individual</td>\n",
       "      <td>Manual</td>\n",
       "      <td>First Owner</td>\n",
       "      <td>23.00</td>\n",
       "      <td>1396.0</td>\n",
       "      <td>90.00</td>\n",
       "      <td>5.0</td>\n",
       "    </tr>\n",
       "    <tr>\n",
       "      <th>4</th>\n",
       "      <td>Maruti Swift VXI BSIII</td>\n",
       "      <td>2007</td>\n",
       "      <td>130000</td>\n",
       "      <td>120000</td>\n",
       "      <td>Petrol</td>\n",
       "      <td>Individual</td>\n",
       "      <td>Manual</td>\n",
       "      <td>First Owner</td>\n",
       "      <td>16.10</td>\n",
       "      <td>1298.0</td>\n",
       "      <td>88.20</td>\n",
       "      <td>5.0</td>\n",
       "    </tr>\n",
       "  </tbody>\n",
       "</table>\n",
       "</div>"
      ],
      "text/plain": [
       "                           name  year  selling_price  km_driven    fuel  \\\n",
       "0        Maruti Swift Dzire VDI  2014         450000     145500  Diesel   \n",
       "1  Skoda Rapid 1.5 TDI Ambition  2014         370000     120000  Diesel   \n",
       "2      Honda City 2017-2020 EXi  2006         158000     140000  Petrol   \n",
       "3     Hyundai i20 Sportz Diesel  2010         225000     127000  Diesel   \n",
       "4        Maruti Swift VXI BSIII  2007         130000     120000  Petrol   \n",
       "\n",
       "  seller_type transmission         owner  mileage  engine  max_power  seats  \n",
       "0  Individual       Manual   First Owner    23.40  1248.0      74.00    5.0  \n",
       "1  Individual       Manual  Second Owner    21.14  1498.0     103.52    5.0  \n",
       "2  Individual       Manual   Third Owner    17.70  1497.0      78.00    5.0  \n",
       "3  Individual       Manual   First Owner    23.00  1396.0      90.00    5.0  \n",
       "4  Individual       Manual   First Owner    16.10  1298.0      88.20    5.0  "
      ]
     },
     "execution_count": 10,
     "metadata": {},
     "output_type": "execute_result"
    }
   ],
   "source": [
    "df.head()"
   ]
  },
  {
   "cell_type": "markdown",
   "metadata": {},
   "source": [
    "### 1. Analyse your dataset. How many features and columns do we have ?"
   ]
  },
  {
   "cell_type": "code",
   "execution_count": 11,
   "metadata": {
    "tags": []
   },
   "outputs": [
    {
     "name": "stdout",
     "output_type": "stream",
     "text": [
      "                           name  year  selling_price  km_driven    fuel  \\\n",
      "0        Maruti Swift Dzire VDI  2014         450000     145500  Diesel   \n",
      "1  Skoda Rapid 1.5 TDI Ambition  2014         370000     120000  Diesel   \n",
      "2      Honda City 2017-2020 EXi  2006         158000     140000  Petrol   \n",
      "3     Hyundai i20 Sportz Diesel  2010         225000     127000  Diesel   \n",
      "4        Maruti Swift VXI BSIII  2007         130000     120000  Petrol   \n",
      "\n",
      "  seller_type transmission         owner  mileage  engine  max_power  seats  \n",
      "0  Individual       Manual   First Owner    23.40  1248.0      74.00    5.0  \n",
      "1  Individual       Manual  Second Owner    21.14  1498.0     103.52    5.0  \n",
      "2  Individual       Manual   Third Owner    17.70  1497.0      78.00    5.0  \n",
      "3  Individual       Manual   First Owner    23.00  1396.0      90.00    5.0  \n",
      "4  Individual       Manual   First Owner    16.10  1298.0      88.20    5.0  \n",
      "\n",
      "Dataset contains of 8128 rows and 12 columns\n"
     ]
    }
   ],
   "source": [
    "print(df.head())\n",
    "num_rows = df.shape[0]\n",
    "num_columns = df.shape[1]\n",
    "print(f\"\\nDataset contains of {num_rows} rows and {num_columns} columns\")\n"
   ]
  },
  {
   "cell_type": "markdown",
   "metadata": {},
   "source": [
    "### 2. What categorical variables are ordinal or nominal ? Encode them using OHE and Label encoder from SKLearn. "
   ]
  },
  {
   "cell_type": "code",
   "execution_count": 12,
   "metadata": {
    "tags": []
   },
   "outputs": [
    {
     "name": "stdout",
     "output_type": "stream",
     "text": [
      "First few rows\n",
      "                           name  year  selling_price  km_driven    fuel  \\\n",
      "0        Maruti Swift Dzire VDI  2014         450000     145500  Diesel   \n",
      "1  Skoda Rapid 1.5 TDI Ambition  2014         370000     120000  Diesel   \n",
      "2      Honda City 2017-2020 EXi  2006         158000     140000  Petrol   \n",
      "3     Hyundai i20 Sportz Diesel  2010         225000     127000  Diesel   \n",
      "4        Maruti Swift VXI BSIII  2007         130000     120000  Petrol   \n",
      "\n",
      "  seller_type transmission         owner  mileage  engine  max_power  seats  \n",
      "0  Individual       Manual   First Owner    23.40  1248.0      74.00    5.0  \n",
      "1  Individual       Manual  Second Owner    21.14  1498.0     103.52    5.0  \n",
      "2  Individual       Manual   Third Owner    17.70  1497.0      78.00    5.0  \n",
      "3  Individual       Manual   First Owner    23.00  1396.0      90.00    5.0  \n",
      "4  Individual       Manual   First Owner    16.10  1298.0      88.20    5.0  \n",
      "\n",
      "Categorical variables:\n",
      "Index(['name', 'fuel', 'seller_type', 'transmission', 'owner'], dtype='object')\n",
      "\n",
      "First few rows of the encoded dataset:\n",
      "                           name  year  selling_price  km_driven  mileage  \\\n",
      "0        Maruti Swift Dzire VDI  2014         450000     145500    23.40   \n",
      "1  Skoda Rapid 1.5 TDI Ambition  2014         370000     120000    21.14   \n",
      "2      Honda City 2017-2020 EXi  2006         158000     140000    17.70   \n",
      "3     Hyundai i20 Sportz Diesel  2010         225000     127000    23.00   \n",
      "4        Maruti Swift VXI BSIII  2007         130000     120000    16.10   \n",
      "\n",
      "   engine  max_power  seats  fuel_Diesel  fuel_LPG  fuel_Petrol  \\\n",
      "0  1248.0      74.00    5.0          1.0       0.0          0.0   \n",
      "1  1498.0     103.52    5.0          1.0       0.0          0.0   \n",
      "2  1497.0      78.00    5.0          0.0       0.0          1.0   \n",
      "3  1396.0      90.00    5.0          1.0       0.0          0.0   \n",
      "4  1298.0      88.20    5.0          0.0       0.0          1.0   \n",
      "\n",
      "   seller_type_Individual  seller_type_Trustmark Dealer  transmission_Manual  \\\n",
      "0                     1.0                           0.0                  1.0   \n",
      "1                     1.0                           0.0                  1.0   \n",
      "2                     1.0                           0.0                  1.0   \n",
      "3                     1.0                           0.0                  1.0   \n",
      "4                     1.0                           0.0                  1.0   \n",
      "\n",
      "   owner  \n",
      "0      0  \n",
      "1      2  \n",
      "2      4  \n",
      "3      0  \n",
      "4      0  \n"
     ]
    },
    {
     "name": "stderr",
     "output_type": "stream",
     "text": [
      "C:\\ProgramData\\anaconda3\\Lib\\site-packages\\sklearn\\preprocessing\\_encoders.py:972: FutureWarning: `sparse` was renamed to `sparse_output` in version 1.2 and will be removed in 1.4. `sparse_output` is ignored unless you leave `sparse` to its default value.\n",
      "  warnings.warn(\n"
     ]
    }
   ],
   "source": [
    "print(\"First few rows\")\n",
    "print(df.head())\n",
    "\n",
    "#categorical_columns = df.columns\n",
    "categorical_columns = df.select_dtypes(include=['object']).columns\n",
    "print(\"\\nCategorical variables:\")\n",
    "print(categorical_columns)\n",
    "\n",
    "ordinal_columns = ['owner']\n",
    "nomical_columns = ['fuel', 'seller_type', 'transmission']\n",
    "\n",
    "encoder = OneHotEncoder(sparse=False, drop='first')\n",
    "encoded_nominal = pd.DataFrame(encoder.fit_transform(df[nomical_columns]), columns=encoder.get_feature_names_out(nomical_columns))\n",
    "#encoded_nominal = encoder.fit_transform(df[nomical_columns]), columns=ohe.get_feature_names_out(nomical_columns)\n",
    "#print(encoded_nominal)\n",
    "\n",
    "le = LabelEncoder()\n",
    "encoded_ordinal = df[ordinal_columns].apply(lambda col: le.fit_transform(col))\n",
    "\n",
    "df = df.drop(columns=nomical_columns + ordinal_columns)\n",
    "df = pd.concat([df, encoded_nominal, encoded_ordinal], axis=1)\n",
    "\n",
    "print(\"\\nFirst few rows of the encoded dataset:\")\n",
    "print(df.head())\n"
   ]
  },
  {
   "cell_type": "markdown",
   "metadata": {},
   "source": [
    "### 3. Plot the distributions of Year, km_driven and mileage data. What could be a problem for convergence ?"
   ]
  },
  {
   "cell_type": "code",
   "execution_count": 13,
   "metadata": {
    "tags": []
   },
   "outputs": [
    {
     "data": {
      "image/png": "[encoded data removed]",
      "text/plain": [
       "<Figure size 1200x600 with 1 Axes>"
      ]
     },
     "metadata": {},
     "output_type": "display_data"
    },
    {
     "data": {
      "image/png": "[encoded data removed]",
      "text/plain": [
       "<Figure size 1200x600 with 1 Axes>"
      ]
     },
     "metadata": {},
     "output_type": "display_data"
    },
    {
     "data": {
      "image/png": "[encoded data removed]",
      "text/plain": [
       "<Figure size 1200x600 with 1 Axes>"
      ]
     },
     "metadata": {},
     "output_type": "display_data"
    },
    {
     "name": "stdout",
     "output_type": "stream",
     "text": [
      "Summary statistics for year:\n",
      "count    8128.000000\n",
      "mean     2013.804011\n",
      "std         4.044249\n",
      "min      1983.000000\n",
      "25%      2011.000000\n",
      "50%      2015.000000\n",
      "75%      2017.000000\n",
      "max      2020.000000\n",
      "Name: year, dtype: float64\n",
      "\n",
      "Summary statistics for km_driven:\n",
      "count    8.128000e+03\n",
      "mean     6.981951e+04\n",
      "std      5.655055e+04\n",
      "min      1.000000e+00\n",
      "25%      3.500000e+04\n",
      "50%      6.000000e+04\n",
      "75%      9.800000e+04\n",
      "max      2.360457e+06\n",
      "Name: km_driven, dtype: float64\n",
      "\n",
      "Summary statistics for mileage:\n",
      "count    8128.000000\n",
      "mean       18.802005\n",
      "std         5.165302\n",
      "min        -1.000000\n",
      "25%        16.251852\n",
      "50%        19.100000\n",
      "75%        22.070000\n",
      "max        42.000000\n",
      "Name: mileage, dtype: float64\n",
      "\n",
      "Missing values in the dataset:\n",
      "name                            0\n",
      "year                            0\n",
      "selling_price                   0\n",
      "km_driven                       0\n",
      "mileage                         0\n",
      "engine                          0\n",
      "max_power                       0\n",
      "seats                           0\n",
      "fuel_Diesel                     0\n",
      "fuel_LPG                        0\n",
      "fuel_Petrol                     0\n",
      "seller_type_Individual          0\n",
      "seller_type_Trustmark Dealer    0\n",
      "transmission_Manual             0\n",
      "owner                           0\n",
      "dtype: int64\n"
     ]
    }
   ],
   "source": [
    "import seaborn as sns\n",
    "plt.figure(figsize=(12, 6))\n",
    "#plt.plot(df['year'])\n",
    "sns.histplot(df['year'], bins=15)\n",
    "\n",
    "plt.title(\"Distribution of Year\")\n",
    "plt.xlabel('year')\n",
    "plt.show()\n",
    "\n",
    "plt.figure(figsize=(12, 6))\n",
    "sns.histplot(df['km_driven'], bins=15)\n",
    "plt.title(\"Distribution of km_driven\")\n",
    "plt.xlabel('km_driven')\n",
    "plt.show()\n",
    "\n",
    "plt.figure(figsize=(12, 6))\n",
    "#sns.histplot(df['mileage'].dropna(), bins=15)\n",
    "\n",
    "sns.histplot(df['mileage'], bins=15)\n",
    "plt.title(\"Distribution of Mileage\")\n",
    "plt.xlabel('Mileage')\n",
    "plt.show()\n",
    "\n",
    "#Problems for convergence\n",
    "print(\"Summary statistics for year:\")\n",
    "print(df['year'].describe())\n",
    "print(\"\\nSummary statistics for km_driven:\")\n",
    "print(df['km_driven'].describe())\n",
    "print(\"\\nSummary statistics for mileage:\")\n",
    "print(df['mileage'].describe())\n",
    "\n",
    "print(\"\\nMissing values in the dataset:\")\n",
    "print(df.isnull().sum())\n"
   ]
  },
  {
   "cell_type": "markdown",
   "metadata": {},
   "source": [
    "### 4. Scale those three numerical features, use whatever scaler you want"
   ]
  },
  {
   "cell_type": "code",
   "execution_count": 14,
   "metadata": {
    "tags": []
   },
   "outputs": [
    {
     "name": "stdout",
     "output_type": "stream",
     "text": [
      "First few rows:\n"
     ]
    },
    {
     "data": {
      "text/html": [
       "<div>\n",
       "<style scoped>\n",
       "    .dataframe tbody tr th:only-of-type {\n",
       "        vertical-align: middle;\n",
       "    }\n",
       "\n",
       "    .dataframe tbody tr th {\n",
       "        vertical-align: top;\n",
       "    }\n",
       "\n",
       "    .dataframe thead th {\n",
       "        text-align: right;\n",
       "    }\n",
       "</style>\n",
       "<table border=\"1\" class=\"dataframe\">\n",
       "  <thead>\n",
       "    <tr style=\"text-align: right;\">\n",
       "      <th></th>\n",
       "      <th>name</th>\n",
       "      <th>year</th>\n",
       "      <th>selling_price</th>\n",
       "      <th>km_driven</th>\n",
       "      <th>mileage</th>\n",
       "      <th>engine</th>\n",
       "      <th>max_power</th>\n",
       "      <th>seats</th>\n",
       "      <th>fuel_Diesel</th>\n",
       "      <th>fuel_LPG</th>\n",
       "      <th>fuel_Petrol</th>\n",
       "      <th>seller_type_Individual</th>\n",
       "      <th>seller_type_Trustmark Dealer</th>\n",
       "      <th>transmission_Manual</th>\n",
       "      <th>owner</th>\n",
       "    </tr>\n",
       "  </thead>\n",
       "  <tbody>\n",
       "    <tr>\n",
       "      <th>0</th>\n",
       "      <td>Maruti Swift Dzire VDI</td>\n",
       "      <td>0.048464</td>\n",
       "      <td>450000</td>\n",
       "      <td>1.338363</td>\n",
       "      <td>0.890224</td>\n",
       "      <td>1248.0</td>\n",
       "      <td>74.00</td>\n",
       "      <td>5.0</td>\n",
       "      <td>1.0</td>\n",
       "      <td>0.0</td>\n",
       "      <td>0.0</td>\n",
       "      <td>1.0</td>\n",
       "      <td>0.0</td>\n",
       "      <td>1.0</td>\n",
       "      <td>0</td>\n",
       "    </tr>\n",
       "    <tr>\n",
       "      <th>1</th>\n",
       "      <td>Skoda Rapid 1.5 TDI Ambition</td>\n",
       "      <td>0.048464</td>\n",
       "      <td>370000</td>\n",
       "      <td>0.887411</td>\n",
       "      <td>0.452663</td>\n",
       "      <td>1498.0</td>\n",
       "      <td>103.52</td>\n",
       "      <td>5.0</td>\n",
       "      <td>1.0</td>\n",
       "      <td>0.0</td>\n",
       "      <td>0.0</td>\n",
       "      <td>1.0</td>\n",
       "      <td>0.0</td>\n",
       "      <td>1.0</td>\n",
       "      <td>2</td>\n",
       "    </tr>\n",
       "    <tr>\n",
       "      <th>2</th>\n",
       "      <td>Honda City 2017-2020 EXi</td>\n",
       "      <td>-1.929775</td>\n",
       "      <td>158000</td>\n",
       "      <td>1.241098</td>\n",
       "      <td>-0.213361</td>\n",
       "      <td>1497.0</td>\n",
       "      <td>78.00</td>\n",
       "      <td>5.0</td>\n",
       "      <td>0.0</td>\n",
       "      <td>0.0</td>\n",
       "      <td>1.0</td>\n",
       "      <td>1.0</td>\n",
       "      <td>0.0</td>\n",
       "      <td>1.0</td>\n",
       "      <td>4</td>\n",
       "    </tr>\n",
       "    <tr>\n",
       "      <th>3</th>\n",
       "      <td>Hyundai i20 Sportz Diesel</td>\n",
       "      <td>-0.940656</td>\n",
       "      <td>225000</td>\n",
       "      <td>1.011202</td>\n",
       "      <td>0.812780</td>\n",
       "      <td>1396.0</td>\n",
       "      <td>90.00</td>\n",
       "      <td>5.0</td>\n",
       "      <td>1.0</td>\n",
       "      <td>0.0</td>\n",
       "      <td>0.0</td>\n",
       "      <td>1.0</td>\n",
       "      <td>0.0</td>\n",
       "      <td>1.0</td>\n",
       "      <td>0</td>\n",
       "    </tr>\n",
       "    <tr>\n",
       "      <th>4</th>\n",
       "      <td>Maruti Swift VXI BSIII</td>\n",
       "      <td>-1.682495</td>\n",
       "      <td>130000</td>\n",
       "      <td>0.887411</td>\n",
       "      <td>-0.523139</td>\n",
       "      <td>1298.0</td>\n",
       "      <td>88.20</td>\n",
       "      <td>5.0</td>\n",
       "      <td>0.0</td>\n",
       "      <td>0.0</td>\n",
       "      <td>1.0</td>\n",
       "      <td>1.0</td>\n",
       "      <td>0.0</td>\n",
       "      <td>1.0</td>\n",
       "      <td>0</td>\n",
       "    </tr>\n",
       "  </tbody>\n",
       "</table>\n",
       "</div>"
      ],
      "text/plain": [
       "                           name      year  selling_price  km_driven   mileage  \\\n",
       "0        Maruti Swift Dzire VDI  0.048464         450000   1.338363  0.890224   \n",
       "1  Skoda Rapid 1.5 TDI Ambition  0.048464         370000   0.887411  0.452663   \n",
       "2      Honda City 2017-2020 EXi -1.929775         158000   1.241098 -0.213361   \n",
       "3     Hyundai i20 Sportz Diesel -0.940656         225000   1.011202  0.812780   \n",
       "4        Maruti Swift VXI BSIII -1.682495         130000   0.887411 -0.523139   \n",
       "\n",
       "   engine  max_power  seats  fuel_Diesel  fuel_LPG  fuel_Petrol  \\\n",
       "0  1248.0      74.00    5.0          1.0       0.0          0.0   \n",
       "1  1498.0     103.52    5.0          1.0       0.0          0.0   \n",
       "2  1497.0      78.00    5.0          0.0       0.0          1.0   \n",
       "3  1396.0      90.00    5.0          1.0       0.0          0.0   \n",
       "4  1298.0      88.20    5.0          0.0       0.0          1.0   \n",
       "\n",
       "   seller_type_Individual  seller_type_Trustmark Dealer  transmission_Manual  \\\n",
       "0                     1.0                           0.0                  1.0   \n",
       "1                     1.0                           0.0                  1.0   \n",
       "2                     1.0                           0.0                  1.0   \n",
       "3                     1.0                           0.0                  1.0   \n",
       "4                     1.0                           0.0                  1.0   \n",
       "\n",
       "   owner  \n",
       "0      0  \n",
       "1      2  \n",
       "2      4  \n",
       "3      0  \n",
       "4      0  "
      ]
     },
     "execution_count": 14,
     "metadata": {},
     "output_type": "execute_result"
    }
   ],
   "source": [
    "features_to_scale = ['year', 'km_driven', 'mileage']\n",
    "df = df.dropna(axis = 0, subset=features_to_scale)\n",
    "features = df[features_to_scale]\n",
    "scales = StandardScaler()\n",
    "scaler_features = scales.fit_transform(features)\n",
    "scaler_features_df = pd.DataFrame(scaler_features, columns=features_to_scale)\n",
    "df[features_to_scale] = scaler_features_df\n",
    "print(\"First few rows:\")\n",
    "df.head()\n"
   ]
  },
  {
   "cell_type": "markdown",
   "metadata": {},
   "source": [
    "### 5. Select Features and Target Variable\n",
    "Separate X's to y"
   ]
  },
  {
   "cell_type": "code",
   "execution_count": 15,
   "metadata": {},
   "outputs": [
    {
     "name": "stdout",
     "output_type": "stream",
     "text": [
      "First few rows:\n",
      "                           name      year  selling_price  km_driven   mileage  \\\n",
      "0        Maruti Swift Dzire VDI  0.048464         450000   1.338363  0.890224   \n",
      "1  Skoda Rapid 1.5 TDI Ambition  0.048464         370000   0.887411  0.452663   \n",
      "2      Honda City 2017-2020 EXi -1.929775         158000   1.241098 -0.213361   \n",
      "3     Hyundai i20 Sportz Diesel -0.940656         225000   1.011202  0.812780   \n",
      "4        Maruti Swift VXI BSIII -1.682495         130000   0.887411 -0.523139   \n",
      "\n",
      "   engine  max_power  seats  fuel_Diesel  fuel_LPG  fuel_Petrol  \\\n",
      "0  1248.0      74.00    5.0          1.0       0.0          0.0   \n",
      "1  1498.0     103.52    5.0          1.0       0.0          0.0   \n",
      "2  1497.0      78.00    5.0          0.0       0.0          1.0   \n",
      "3  1396.0      90.00    5.0          1.0       0.0          0.0   \n",
      "4  1298.0      88.20    5.0          0.0       0.0          1.0   \n",
      "\n",
      "   seller_type_Individual  seller_type_Trustmark Dealer  transmission_Manual  \\\n",
      "0                     1.0                           0.0                  1.0   \n",
      "1                     1.0                           0.0                  1.0   \n",
      "2                     1.0                           0.0                  1.0   \n",
      "3                     1.0                           0.0                  1.0   \n",
      "4                     1.0                           0.0                  1.0   \n",
      "\n",
      "   owner  \n",
      "0      0  \n",
      "1      2  \n",
      "2      4  \n",
      "3      0  \n",
      "4      0  \n",
      "First few rows of X:\n",
      "   engine  fuel_Diesel  fuel_LPG  fuel_Petrol  km_driven  max_power   mileage  \\\n",
      "0  1248.0          1.0       0.0          0.0   1.338363      74.00  0.890224   \n",
      "1  1498.0          1.0       0.0          0.0   0.887411     103.52  0.452663   \n",
      "2  1497.0          0.0       0.0          1.0   1.241098      78.00 -0.213361   \n",
      "3  1396.0          1.0       0.0          0.0   1.011202      90.00  0.812780   \n",
      "4  1298.0          0.0       0.0          1.0   0.887411      88.20 -0.523139   \n",
      "\n",
      "                           name  owner  seats  seller_type_Individual  \\\n",
      "0        Maruti Swift Dzire VDI      0    5.0                     1.0   \n",
      "1  Skoda Rapid 1.5 TDI Ambition      2    5.0                     1.0   \n",
      "2      Honda City 2017-2020 EXi      4    5.0                     1.0   \n",
      "3     Hyundai i20 Sportz Diesel      0    5.0                     1.0   \n",
      "4        Maruti Swift VXI BSIII      0    5.0                     1.0   \n",
      "\n",
      "   seller_type_Trustmark Dealer  transmission_Manual      year  \n",
      "0                           0.0                  1.0  0.048464  \n",
      "1                           0.0                  1.0  0.048464  \n",
      "2                           0.0                  1.0 -1.929775  \n",
      "3                           0.0                  1.0 -0.940656  \n",
      "4                           0.0                  1.0 -1.682495  \n",
      "First few rows of y:\n",
      "0    450000\n",
      "1    370000\n",
      "2    158000\n",
      "3    225000\n",
      "4    130000\n",
      "Name: selling_price, dtype: int64\n"
     ]
    }
   ],
   "source": [
    "print(\"First few rows:\")\n",
    "print(df.head())\n",
    "\n",
    "target = 'selling_price'\n",
    "features = df.columns.difference([target])\n",
    "X = df[features]\n",
    "y = df[target]\n",
    "\n",
    "print(\"First few rows of X:\")\n",
    "print(X.head())\n",
    "print(\"First few rows of y:\")\n",
    "print(y.head())\n"
   ]
  },
  {
   "cell_type": "markdown",
   "metadata": {},
   "source": [
    "### 6. Plot the distribution of the Target variable "
   ]
  },
  {
   "cell_type": "code",
   "execution_count": 16,
   "metadata": {},
   "outputs": [
    {
     "data": {
      "image/png": "[encoded data removed]",
      "text/plain": [
       "<Figure size 1200x600 with 1 Axes>"
      ]
     },
     "metadata": {},
     "output_type": "display_data"
    }
   ],
   "source": [
    "plt.figure(figsize=(12,6))\n",
    "sns.histplot(y, bins=20)\n",
    "plt.title(\"Distribution of the selling price\")\n",
    "plt.xlabel('Selling price')\n",
    "plt.show()"
   ]
  },
  {
   "cell_type": "markdown",
   "metadata": {},
   "source": [
    "### 7. Split the Data\n",
    "Split the dataset into training and testing sets. You should then have four dataset, X_train, X_test, y_train and y_test"
   ]
  },
  {
   "cell_type": "code",
   "execution_count": 23,
   "metadata": {},
   "outputs": [
    {
     "name": "stdout",
     "output_type": "stream",
     "text": [
      "Training and Testing split:\n",
      "X_train: (5445, 13)\n",
      "X_test: (2683, 13)\n",
      "y_train: (5445,)\n",
      "y_test: (2683,)\n"
     ]
    }
   ],
   "source": [
    "X_train, X_test, y_train, y_test = train_test_split(X, y, test_size = 0.33, random_state=42)\n",
    "\n",
    "print(\"Training and Testing split:\")\n",
    "print(\"X_train:\", X_train.shape)\n",
    "print(\"X_test:\", X_test.shape)\n",
    "print(\"y_train:\", y_train.shape)\n",
    "print(\"y_test:\", y_test.shape)\n"
   ]
  },
  {
   "cell_type": "markdown",
   "metadata": {},
   "source": [
    "### 8. Train a Gradient Boosting Model\n",
    "\n",
    "The following code trains an ensemble Model. The class ```GradientBoostingRegressor(*params)```  setup the model and the function ```fit(X_train, y_train)``` trains and fits it.\n",
    "- Use the function ```Predict()``` to predict y, both with your train and test datasets. (have a look at SKlearn documentation to use it)\n",
    "- Compute the train and test Mean Squared Errors.\n"
   ]
  },
  {
   "cell_type": "code",
   "execution_count": 25,
   "metadata": {},
   "outputs": [
    {
     "ename": "ValueError",
     "evalue": "Found input variables with inconsistent numbers of samples: [2683, 5445]",
     "output_type": "error",
     "traceback": [
      "\u001b[1;31m---------------------------------------------------------------------------\u001b[0m",
      "\u001b[1;31mValueError\u001b[0m                                Traceback (most recent call last)",
      "Cell \u001b[1;32mIn[25], line 13\u001b[0m\n\u001b[0;32m     10\u001b[0m y_test_pred \u001b[38;5;241m=\u001b[39m gbr\u001b[38;5;241m.\u001b[39mpredict(X_test)\n\u001b[0;32m     12\u001b[0m \u001b[38;5;66;03m#- Compute the train and test Mean Squared Errors.\u001b[39;00m\n\u001b[1;32m---> 13\u001b[0m mean_train \u001b[38;5;241m=\u001b[39m mean_squared_error(y_test, y_train_pred)\n\u001b[0;32m     14\u001b[0m mean_test \u001b[38;5;241m=\u001b[39m mean_squared_error(y_test, y_test_pred)\n\u001b[0;32m     16\u001b[0m \u001b[38;5;28mprint\u001b[39m(\u001b[38;5;124m\"\u001b[39m\u001b[38;5;130;01m\\n\u001b[39;00m\u001b[38;5;124mMean squared error for train:\u001b[39m\u001b[38;5;124m\"\u001b[39m, mean_train)\n",
      "File \u001b[1;32mC:\\ProgramData\\anaconda3\\Lib\\site-packages\\sklearn\\utils\\_param_validation.py:211\u001b[0m, in \u001b[0;36mvalidate_params.<locals>.decorator.<locals>.wrapper\u001b[1;34m(*args, **kwargs)\u001b[0m\n\u001b[0;32m    205\u001b[0m \u001b[38;5;28;01mtry\u001b[39;00m:\n\u001b[0;32m    206\u001b[0m     \u001b[38;5;28;01mwith\u001b[39;00m config_context(\n\u001b[0;32m    207\u001b[0m         skip_parameter_validation\u001b[38;5;241m=\u001b[39m(\n\u001b[0;32m    208\u001b[0m             prefer_skip_nested_validation \u001b[38;5;129;01mor\u001b[39;00m global_skip_validation\n\u001b[0;32m    209\u001b[0m         )\n\u001b[0;32m    210\u001b[0m     ):\n\u001b[1;32m--> 211\u001b[0m         \u001b[38;5;28;01mreturn\u001b[39;00m func(\u001b[38;5;241m*\u001b[39margs, \u001b[38;5;241m*\u001b[39m\u001b[38;5;241m*\u001b[39mkwargs)\n\u001b[0;32m    212\u001b[0m \u001b[38;5;28;01mexcept\u001b[39;00m InvalidParameterError \u001b[38;5;28;01mas\u001b[39;00m e:\n\u001b[0;32m    213\u001b[0m     \u001b[38;5;66;03m# When the function is just a wrapper around an estimator, we allow\u001b[39;00m\n\u001b[0;32m    214\u001b[0m     \u001b[38;5;66;03m# the function to delegate validation to the estimator, but we replace\u001b[39;00m\n\u001b[0;32m    215\u001b[0m     \u001b[38;5;66;03m# the name of the estimator by the name of the function in the error\u001b[39;00m\n\u001b[0;32m    216\u001b[0m     \u001b[38;5;66;03m# message to avoid confusion.\u001b[39;00m\n\u001b[0;32m    217\u001b[0m     msg \u001b[38;5;241m=\u001b[39m re\u001b[38;5;241m.\u001b[39msub(\n\u001b[0;32m    218\u001b[0m         \u001b[38;5;124mr\u001b[39m\u001b[38;5;124m\"\u001b[39m\u001b[38;5;124mparameter of \u001b[39m\u001b[38;5;124m\\\u001b[39m\u001b[38;5;124mw+ must be\u001b[39m\u001b[38;5;124m\"\u001b[39m,\n\u001b[0;32m    219\u001b[0m         \u001b[38;5;124mf\u001b[39m\u001b[38;5;124m\"\u001b[39m\u001b[38;5;124mparameter of \u001b[39m\u001b[38;5;132;01m{\u001b[39;00mfunc\u001b[38;5;241m.\u001b[39m\u001b[38;5;18m__qualname__\u001b[39m\u001b[38;5;132;01m}\u001b[39;00m\u001b[38;5;124m must be\u001b[39m\u001b[38;5;124m\"\u001b[39m,\n\u001b[0;32m    220\u001b[0m         \u001b[38;5;28mstr\u001b[39m(e),\n\u001b[0;32m    221\u001b[0m     )\n",
      "File \u001b[1;32mC:\\ProgramData\\anaconda3\\Lib\\site-packages\\sklearn\\metrics\\_regression.py:474\u001b[0m, in \u001b[0;36mmean_squared_error\u001b[1;34m(y_true, y_pred, sample_weight, multioutput, squared)\u001b[0m\n\u001b[0;32m    404\u001b[0m \u001b[38;5;129m@validate_params\u001b[39m(\n\u001b[0;32m    405\u001b[0m     {\n\u001b[0;32m    406\u001b[0m         \u001b[38;5;124m\"\u001b[39m\u001b[38;5;124my_true\u001b[39m\u001b[38;5;124m\"\u001b[39m: [\u001b[38;5;124m\"\u001b[39m\u001b[38;5;124marray-like\u001b[39m\u001b[38;5;124m\"\u001b[39m],\n\u001b[1;32m   (...)\u001b[0m\n\u001b[0;32m    415\u001b[0m     y_true, y_pred, \u001b[38;5;241m*\u001b[39m, sample_weight\u001b[38;5;241m=\u001b[39m\u001b[38;5;28;01mNone\u001b[39;00m, multioutput\u001b[38;5;241m=\u001b[39m\u001b[38;5;124m\"\u001b[39m\u001b[38;5;124muniform_average\u001b[39m\u001b[38;5;124m\"\u001b[39m, squared\u001b[38;5;241m=\u001b[39m\u001b[38;5;28;01mTrue\u001b[39;00m\n\u001b[0;32m    416\u001b[0m ):\n\u001b[0;32m    417\u001b[0m \u001b[38;5;250m    \u001b[39m\u001b[38;5;124;03m\"\"\"Mean squared error regression loss.\u001b[39;00m\n\u001b[0;32m    418\u001b[0m \n\u001b[0;32m    419\u001b[0m \u001b[38;5;124;03m    Read more in the :ref:`User Guide <mean_squared_error>`.\u001b[39;00m\n\u001b[1;32m   (...)\u001b[0m\n\u001b[0;32m    472\u001b[0m \u001b[38;5;124;03m    0.825...\u001b[39;00m\n\u001b[0;32m    473\u001b[0m \u001b[38;5;124;03m    \"\"\"\u001b[39;00m\n\u001b[1;32m--> 474\u001b[0m     y_type, y_true, y_pred, multioutput \u001b[38;5;241m=\u001b[39m _check_reg_targets(\n\u001b[0;32m    475\u001b[0m         y_true, y_pred, multioutput\n\u001b[0;32m    476\u001b[0m     )\n\u001b[0;32m    477\u001b[0m     check_consistent_length(y_true, y_pred, sample_weight)\n\u001b[0;32m    478\u001b[0m     output_errors \u001b[38;5;241m=\u001b[39m np\u001b[38;5;241m.\u001b[39maverage((y_true \u001b[38;5;241m-\u001b[39m y_pred) \u001b[38;5;241m*\u001b[39m\u001b[38;5;241m*\u001b[39m \u001b[38;5;241m2\u001b[39m, axis\u001b[38;5;241m=\u001b[39m\u001b[38;5;241m0\u001b[39m, weights\u001b[38;5;241m=\u001b[39msample_weight)\n",
      "File \u001b[1;32mC:\\ProgramData\\anaconda3\\Lib\\site-packages\\sklearn\\metrics\\_regression.py:99\u001b[0m, in \u001b[0;36m_check_reg_targets\u001b[1;34m(y_true, y_pred, multioutput, dtype)\u001b[0m\n\u001b[0;32m     65\u001b[0m \u001b[38;5;28;01mdef\u001b[39;00m \u001b[38;5;21m_check_reg_targets\u001b[39m(y_true, y_pred, multioutput, dtype\u001b[38;5;241m=\u001b[39m\u001b[38;5;124m\"\u001b[39m\u001b[38;5;124mnumeric\u001b[39m\u001b[38;5;124m\"\u001b[39m):\n\u001b[0;32m     66\u001b[0m \u001b[38;5;250m    \u001b[39m\u001b[38;5;124;03m\"\"\"Check that y_true and y_pred belong to the same regression task.\u001b[39;00m\n\u001b[0;32m     67\u001b[0m \n\u001b[0;32m     68\u001b[0m \u001b[38;5;124;03m    Parameters\u001b[39;00m\n\u001b[1;32m   (...)\u001b[0m\n\u001b[0;32m     97\u001b[0m \u001b[38;5;124;03m        correct keyword.\u001b[39;00m\n\u001b[0;32m     98\u001b[0m \u001b[38;5;124;03m    \"\"\"\u001b[39;00m\n\u001b[1;32m---> 99\u001b[0m     check_consistent_length(y_true, y_pred)\n\u001b[0;32m    100\u001b[0m     y_true \u001b[38;5;241m=\u001b[39m check_array(y_true, ensure_2d\u001b[38;5;241m=\u001b[39m\u001b[38;5;28;01mFalse\u001b[39;00m, dtype\u001b[38;5;241m=\u001b[39mdtype)\n\u001b[0;32m    101\u001b[0m     y_pred \u001b[38;5;241m=\u001b[39m check_array(y_pred, ensure_2d\u001b[38;5;241m=\u001b[39m\u001b[38;5;28;01mFalse\u001b[39;00m, dtype\u001b[38;5;241m=\u001b[39mdtype)\n",
      "File \u001b[1;32mC:\\ProgramData\\anaconda3\\Lib\\site-packages\\sklearn\\utils\\validation.py:409\u001b[0m, in \u001b[0;36mcheck_consistent_length\u001b[1;34m(*arrays)\u001b[0m\n\u001b[0;32m    407\u001b[0m uniques \u001b[38;5;241m=\u001b[39m np\u001b[38;5;241m.\u001b[39munique(lengths)\n\u001b[0;32m    408\u001b[0m \u001b[38;5;28;01mif\u001b[39;00m \u001b[38;5;28mlen\u001b[39m(uniques) \u001b[38;5;241m>\u001b[39m \u001b[38;5;241m1\u001b[39m:\n\u001b[1;32m--> 409\u001b[0m     \u001b[38;5;28;01mraise\u001b[39;00m \u001b[38;5;167;01mValueError\u001b[39;00m(\n\u001b[0;32m    410\u001b[0m         \u001b[38;5;124m\"\u001b[39m\u001b[38;5;124mFound input variables with inconsistent numbers of samples: \u001b[39m\u001b[38;5;132;01m%r\u001b[39;00m\u001b[38;5;124m\"\u001b[39m\n\u001b[0;32m    411\u001b[0m         \u001b[38;5;241m%\u001b[39m [\u001b[38;5;28mint\u001b[39m(l) \u001b[38;5;28;01mfor\u001b[39;00m l \u001b[38;5;129;01min\u001b[39;00m lengths]\n\u001b[0;32m    412\u001b[0m     )\n",
      "\u001b[1;31mValueError\u001b[0m: Found input variables with inconsistent numbers of samples: [2683, 5445]"
     ]
    }
   ],
   "source": [
    "n = 10 # number of estimators (relative to model complexity)\n",
    "\n",
    "gbr = GradientBoostingRegressor(n_estimators=n, random_state=42, learning_rate=0.9) # dont change those parameters\n",
    "gbr.fit(X_train, y_train)\n",
    "\n",
    "# YOUR CODE GOES HERE\n",
    "#Use the function ```Predict()``` to predict y, \n",
    "#both with your train and test datasets. (have a look at SKlearn documentation to use it)\n",
    "y_train_pred = gbr.predict(X_train)\n",
    "y_test_pred = gbr.predict(X_test)\n",
    "\n",
    "#- Compute the train and test Mean Squared Errors.\n",
    "mean_train = mean_squared_error(y_test, y_train_pred)\n",
    "mean_test = mean_squared_error(y_test, y_test_pred)\n",
    "\n",
    "print(\"\\nMean squared error for train:\", mean_train)\n",
    "print(\"Mean squared error for test:\", mean_test)\n"
   ]
  },
  {
   "cell_type": "markdown",
   "metadata": {},
   "source": [
    "\n",
    "### Task 6: Increase the model complexity\n",
    "\n",
    "Train your model in a loop that increase the parameter ```n```. Start at n = 10 to n = 5000 and step = 500 (otherwise your code will run for hours).\n",
    "\n",
    "At each iterations : \n",
    "- reset the model\n",
    "- train the model\n",
    "- predict values using X_train\n",
    "- compute the MSE of training and testing sets.\n",
    "- store the new mse in a list"
   ]
  },
  {
   "cell_type": "code",
   "execution_count": null,
   "metadata": {},
   "outputs": [],
   "source": []
  },
  {
   "cell_type": "markdown",
   "metadata": {},
   "source": [
    "### Task 7 : In one figure, plot both train and test MSE evolution, with respect to the model complexity (i.e. n) "
   ]
  },
  {
   "cell_type": "code",
   "execution_count": null,
   "metadata": {},
   "outputs": [],
   "source": []
  },
  {
   "cell_type": "markdown",
   "metadata": {},
   "source": [
    "### Task 8 : What can you observe ?"
   ]
  },
  {
   "cell_type": "markdown",
   "metadata": {},
   "source": []
  },
  {
   "cell_type": "markdown",
   "metadata": {},
   "source": [
    "### Task 9 (Bonus) : In your opinion, what could we change in the code to improve our model fit ? "
   ]
  },
  {
   "cell_type": "markdown",
   "metadata": {},
   "source": []
  }
 ],
 "metadata": {
  "kernelspec": {
   "display_name": "Python 3 (ipykernel)",
   "language": "python",
   "name": "python3"
  },
  "language_info": {
   "codemirror_mode": {
    "name": "ipython",
    "version": 3
   },
   "file_extension": ".py",
   "mimetype": "text/x-python",
   "name": "python",
   "nbconvert_exporter": "python",
   "pygments_lexer": "ipython3",
   "version": "3.11.5"
  }
 },
 "nbformat": 4,
 "nbformat_minor": 4
}
