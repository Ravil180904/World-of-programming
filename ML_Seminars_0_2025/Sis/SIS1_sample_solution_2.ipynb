{
 "cells": [
  {
   "cell_type": "markdown",
   "metadata": {},
   "source": [
    "# SIS 1"
   ]
  },
  {
   "cell_type": "markdown",
   "metadata": {},
   "source": [
    "# Some theoretical questions"
   ]
  },
  {
   "cell_type": "markdown",
   "metadata": {},
   "source": [
    "## Exercise: Comparing MSE and RMSE\n",
    "\n",
    "Given the following set of true values and predicted values from a regression model:\n",
    "\n",
    "**True values :**  \n",
    "\n",
    "$y_i$ = [500, 300, 800, 400, 6000]\n",
    "\n",
    "**Predicted values :** \n",
    "\n",
    "$\\hat{y_i}$ = [450, 350, 780, 420, 910]"
   ]
  },
  {
   "cell_type": "markdown",
   "metadata": {},
   "source": [
    "1. Calculate on paper the **Mean Squared Error (MSE)** for this set of true and predicted values. \n",
    "\n",
    "   The formula for MSE is:  \n",
    "   MSE = $\\frac{1}{n} \\Sigma_{i=1}^n({y_i}-\\hat{y_i})^2$, where n is the number of data points.\n",
    "\n",
    "2. What does the result quantify ? Explain with your own words.\n",
    "\n",
    "3. What are the disadvantages of this metric ?"
   ]
  },
  {
   "cell_type": "markdown",
   "metadata": {},
   "source": [
    "Solution for 1.\n",
    "\n",
    "MSE = $\\frac{1}{n} \\sum_{i=1}^n (y_i - \\hat{Y_i})^2$\n",
    "Calculate the square difference between true and predicted values for each pair: \n",
    "$1.(500-450)^2 = 50^2 = 2500$\n",
    "$2. (300-350)^2 = (-50)^2 = 2500$\n",
    "$3. (800-780)^2 = 20^2 = 400$\n",
    "$4. (400-420)^2 = (-20)^2 = 400$\n",
    "$5. (6000-910)^2 = 5090^2 = 25908100$\n",
    "\n",
    "Then sum all differences: $(2500+2500+400+400+25908100=25913900)$\n",
    "\n",
    "Since n=5 the MSE will be:\n",
    "\n",
    "MSE $= \\frac{25913900}{5} = 5182780$"
   ]
  },
  {
   "cell_type": "markdown",
   "metadata": {},
   "source": [
    "Solution for 2.\n",
    "\n",
    "The MSE quantifies the average square difference between true values and predicted values."
   ]
  },
  {
   "cell_type": "markdown",
   "metadata": {},
   "source": [
    "Solution for 3.\n",
    "\n",
    "1. Sensitive to large errors;\n",
    "2. Hard to interpret"
   ]
  },
  {
   "cell_type": "markdown",
   "metadata": {},
   "source": [
    "4. Calculate the **Root Mean Squared Error (RMSE)** for the same values.\n",
    "\n",
    "   The formula for RMSE is:\n",
    "\n",
    "   RMSE = $\\sqrt{\\frac{1}{n} \\Sigma_{i=1}^n({y_i}-\\hat{y_i})^2} = \\sqrt{MSE}$\n",
    "\n",
    "5. Interprete the results.\n",
    "\n",
    "6. What is the difference with MSE ? How does it make it \"better\" ? In your opinion, why is the RMSE generally preferred in some situations over MSE ?"
   ]
  },
  {
   "cell_type": "markdown",
   "metadata": {},
   "source": [
    "Solution for 4:\n",
    "\n"
   ]
  },
  {
   "cell_type": "markdown",
   "metadata": {},
   "source": [
    "MSE = $5182780$\n",
    "\n",
    "RMSE $= \\sqrt{MSE}$\n",
    "\n",
    "RMSE = $\\sqrt{5182780}$ = $2276.6$\n"
   ]
  },
  {
   "cell_type": "markdown",
   "metadata": {},
   "source": [
    "## Exercise: Bias Variance decomposition of MSE \n",
    "\n",
    "Given a model $\\hat{f}(X)$ that predicts a value based on some input data, and the true value $Y$, prove that the **Mean Squared Error (MSE)** can be decomposed into two components: **Bias** and **Variance**, i.e. $\\text{MSE} = \\mathbb{E}[(\\hat{Y} - Y)^2] = (\\text{Bias}(\\hat{Y}))^2 + \\text{Var}(\\hat{Y}) $\n",
    "\n",
    "Where:\n",
    "- **Bias** is the difference between the expected prediction and the true value, i.e., $\\text{Bias} = \\mathbb{E}[\\hat{Y}] - Y$.\n",
    "- **Variance** is the expected squared deviation of the predicted value from the expected predicted value, i.e., $\\text{Variance} = \\mathbb{E}[(\\hat{Y} - \\mathbb{E}[\\hat{Y}])^2]$.\n",
    "\n",
    "\n",
    "Hints:\n",
    "- Use the identity : $(\\hat{Y} - Y) = (\\hat{Y} - \\mathbb{E}[\\hat{Y}]) + (\\mathbb{E}[\\hat{Y}] - Y) = (\\hat{Y} - \\mathbb{E}[\\hat{Y}]) + \\text{Bias}(\\hat{Y})$\n",
    "- Start by expanding the expression $(\\hat{Y} - Y)^2$ to isolate the terms involving $\\hat{Y}$ and $Y$."
   ]
  },
  {
   "cell_type": "markdown",
   "metadata": {
    "tags": []
   },
   "source": [
    "Solution: \n",
    "MSE = $\\mathbb{E}[(\\hat{Y} - Y)^2] ]$\n",
    "\n",
    "Substitute the identity into the MSE: \n",
    "\n",
    "MSE = $\\mathbb{E}[(\\hat{Y} - \\mathbb{E}[\\hat{Y}] + \\mathbb{E}[\\hat{Y}] - Y)^2] ]$\n",
    "\n",
    "Use formula $(a+b)^2=a^2+2ab+b^2$\n",
    "$(\\hat{Y} - \\mathbb{E}[\\hat{Y}] + \\mathbb{E}[\\hat{Y}] - Y)^2 = (\\hat{Y} - \\mathbb{E}[\\hat{Y}])^2 + 2(\\hat{Y} -\\mathbb{E}[\\hat{Y}])(\\mathbb{E}[\\hat{Y}] - Y) + (\\mathbb{E}\\hat{Y}] - Y)^2$\n",
    "\n",
    "Take the expectation of both sides: $[ \\mathbb{E}[(\\hat{Y} - Y)^2] = \\mathbb{E}[(\\hat{Y} - \\mathbb{E}[\\hat{Y}])^2] + \\mathbb{E}[(\\mathbb{E}[\\hat{Y}] - Y)^2] + 2 \\mathbb{E}[(\\hat{Y} - \\mathbb{E}[\\hat{Y}])(\\mathbb{E}[\\hat{Y}] - Y)] ]$\n"
   ]
  },
  {
   "cell_type": "markdown",
   "metadata": {},
   "source": [
    "# Coding exercise"
   ]
  },
  {
   "cell_type": "code",
   "execution_count": 2,
   "metadata": {
    "tags": []
   },
   "outputs": [],
   "source": [
    "import pandas as pd\n",
    "#import numpy as np\n",
    "import matplotlib.pyplot as plt # you can also use seaborn if you prefer\n",
    "\n",
    "from sklearn.ensemble import GradientBoostingRegressor\n",
    "\n",
    "# Import the other necessary library here\n",
    "from sklearn.preprocessing import OneHotEncoder, LabelEncoder, StandardScaler\n",
    "from sklearn.model_selection import train_test_split\n",
    "import seaborn as sns\n",
    "from sklearn.ensemble import GradientBoostingRegressor\n",
    "from sklearn.metrics import mean_squared_error"
   ]
  },
  {
   "cell_type": "code",
   "execution_count": 3,
   "metadata": {
    "tags": []
   },
   "outputs": [],
   "source": [
    "# import the dataset\n",
    "#df = pd.read_csv(\"C:\\\\Users\\\\Darya\\\\Desktop\\\\№7 Lecture support materials, lectures, seminars and labs\\\\Seminars\\\\Machine learning\\\\Sis\\\\cars.csv\")\n",
    "df = pd.read_csv(\"C:\\\\Users\\\\Darya\\\\Desktop\\\\№7 Lecture support materials, lectures, seminars and labs\\\\Seminars\\\\Machine learning\\\\Sis\\\\cars.csv\")\n",
    "df = df.fillna(value=float(0)) # replace NaN by float(0) (don't do this automatically in future projects, it can be source of under or overfitting. It should be done precociously)"
   ]
  },
  {
   "cell_type": "code",
   "execution_count": 4,
   "metadata": {
    "tags": []
   },
   "outputs": [
    {
     "data": {
      "text/html": [
       "<div>\n",
       "<style scoped>\n",
       "    .dataframe tbody tr th:only-of-type {\n",
       "        vertical-align: middle;\n",
       "    }\n",
       "\n",
       "    .dataframe tbody tr th {\n",
       "        vertical-align: top;\n",
       "    }\n",
       "\n",
       "    .dataframe thead th {\n",
       "        text-align: right;\n",
       "    }\n",
       "</style>\n",
       "<table border=\"1\" class=\"dataframe\">\n",
       "  <thead>\n",
       "    <tr style=\"text-align: right;\">\n",
       "      <th></th>\n",
       "      <th>name</th>\n",
       "      <th>year</th>\n",
       "      <th>selling_price</th>\n",
       "      <th>km_driven</th>\n",
       "      <th>fuel</th>\n",
       "      <th>seller_type</th>\n",
       "      <th>transmission</th>\n",
       "      <th>owner</th>\n",
       "      <th>mileage</th>\n",
       "      <th>engine</th>\n",
       "      <th>max_power</th>\n",
       "      <th>seats</th>\n",
       "    </tr>\n",
       "  </thead>\n",
       "  <tbody>\n",
       "    <tr>\n",
       "      <th>0</th>\n",
       "      <td>Maruti Swift Dzire VDI</td>\n",
       "      <td>2014</td>\n",
       "      <td>450000</td>\n",
       "      <td>145500</td>\n",
       "      <td>Diesel</td>\n",
       "      <td>Individual</td>\n",
       "      <td>Manual</td>\n",
       "      <td>First Owner</td>\n",
       "      <td>23.40</td>\n",
       "      <td>1248.0</td>\n",
       "      <td>74.00</td>\n",
       "      <td>5.0</td>\n",
       "    </tr>\n",
       "    <tr>\n",
       "      <th>1</th>\n",
       "      <td>Skoda Rapid 1.5 TDI Ambition</td>\n",
       "      <td>2014</td>\n",
       "      <td>370000</td>\n",
       "      <td>120000</td>\n",
       "      <td>Diesel</td>\n",
       "      <td>Individual</td>\n",
       "      <td>Manual</td>\n",
       "      <td>Second Owner</td>\n",
       "      <td>21.14</td>\n",
       "      <td>1498.0</td>\n",
       "      <td>103.52</td>\n",
       "      <td>5.0</td>\n",
       "    </tr>\n",
       "    <tr>\n",
       "      <th>2</th>\n",
       "      <td>Honda City 2017-2020 EXi</td>\n",
       "      <td>2006</td>\n",
       "      <td>158000</td>\n",
       "      <td>140000</td>\n",
       "      <td>Petrol</td>\n",
       "      <td>Individual</td>\n",
       "      <td>Manual</td>\n",
       "      <td>Third Owner</td>\n",
       "      <td>17.70</td>\n",
       "      <td>1497.0</td>\n",
       "      <td>78.00</td>\n",
       "      <td>5.0</td>\n",
       "    </tr>\n",
       "    <tr>\n",
       "      <th>3</th>\n",
       "      <td>Hyundai i20 Sportz Diesel</td>\n",
       "      <td>2010</td>\n",
       "      <td>225000</td>\n",
       "      <td>127000</td>\n",
       "      <td>Diesel</td>\n",
       "      <td>Individual</td>\n",
       "      <td>Manual</td>\n",
       "      <td>First Owner</td>\n",
       "      <td>23.00</td>\n",
       "      <td>1396.0</td>\n",
       "      <td>90.00</td>\n",
       "      <td>5.0</td>\n",
       "    </tr>\n",
       "    <tr>\n",
       "      <th>4</th>\n",
       "      <td>Maruti Swift VXI BSIII</td>\n",
       "      <td>2007</td>\n",
       "      <td>130000</td>\n",
       "      <td>120000</td>\n",
       "      <td>Petrol</td>\n",
       "      <td>Individual</td>\n",
       "      <td>Manual</td>\n",
       "      <td>First Owner</td>\n",
       "      <td>16.10</td>\n",
       "      <td>1298.0</td>\n",
       "      <td>88.20</td>\n",
       "      <td>5.0</td>\n",
       "    </tr>\n",
       "  </tbody>\n",
       "</table>\n",
       "</div>"
      ],
      "text/plain": [
       "                           name  year  selling_price  km_driven    fuel  \\\n",
       "0        Maruti Swift Dzire VDI  2014         450000     145500  Diesel   \n",
       "1  Skoda Rapid 1.5 TDI Ambition  2014         370000     120000  Diesel   \n",
       "2      Honda City 2017-2020 EXi  2006         158000     140000  Petrol   \n",
       "3     Hyundai i20 Sportz Diesel  2010         225000     127000  Diesel   \n",
       "4        Maruti Swift VXI BSIII  2007         130000     120000  Petrol   \n",
       "\n",
       "  seller_type transmission         owner  mileage  engine  max_power  seats  \n",
       "0  Individual       Manual   First Owner    23.40  1248.0      74.00    5.0  \n",
       "1  Individual       Manual  Second Owner    21.14  1498.0     103.52    5.0  \n",
       "2  Individual       Manual   Third Owner    17.70  1497.0      78.00    5.0  \n",
       "3  Individual       Manual   First Owner    23.00  1396.0      90.00    5.0  \n",
       "4  Individual       Manual   First Owner    16.10  1298.0      88.20    5.0  "
      ]
     },
     "execution_count": 4,
     "metadata": {},
     "output_type": "execute_result"
    }
   ],
   "source": [
    "df.head()"
   ]
  },
  {
   "cell_type": "code",
   "execution_count": 5,
   "metadata": {
    "tags": []
   },
   "outputs": [
    {
     "ename": "NameError",
     "evalue": "name 'mean_absolute_error' is not defined",
     "output_type": "error",
     "traceback": [
      "\u001b[1;31m---------------------------------------------------------------------------\u001b[0m",
      "\u001b[1;31mNameError\u001b[0m                                 Traceback (most recent call last)",
      "Cell \u001b[1;32mIn[5], line 21\u001b[0m\n\u001b[0;32m     19\u001b[0m mse \u001b[38;5;241m=\u001b[39m mean_squared_error(y_test, y_pred)\n\u001b[0;32m     20\u001b[0m rmse \u001b[38;5;241m=\u001b[39m mse \u001b[38;5;241m*\u001b[39m\u001b[38;5;241m*\u001b[39m \u001b[38;5;241m0.5\u001b[39m\n\u001b[1;32m---> 21\u001b[0m mae \u001b[38;5;241m=\u001b[39m mean_absolute_error(y_test, y_pred)\n\u001b[0;32m     22\u001b[0m r2 \u001b[38;5;241m=\u001b[39m r2_score(y_test, y_pred)\n\u001b[0;32m     24\u001b[0m \u001b[38;5;28mprint\u001b[39m(\u001b[38;5;124mf\u001b[39m\u001b[38;5;124m'\u001b[39m\u001b[38;5;124mMSE: \u001b[39m\u001b[38;5;132;01m{\u001b[39;00mmse\u001b[38;5;132;01m}\u001b[39;00m\u001b[38;5;124m'\u001b[39m)\n",
      "\u001b[1;31mNameError\u001b[0m: name 'mean_absolute_error' is not defined"
     ]
    }
   ],
   "source": [
    "# Selecting the features and target variable\n",
    "X = df[['year', 'km_driven', 'fuel', 'seller_type', 'transmission', 'owner', 'mileage', 'engine', 'max_power', 'seats']]\n",
    "y = df['selling_price']\n",
    "\n",
    "# Encoding categorical variables\n",
    "X = pd.get_dummies(X, columns=['fuel', 'seller_type', 'transmission', 'owner'], drop_first=True)\n",
    "\n",
    "# Splitting the dataset into training and testing sets\n",
    "X_train, X_test, y_train, y_test = train_test_split(X, y, test_size=0.2, random_state=42)\n",
    "\n",
    "# Initializing and training the Gradient Boosting Regressor\n",
    "gbr = GradientBoostingRegressor()\n",
    "gbr.fit(X_train, y_train)\n",
    "\n",
    "# Making predictions\n",
    "y_pred = gbr.predict(X_test)\n",
    "\n",
    "# Calculating metrics\n",
    "mse = mean_squared_error(y_test, y_pred)\n",
    "rmse = mse ** 0.5\n",
    "mae = mean_absolute_error(y_test, y_pred)\n",
    "r2 = r2_score(y_test, y_pred)\n",
    "\n",
    "print(f'MSE: {mse}')\n",
    "print(f'RMSE: {rmse}')\n",
    "print(f'MAE: {mae}')\n",
    "print(f'R^2: {r2}')\n",
    "\n",
    "# Plotting the results\n",
    "plt.figure(figsize=(10,5))\n",
    "plt.scatter(y_test, y_pred, alpha=0.5)\n",
    "plt.plot([y_test.min(), y_test.max()], [y_test.min(), y_test.max()], '--r')\n",
    "plt.xlabel('Actual')\n",
    "plt.ylabel('Predicted')\n",
    "plt.title('Actual vs Predicted Selling Prices')\n",
    "plt.show()"
   ]
  },
  {
   "cell_type": "markdown",
   "metadata": {},
   "source": [
    "### 1. Analyse your dataset. How many features and columns do we have ?"
   ]
  },
  {
   "cell_type": "code",
   "execution_count": 6,
   "metadata": {
    "tags": []
   },
   "outputs": [
    {
     "name": "stdout",
     "output_type": "stream",
     "text": [
      "The dataset contains 8128 rows and 12 columns.\n",
      "                           name  year  selling_price  km_driven    fuel  \\\n",
      "0        Maruti Swift Dzire VDI  2014         450000     145500  Diesel   \n",
      "1  Skoda Rapid 1.5 TDI Ambition  2014         370000     120000  Diesel   \n",
      "2      Honda City 2017-2020 EXi  2006         158000     140000  Petrol   \n",
      "3     Hyundai i20 Sportz Diesel  2010         225000     127000  Diesel   \n",
      "4        Maruti Swift VXI BSIII  2007         130000     120000  Petrol   \n",
      "\n",
      "  seller_type transmission         owner  mileage  engine  max_power  seats  \n",
      "0  Individual       Manual   First Owner    23.40  1248.0      74.00    5.0  \n",
      "1  Individual       Manual  Second Owner    21.14  1498.0     103.52    5.0  \n",
      "2  Individual       Manual   Third Owner    17.70  1497.0      78.00    5.0  \n",
      "3  Individual       Manual   First Owner    23.00  1396.0      90.00    5.0  \n",
      "4  Individual       Manual   First Owner    16.10  1298.0      88.20    5.0  \n"
     ]
    }
   ],
   "source": [
    "# Display the number of features and columns\n",
    "num_features = len(df.columns)\n",
    "num_rows = len(df)\n",
    "print(f\"The dataset contains {num_rows} rows and {num_features} columns.\")\n",
    "\n",
    "# Display the first few rows of the dataset to understand its structure\n",
    "print(df.head())"
   ]
  },
  {
   "cell_type": "markdown",
   "metadata": {},
   "source": [
    "### 2. What categorical variables are ordinal or nominal ? Encode them using OHE and Label encoder from SKLearn. "
   ]
  },
  {
   "cell_type": "code",
   "execution_count": 7,
   "metadata": {
    "tags": []
   },
   "outputs": [
    {
     "name": "stdout",
     "output_type": "stream",
     "text": [
      "                           name  year  selling_price  km_driven  owner  \\\n",
      "0        Maruti Swift Dzire VDI  2014         450000     145500      0   \n",
      "1  Skoda Rapid 1.5 TDI Ambition  2014         370000     120000      2   \n",
      "2      Honda City 2017-2020 EXi  2006         158000     140000      4   \n",
      "3     Hyundai i20 Sportz Diesel  2010         225000     127000      0   \n",
      "4        Maruti Swift VXI BSIII  2007         130000     120000      0   \n",
      "\n",
      "   mileage  engine  max_power  seats  fuel_Diesel  fuel_LPG  fuel_Petrol  \\\n",
      "0    23.40  1248.0      74.00    5.0         True     False        False   \n",
      "1    21.14  1498.0     103.52    5.0         True     False        False   \n",
      "2    17.70  1497.0      78.00    5.0        False     False         True   \n",
      "3    23.00  1396.0      90.00    5.0         True     False        False   \n",
      "4    16.10  1298.0      88.20    5.0        False     False         True   \n",
      "\n",
      "   seller_type_Individual  seller_type_Trustmark Dealer  transmission_Manual  \n",
      "0                    True                         False                 True  \n",
      "1                    True                         False                 True  \n",
      "2                    True                         False                 True  \n",
      "3                    True                         False                 True  \n",
      "4                    True                         False                 True  \n",
      "Ordinal encoding for 'owner':\n",
      "First Owner: 0\n",
      "Fourth & Above Owner: 1\n",
      "Second Owner: 2\n",
      "Test Drive Car: 3\n",
      "Third Owner: 4\n"
     ]
    }
   ],
   "source": [
    "categorical_columns = ['fuel', 'seller_type', 'transmission', 'owner']\n",
    "\n",
    "# Ordinal variables (typically ordered categories)\n",
    "# In this case, we assume 'owner' is ordinal (First Owner, Second Owner, etc.)\n",
    "ordinal_column = 'owner'\n",
    "\n",
    "# Nominal variables (no intrinsic order)\n",
    "nominal_columns = ['fuel', 'seller_type', 'transmission']\n",
    "\n",
    "# Initialize encoders\n",
    "label_encoder = LabelEncoder()\n",
    "one_hot_encoder = OneHotEncoder(sparse=False, drop='first')  # drop='first' to avoid dummy variable trap\n",
    "\n",
    "# Encode ordinal variable\n",
    "df[ordinal_column] = label_encoder.fit_transform(df[ordinal_column])\n",
    "\n",
    "# Encode nominal variables using One-Hot Encoding\n",
    "df_encoded = pd.get_dummies(df, columns=nominal_columns, drop_first=True)\n",
    "\n",
    "# Display the first few rows of the encoded dataset\n",
    "print(df_encoded.head())\n",
    "\n",
    "# Display the encodings for the ordinal variable\n",
    "print(f\"Ordinal encoding for '{ordinal_column}':\")\n",
    "for i, item in enumerate(label_encoder.classes_):\n",
    "    print(f\"{item}: {i}\")"
   ]
  },
  {
   "cell_type": "markdown",
   "metadata": {},
   "source": [
    "### 3. Plot the distributions of Year, km_driven and mileage data. What could be a problem for convergence ?"
   ]
  },
  {
   "cell_type": "code",
   "execution_count": 8,
   "metadata": {
    "tags": []
   },
   "outputs": [
    {
     "data": {
      "image/png": "[encoded data removed]",
      "text/plain": [
       "<Figure size 1500x500 with 3 Axes>"
      ]
     },
     "metadata": {},
     "output_type": "display_data"
    }
   ],
   "source": [
    "# Plot the distributions of Year, km_driven, and mileage\n",
    "plt.figure(figsize=(15, 5))\n",
    "\n",
    "plt.subplot(1, 3, 1)\n",
    "sns.histplot(df['year'], kde=True, bins=20)\n",
    "plt.title('Distribution of Year')\n",
    "\n",
    "plt.subplot(1, 3, 2)\n",
    "sns.histplot(df['km_driven'], kde=True, bins=20)\n",
    "plt.title('Distribution of km_driven')\n",
    "\n",
    "plt.subplot(1, 3, 3)\n",
    "sns.histplot(df['mileage'], kde=True, bins=20)\n",
    "plt.title('Distribution of Mileage')\n",
    "\n",
    "plt.tight_layout()\n",
    "plt.show()"
   ]
  },
  {
   "cell_type": "markdown",
   "metadata": {},
   "source": [
    "### 4. Scale those three numerical features, use whatever scaler you want"
   ]
  },
  {
   "cell_type": "code",
   "execution_count": 9,
   "metadata": {
    "tags": []
   },
   "outputs": [
    {
     "name": "stdout",
     "output_type": "stream",
     "text": [
      "                           name      year  selling_price  km_driven    fuel  \\\n",
      "0        Maruti Swift Dzire VDI  0.048464         450000   1.338363  Diesel   \n",
      "1  Skoda Rapid 1.5 TDI Ambition  0.048464         370000   0.887411  Diesel   \n",
      "2      Honda City 2017-2020 EXi -1.929775         158000   1.241098  Petrol   \n",
      "3     Hyundai i20 Sportz Diesel -0.940656         225000   1.011202  Diesel   \n",
      "4        Maruti Swift VXI BSIII -1.682495         130000   0.887411  Petrol   \n",
      "\n",
      "  seller_type transmission  owner   mileage  engine  max_power  seats  \n",
      "0  Individual       Manual      0  0.890224  1248.0      74.00    5.0  \n",
      "1  Individual       Manual      2  0.452663  1498.0     103.52    5.0  \n",
      "2  Individual       Manual      4 -0.213361  1497.0      78.00    5.0  \n",
      "3  Individual       Manual      0  0.812780  1396.0      90.00    5.0  \n",
      "4  Individual       Manual      0 -0.523139  1298.0      88.20    5.0  \n"
     ]
    }
   ],
   "source": [
    "# Select the numerical features to scale\n",
    "numerical_features = ['year', 'km_driven', 'mileage']\n",
    "\n",
    "# Initialize the StandardScaler\n",
    "scaler = StandardScaler()\n",
    "\n",
    "# Scale the numerical features\n",
    "df[numerical_features] = scaler.fit_transform(df[numerical_features])\n",
    "\n",
    "# Display the first few rows of the scaled dataset\n",
    "print(df.head())"
   ]
  },
  {
   "cell_type": "markdown",
   "metadata": {},
   "source": [
    "### 5. Select Features and Target Variable\n",
    "Separate X's to y"
   ]
  },
  {
   "cell_type": "code",
   "execution_count": 10,
   "metadata": {
    "tags": []
   },
   "outputs": [
    {
     "name": "stdout",
     "output_type": "stream",
     "text": [
      "Features (X):\n",
      "       year  km_driven   mileage  engine  max_power  seats  fuel_Diesel  \\\n",
      "0  0.048464   1.338363  0.890224  1248.0      74.00    5.0         True   \n",
      "1  0.048464   0.887411  0.452663  1498.0     103.52    5.0         True   \n",
      "2 -1.929775   1.241098 -0.213361  1497.0      78.00    5.0        False   \n",
      "3 -0.940656   1.011202  0.812780  1396.0      90.00    5.0         True   \n",
      "4 -1.682495   0.887411 -0.523139  1298.0      88.20    5.0        False   \n",
      "\n",
      "   fuel_LPG  fuel_Petrol  seller_type_Individual  \\\n",
      "0     False        False                    True   \n",
      "1     False        False                    True   \n",
      "2     False         True                    True   \n",
      "3     False        False                    True   \n",
      "4     False         True                    True   \n",
      "\n",
      "   seller_type_Trustmark Dealer  transmission_Manual  owner_1  owner_2  \\\n",
      "0                         False                 True    False    False   \n",
      "1                         False                 True    False     True   \n",
      "2                         False                 True    False    False   \n",
      "3                         False                 True    False    False   \n",
      "4                         False                 True    False    False   \n",
      "\n",
      "   owner_3  owner_4  \n",
      "0    False    False  \n",
      "1    False    False  \n",
      "2    False     True  \n",
      "3    False    False  \n",
      "4    False    False  \n",
      "\n",
      "Target Variable (y):\n",
      "0    450000\n",
      "1    370000\n",
      "2    158000\n",
      "3    225000\n",
      "4    130000\n",
      "Name: selling_price, dtype: int64\n"
     ]
    }
   ],
   "source": [
    "# Selecting the features and target variable\n",
    "X = df[['year', 'km_driven', 'fuel', 'seller_type', 'transmission', 'owner', 'mileage', 'engine', 'max_power', 'seats']]\n",
    "y = df['selling_price']\n",
    "\n",
    "# Encoding categorical variables\n",
    "X = pd.get_dummies(X, columns=['fuel', 'seller_type', 'transmission', 'owner'], drop_first=True)\n",
    "\n",
    "print(\"Features (X):\")\n",
    "print(X.head())\n",
    "\n",
    "print(\"\\nTarget Variable (y):\")\n",
    "print(y.head())"
   ]
  },
  {
   "cell_type": "markdown",
   "metadata": {},
   "source": [
    "### 6. Plot the distribution of the Target variable "
   ]
  },
  {
   "cell_type": "code",
   "execution_count": 11,
   "metadata": {
    "tags": []
   },
   "outputs": [
    {
     "data": {
      "image/png": "[encoded data removed]",
      "text/plain": [
       "<Figure size 1000x500 with 1 Axes>"
      ]
     },
     "metadata": {},
     "output_type": "display_data"
    }
   ],
   "source": [
    "# Plot the distribution of the target variable (selling_price)\n",
    "plt.figure(figsize=(10, 5))\n",
    "sns.histplot(df['selling_price'], kde=True, bins=30)\n",
    "plt.title('Distribution of Selling Price')\n",
    "plt.xlabel('Selling Price')\n",
    "plt.ylabel('Frequency')\n",
    "plt.show()"
   ]
  },
  {
   "cell_type": "markdown",
   "metadata": {},
   "source": [
    "### 7. Split the Data\n",
    "Split the dataset into training and testing sets. You should then have four dataset, X_train, X_test, y_train and y_test"
   ]
  },
  {
   "cell_type": "code",
   "execution_count": 12,
   "metadata": {
    "tags": []
   },
   "outputs": [
    {
     "name": "stdout",
     "output_type": "stream",
     "text": [
      "X_train:\n",
      "          year  km_driven   mileage  engine  max_power  seats  fuel_Diesel  \\\n",
      "6518  1.284864  -1.189443  1.006391  1199.0      83.81    5.0        False   \n",
      "6144 -0.198816   0.180036  0.115779  1198.0      86.80    5.0        False   \n",
      "6381 -0.693376   1.417942  0.812780  1396.0      90.00    5.0         True   \n",
      "438  -0.198816   0.887411  0.890224  1248.0      74.00    5.0         True   \n",
      "5939  0.790304  -0.792605  0.996711   998.0      67.05    5.0        False   \n",
      "\n",
      "      fuel_LPG  fuel_Petrol  seller_type_Individual  \\\n",
      "6518     False         True                    True   \n",
      "6144     False         True                    True   \n",
      "6381     False        False                    True   \n",
      "438      False        False                    True   \n",
      "5939     False         True                    True   \n",
      "\n",
      "      seller_type_Trustmark Dealer  transmission_Manual  owner_1  owner_2  \\\n",
      "6518                         False                False    False    False   \n",
      "6144                         False                 True    False     True   \n",
      "6381                         False                 True     True    False   \n",
      "438                          False                 True    False     True   \n",
      "5939                         False                 True    False    False   \n",
      "\n",
      "      owner_3  owner_4  \n",
      "6518    False    False  \n",
      "6144    False    False  \n",
      "6381    False    False  \n",
      "438     False    False  \n",
      "5939    False    False  \n",
      "\n",
      "X_test:\n",
      "          year  km_driven   mileage  engine  max_power  seats  fuel_Diesel  \\\n",
      "1971 -2.424335   0.710567 -1.162057  1493.0     100.00    5.0        False   \n",
      "4664  0.048464   3.928718 -0.929723  2179.0     138.10    7.0         True   \n",
      "5448  0.543024   0.003192  0.851502  1248.0      73.94    5.0         True   \n",
      "3333 -1.929775   0.887411 -0.368250  1497.0     100.00    5.0        False   \n",
      "2316 -0.198816  -0.014493  0.793419  1248.0      74.00    5.0         True   \n",
      "\n",
      "      fuel_LPG  fuel_Petrol  seller_type_Individual  \\\n",
      "1971     False         True                    True   \n",
      "4664     False        False                    True   \n",
      "5448     False        False                    True   \n",
      "3333     False         True                    True   \n",
      "2316     False        False                    True   \n",
      "\n",
      "      seller_type_Trustmark Dealer  transmission_Manual  owner_1  owner_2  \\\n",
      "1971                         False                 True    False    False   \n",
      "4664                         False                 True    False    False   \n",
      "5448                         False                 True    False    False   \n",
      "3333                         False                 True    False     True   \n",
      "2316                         False                 True    False     True   \n",
      "\n",
      "      owner_3  owner_4  \n",
      "1971    False     True  \n",
      "4664    False    False  \n",
      "5448    False    False  \n",
      "3333    False    False  \n",
      "2316    False    False  \n",
      "\n",
      "y_train:\n",
      "6518    520000\n",
      "6144    300000\n",
      "6381    380000\n",
      "438     530000\n",
      "5939    335000\n",
      "Name: selling_price, dtype: int64\n",
      "\n",
      "y_test:\n",
      "1971    198000\n",
      "4664    500000\n",
      "5448    425000\n",
      "3333    150000\n",
      "2316    525000\n",
      "Name: selling_price, dtype: int64\n"
     ]
    }
   ],
   "source": [
    "# Selecting the features and target variable\n",
    "X = df[['year', 'km_driven', 'fuel', 'seller_type', 'transmission', 'owner', 'mileage', 'engine', 'max_power', 'seats']]\n",
    "y = df['selling_price']\n",
    "\n",
    "# Encoding categorical variables\n",
    "X = pd.get_dummies(X, columns=['fuel', 'seller_type', 'transmission', 'owner'], drop_first=True)\n",
    "\n",
    "# Splitting the dataset into training and testing sets\n",
    "X_train, X_test, y_train, y_test = train_test_split(X, y, test_size=0.2, random_state=42)\n",
    "\n",
    "print(\"X_train:\")\n",
    "print(X_train.head())\n",
    "\n",
    "print(\"\\nX_test:\")\n",
    "print(X_test.head())\n",
    "\n",
    "print(\"\\ny_train:\")\n",
    "print(y_train.head())\n",
    "\n",
    "print(\"\\ny_test:\")\n",
    "print(y_test.head())"
   ]
  },
  {
   "cell_type": "markdown",
   "metadata": {},
   "source": [
    "### 8. Train a Gradient Boosting Model\n",
    "\n",
    "The following code trains an ensemble Model. The class ```GradientBoostingRegressor(*params)```  setup the model and the function ```fit(X_train, y_train)``` trains and fits it.\n",
    "- Use the function ```Predict()``` to predict y, both with your train and test datasets. (have a look at SKlearn documentation to use it)\n",
    "- Compute the train and test Mean Squared Errors.\n"
   ]
  },
  {
   "cell_type": "code",
   "execution_count": 13,
   "metadata": {
    "tags": []
   },
   "outputs": [
    {
     "name": "stdout",
     "output_type": "stream",
     "text": [
      "Train Mean Squared Error: 27327170262.089996\n",
      "Test Mean Squared Error: 38269827765.49351\n"
     ]
    }
   ],
   "source": [
    "n = 10 # number of estimators (relative to model complexity)\n",
    "\n",
    "gbr = GradientBoostingRegressor(n_estimators=n, random_state=42, learning_rate=0.9) # dont change those parameters\n",
    "gbr.fit(X_train, y_train)\n",
    "\n",
    "# YOUR CODE GOES HERE\n",
    "\n",
    "# Predicting y for both train and test datasets\n",
    "y_train_pred = gbr.predict(X_train)\n",
    "y_test_pred = gbr.predict(X_test)\n",
    "\n",
    "# Calculate the Mean Squared Errors for train and test datasets\n",
    "train_mse = mean_squared_error(y_train, y_train_pred)\n",
    "test_mse = mean_squared_error(y_test, y_test_pred)\n",
    "\n",
    "print(f'Train Mean Squared Error: {train_mse}')\n",
    "print(f'Test Mean Squared Error: {test_mse}')"
   ]
  },
  {
   "cell_type": "markdown",
   "metadata": {},
   "source": [
    "\n",
    "### Task 6: Increase the model complexity\n",
    "\n",
    "Train your model in a loop that increase the parameter ```n```. Start at n = 10 to n = 5000 and step = 500 (otherwise your code will run for hours).\n",
    "\n",
    "At each iterations : \n",
    "- reset the model\n",
    "- train the model\n",
    "- predict values using X_train\n",
    "- compute the MSE of training and testing sets.\n",
    "- store the new mse in a list"
   ]
  },
  {
   "cell_type": "code",
   "execution_count": 14,
   "metadata": {},
   "outputs": [
    {
     "name": "stdout",
     "output_type": "stream",
     "text": [
      "Train MSE values:\n",
      "n_estimators=10: MSE=27327170262.089996\n",
      "n_estimators=510: MSE=2667422978.518864\n",
      "n_estimators=1010: MSE=1755012021.6487234\n",
      "n_estimators=1510: MSE=1348634012.3443918\n",
      "n_estimators=2010: MSE=1111197059.0130203\n",
      "n_estimators=2510: MSE=960953591.846891\n",
      "n_estimators=3010: MSE=853576330.8860224\n",
      "n_estimators=3510: MSE=773341770.1224713\n",
      "n_estimators=4010: MSE=710058511.2115359\n",
      "n_estimators=4510: MSE=661329624.945295\n",
      "\n",
      "Test MSE values:\n",
      "n_estimators=10: MSE=38269827765.49351\n",
      "n_estimators=510: MSE=28093520471.30337\n",
      "n_estimators=1010: MSE=29515517167.002758\n",
      "n_estimators=1510: MSE=30236689160.70676\n",
      "n_estimators=2010: MSE=30559109210.974125\n",
      "n_estimators=2510: MSE=30753543607.67789\n",
      "n_estimators=3010: MSE=31032110461.594883\n",
      "n_estimators=3510: MSE=31284591652.668888\n",
      "n_estimators=4010: MSE=31473464809.816795\n",
      "n_estimators=4510: MSE=31644141124.772793\n"
     ]
    }
   ],
   "source": [
    "import pandas as pd\n",
    "from sklearn.ensemble import GradientBoostingRegressor\n",
    "from sklearn.model_selection import train_test_split\n",
    "from sklearn.metrics import mean_squared_error\n",
    "\n",
    "# Import the dataset\n",
    "df = pd.read_csv(\"cars.csv\")\n",
    "df = df.fillna(value=float(0))  # Replace NaN by float(0)\n",
    "\n",
    "# Selecting the features and target variable\n",
    "X = df[['year', 'km_driven', 'fuel', 'seller_type', 'transmission', 'owner', 'mileage', 'engine', 'max_power', 'seats']]\n",
    "y = df['selling_price']\n",
    "\n",
    "# Encoding categorical variables\n",
    "X = pd.get_dummies(X, columns=['fuel', 'seller_type', 'transmission', 'owner'], drop_first=True)\n",
    "\n",
    "# Splitting the dataset into training and testing sets\n",
    "X_train, X_test, y_train, y_test = train_test_split(X, y, test_size=0.2, random_state=42)\n",
    "\n",
    "# Lists to store the MSE values\n",
    "train_mse_list = []\n",
    "test_mse_list = []\n",
    "\n",
    "# Loop to train the model with increasing complexity\n",
    "for n in range(10, 5001, 500):\n",
    "    # Initialize and train the Gradient Boosting Regressor\n",
    "    gbr = GradientBoostingRegressor(n_estimators=n, random_state=42, learning_rate=0.9)\n",
    "    gbr.fit(X_train, y_train)\n",
    "    \n",
    "    # Predicting y for both train and test datasets\n",
    "    y_train_pred = gbr.predict(X_train)\n",
    "    y_test_pred = gbr.predict(X_test)\n",
    "    \n",
    "    # Calculate the Mean Squared Errors for train and test datasets\n",
    "    train_mse = mean_squared_error(y_train, y_train_pred)\n",
    "    test_mse = mean_squared_error(y_test, y_test_pred)\n",
    "    \n",
    "    # Store the MSE values in the lists\n",
    "    train_mse_list.append((n, train_mse))\n",
    "    test_mse_list.append((n, test_mse))\n",
    "\n",
    "# Display the MSE values\n",
    "print(\"Train MSE values:\")\n",
    "for n, mse in train_mse_list:\n",
    "    print(f\"n_estimators={n}: MSE={mse}\")\n",
    "\n",
    "print(\"\\nTest MSE values:\")\n",
    "for n, mse in test_mse_list:\n",
    "    print(f\"n_estimators={n}: MSE={mse}\")"
   ]
  },
  {
   "cell_type": "code",
   "execution_count": 18,
   "metadata": {
    "tags": []
   },
   "outputs": [
    {
     "name": "stdout",
     "output_type": "stream",
     "text": [
      "Train MSE values:\n",
      "n_estimators=10: MSE=27327170262.089996\n",
      "n_estimators=510: MSE=2667422978.518864\n",
      "n_estimators=1010: MSE=1755012021.6487234\n",
      "n_estimators=1510: MSE=1348634012.3443918\n",
      "n_estimators=2010: MSE=1111197059.0130203\n",
      "n_estimators=2510: MSE=960953591.846891\n",
      "n_estimators=3010: MSE=853576330.8860224\n",
      "n_estimators=3510: MSE=773341770.1224713\n",
      "n_estimators=4010: MSE=710058511.2115359\n",
      "n_estimators=4510: MSE=661329624.945295\n",
      "\n",
      "Test MSE values:\n",
      "n_estimators=10: MSE=38269827765.49351\n",
      "n_estimators=510: MSE=28093520471.30337\n",
      "n_estimators=1010: MSE=29515517167.002758\n",
      "n_estimators=1510: MSE=30236689160.70676\n",
      "n_estimators=2010: MSE=30559109210.974125\n",
      "n_estimators=2510: MSE=30753543607.67789\n",
      "n_estimators=3010: MSE=31032110461.594883\n",
      "n_estimators=3510: MSE=31284591652.668888\n",
      "n_estimators=4010: MSE=31473464809.816795\n",
      "n_estimators=4510: MSE=31644141124.772793\n"
     ]
    }
   ],
   "source": [
    "# Lists to store the MSE values\n",
    "train_mse_list = []\n",
    "test_mse_list = []\n",
    "\n",
    "# Loop to train the model with increasing complexity\n",
    "for n in range(10, 5001, 500):\n",
    "    # Initialize and train the Gradient Boosting Regressor\n",
    "    gbr = GradientBoostingRegressor(n_estimators=n, random_state=42, learning_rate=0.9)\n",
    "    gbr.fit(X_train, y_train)\n",
    "    \n",
    "    # Predicting y for both train and test datasets\n",
    "    y_train_pred = gbr.predict(X_train)\n",
    "    y_test_pred = gbr.predict(X_test)\n",
    "    \n",
    "    # Calculate the Mean Squared Errors for train and test datasets\n",
    "    train_mse = mean_squared_error(y_train, y_train_pred)\n",
    "    test_mse = mean_squared_error(y_test, y_test_pred)\n",
    "    \n",
    "    # Store the MSE values in the lists\n",
    "    train_mse_list.append((n, train_mse))\n",
    "    test_mse_list.append((n, test_mse))\n",
    "\n",
    "# Display the MSE values\n",
    "print(\"Train MSE values:\")\n",
    "for n, mse in train_mse_list:\n",
    "    print(f\"n_estimators={n}: MSE={mse}\")\n",
    "\n",
    "print(\"\\nTest MSE values:\")\n",
    "for n, mse in test_mse_list:\n",
    "    print(f\"n_estimators={n}: MSE={mse}\")"
   ]
  },
  {
   "cell_type": "markdown",
   "metadata": {},
   "source": [
    "### Task 7 : In one figure, plot both train and test MSE evolution, with respect to the model complexity (i.e. n) "
   ]
  },
  {
   "cell_type": "code",
   "execution_count": 19,
   "metadata": {},
   "outputs": [
    {
     "data": {
      "image/png": "[encoded data removed]",
      "text/plain": [
       "<Figure size 1200x600 with 1 Axes>"
      ]
     },
     "metadata": {},
     "output_type": "display_data"
    }
   ],
   "source": [
    "# Plotting the MSE evolution\n",
    "plt.figure(figsize=(12, 6))\n",
    "plt.plot(range(10, 5001, 500), train_mse_list, label='Train MSE')\n",
    "plt.plot(range(10, 5001, 500), test_mse_list, label='Test MSE')\n",
    "plt.xlabel('Number of Estimators (n)')\n",
    "plt.ylabel('Mean Squared Error (MSE)')\n",
    "plt.title('MSE Evolution with Increasing Model Complexity')\n",
    "plt.legend()\n",
    "plt.grid()\n",
    "plt.show() "
   ]
  },
  {
   "cell_type": "markdown",
   "metadata": {},
   "source": [
    "### Task 8 : What can you observe ?"
   ]
  },
  {
   "cell_type": "markdown",
   "metadata": {},
   "source": [
    "1. Training MSE Trend:\n",
    "As the number of estimators (n) in the model increases, the training MSE (Mean Squared Error) generally decreases. This means the model is getting better at fitting the training data.\n",
    "If the training MSE becomes very low, it might indicate the model is overfitting, meaning it's too closely matching the training data, including any noise.\n",
    "\n",
    "2. Testing MSE Trend:\n",
    "Initially, as n increases, the testing MSE decreases, showing the model is improving its predictions on new data.\n",
    "After a certain point, the testing MSE starts to increase, suggesting the model is overfitting the training data and not generalizing well to new data.\n",
    "\n",
    "3. Bias-Variance Trade-off:\n",
    "Simpler models (fewer estimators) have higher bias (they miss patterns in the data) and lower variance.\n",
    "More complex models (more estimators) have lower bias (they capture patterns in the data) but higher variance (they fit the training data too closely, including noise).\n",
    "\n",
    "4. Model Performance:\n",
    "Lower MSE values on the test set indicate better performance on new data.\n",
    "Comparing training and testing MSE helps identify if the model is overfitting or underfitting. "
   ]
  },
  {
   "cell_type": "markdown",
   "metadata": {},
   "source": [
    "### Task 9 (Bonus) : In your opinion, what could we change in the code to improve our model fit ? "
   ]
  },
  {
   "cell_type": "markdown",
   "metadata": {},
   "source": [
    "1. Create New Features:\n",
    "Add new features that might help the model. For example, calculate the age of the car from the year column.\n",
    "\n",
    "2. Handle Missing Values Better:\n",
    "Instead of filling missing values with zero, use methods like the mean or median to fill them.\n",
    "\n",
    "3. Scale Numerical Features:\n",
    "Make sure all numerical features are on the same scale. Use methods like standardization or normalization.\n",
    "\n",
    "4. Tune Hyperparameters:\n",
    "Experiment with different settings for the Gradient Boosting Regressor to find the best ones. Use techniques like grid search to automate this.\n",
    "\n",
    "5. Increase Model Complexity:\n",
    "Try different settings for model complexity, like max_depth or min_samples_split.\n",
    "\n",
    "6. Cross-Validation:\n",
    "Use cross-validation to get a better estimate of how well the model will perform on new data.\n",
    "\n",
    "7. Better Encoding for Categorical Variables:\n",
    "Try different methods to convert categorical variables to numbers, like target encoding.\n",
    "\n",
    "8. Remove Outliers:\n",
    "Identify and remove data points that are very different from the rest, as they might be errors.\n",
    "\n",
    "9. Combine Multiple Models:\n",
    "Use ensemble methods like stacking or blending to combine the predictions of multiple models.\n",
    "\n",
    "10. Select Important Features:\n",
    "Use techniques to find and keep only the most important features for the model. This can make the model simpler and better.\n",
    "\n",
    "By making these changes, you can help the model perform better on both the training data and new, unseen data. "
   ]
  }
 ],
 "metadata": {
  "kernelspec": {
   "display_name": "Python 3 (ipykernel)",
   "language": "python",
   "name": "python3"
  },
  "language_info": {
   "codemirror_mode": {
    "name": "ipython",
    "version": 3
   },
   "file_extension": ".py",
   "mimetype": "text/x-python",
   "name": "python",
   "nbconvert_exporter": "python",
   "pygments_lexer": "ipython3",
   "version": "3.11.5"
  }
 },
 "nbformat": 4,
 "nbformat_minor": 4
}
