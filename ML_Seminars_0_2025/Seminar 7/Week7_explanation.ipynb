{
 "cells": [
  {
   "cell_type": "markdown",
   "id": "0055918d-f918-4ac9-bc3b-8b2ee70cc5ec",
   "metadata": {},
   "source": [
    "Task 1"
   ]
  },
  {
   "cell_type": "code",
   "execution_count": 19,
   "id": "de309be3-daef-4f3b-a09e-e19179fcefe6",
   "metadata": {
    "tags": []
   },
   "outputs": [],
   "source": [
    "import numpy as np\n",
    "import matplotlib.pyplot as plt"
   ]
  },
  {
   "cell_type": "code",
   "execution_count": 1,
   "id": "06228b7b-cfcb-4215-8b41-6b75252d2c26",
   "metadata": {
    "tags": []
   },
   "outputs": [
    {
     "name": "stdout",
     "output_type": "stream",
     "text": [
      "Addition of 5 and 3: 8\n",
      "Subtraction of 5 and 3: 2\n",
      "Multiplication of 5 and 3: 15\n",
      "Division of 5 and 3: 1.6666666666666667\n"
     ]
    }
   ],
   "source": [
    "def add(a, b):\n",
    "    return a + b\n",
    "def subtract(a, b):\n",
    "    return a - b\n",
    "def multiply(a, b):\n",
    "    return a * b\n",
    "def divide(a, b):\n",
    "    if b == 0:\n",
    "        raise ValueError(\"Cannot divide by zero\")\n",
    "    return a / b\n",
    "\n",
    "def main():\n",
    "    print(\"Addition of 5 and 3:\", add(5, 3))\n",
    "    print(\"Subtraction of 5 and 3:\", subtract(5, 3))\n",
    "    print(\"Multiplication of 5 and 3:\", multiply(5, 3))\n",
    "    print(\"Division of 5 and 3:\", divide(5, 3))\n",
    "    \n",
    "if __name__ == \"__main__\":\n",
    "    main()\n"
   ]
  },
  {
   "cell_type": "code",
   "execution_count": 2,
   "id": "17dc6445-d6ae-4604-9e6f-41c8876bf9fb",
   "metadata": {
    "tags": []
   },
   "outputs": [
    {
     "name": "stdout",
     "output_type": "stream",
     "text": [
      "Welcome to the temperature converter!\n"
     ]
    },
    {
     "name": "stdin",
     "output_type": "stream",
     "text": [
      "Enter the temperature:  5\n",
      "Enter the unit (C for Celsius, F for Fahrenheit):  C\n"
     ]
    },
    {
     "name": "stdout",
     "output_type": "stream",
     "text": [
      "5.0`C is equal to 41.0`F\n"
     ]
    }
   ],
   "source": [
    "def celsius_to_fahrenheit(celsius):\n",
    "    return (celsius * 9/5) + 32\n",
    "def fahrenheit_to_celsius(fahrenheit):\n",
    "    return (fahrenheit - 32) * 5/9\n",
    "def main():\n",
    "    print(\"Welcome to the temperature converter!\")\n",
    "    temp = float(input(\"Enter the temperature: \"))\n",
    "    unit = input(\"Enter the unit (C for Celsius, F for Fahrenheit): \").upper()\n",
    "    \n",
    "    if unit == \"C\":\n",
    "        converted_temp = celsius_to_fahrenheit(temp)\n",
    "        print(f\"{temp}`C is equal to {converted_temp}`F\")\n",
    "    elif unit == \"F\":\n",
    "        converted_temp = fahrenheit_to_celsius(temp)\n",
    "        print(f\"{temp}`F is equal to {converted_temp}`C\")\n",
    "    else:\n",
    "        print(\"Invalid unit\")\n",
    "\n",
    "if __name__ == \"__main__\":\n",
    "    main()\n"
   ]
  },
  {
   "cell_type": "code",
   "execution_count": 7,
   "id": "da1e9f2f-fca7-4081-9fbf-07fe43df7570",
   "metadata": {
    "tags": []
   },
   "outputs": [
    {
     "name": "stdout",
     "output_type": "stream",
     "text": [
      "Path of parameter values:  [0.         0.6        1.08       1.464      1.7712     2.01696\n",
      " 2.213568   2.3708544  2.49668352 2.59734682 2.67787745]\n",
      "Final parameter value:  2.6778774528\n",
      "Minimum value of the function:  0.10376293541461637\n"
     ]
    }
   ],
   "source": [
    "def gradient_descent(start, learn_rate, iterations, gradient_func):\n",
    "    \"\"\"\n",
    "    Performs gradient descent optimization.\n",
    "\n",
    "    Parameters:\n",
    "    starting_point (float): The initial value of the parameter to optimize.\n",
    "    learning_rate (float): The step size for each iteration.\n",
    "    num_iterations (int): The number of iterations to perform.\n",
    "    gradient_func (function): A function that computes the gradient of the loss function.\n",
    "\n",
    "    Returns:\n",
    "    np.ndarray: An array containing the path of parameter values during optimization.\n",
    "    \"\"\"\n",
    "    parameter = start\n",
    "    path = [parameter]\n",
    "    for i in range(iterations):\n",
    "        gradient = gradient_func(parameter)\n",
    "        parameter -= learn_rate * gradient\n",
    "        path.append(parameter)\n",
    "    return np.array(path)\n",
    "\n",
    "def example_gradient(x):\n",
    "    return 2*(x-3)\n",
    "\n",
    "if __name__ == \"__main__\":\n",
    "    initial_value = 0.0\n",
    "    learn_rate = 0.1\n",
    "    iterations = 10\n",
    "    \n",
    "    path = gradient_descent(initial_value, learn_rate, iterations, example_gradient)\n",
    "    \n",
    "    print(\"Path of parameter values: \", path)\n",
    "    print(\"Final parameter value: \", path[-1])\n",
    "    print(\"Minimum value of the function: \", (path[-1] - 3) ** 2)\n",
    "\n",
    "#Thregt! \n"
   ]
  },
  {
   "cell_type": "code",
   "execution_count": null,
   "id": "f6c93b6a-0339-4e0a-b692-108d3eee6781",
   "metadata": {
    "tags": []
   },
   "outputs": [],
   "source": [
    "def gradient_descent(start, learn_rate, iterations, gradient_func):\n",
    "    \"\"\"\n",
    "    Performs gradient descent optimization.\n",
    "\n",
    "    Parameters:\n",
    "    starting_point (float): The initial value of the parameter to optimize.\n",
    "    learning_rate (float): The step size for each iteration.\n",
    "    num_iterations (int): The number of iterations to perform.\n",
    "    gradient_func (function): A function that computes the gradient of the loss function.\n",
    "\n",
    "    Returns:\n",
    "    np.ndarray: An array containing the path of parameter values during optimization.\n",
    "    \"\"\"\n",
    "    parameter = start\n",
    "    path = [parameter]\n",
    "    for i in range(iterations):\n",
    "        gradient = gradient_func(parameter)\n",
    "        parameter -= learn_rate * gradient\n",
    "        path.append(parameter)\n",
    "    return np.array(path)\n",
    "\n",
    "def function_to_minimize_1(x):\n",
    "    return (x - 3) ** 2\n",
    "\n",
    "def gradient_1(x):\n",
    "    return 2 * (x - 3)\n",
    "\n",
    "def function_to_minimize_2(x):\n",
    "    return x ** 2 + 4 * x + 4\n",
    "\n",
    "def gradient_2(x):\n",
    "    return 2 * x + 4\n",
    "\n",
    "def function_to_minimize_3(x):\n",
    "    return np.exp(x) - 2 * x\n",
    "\n",
    "def gradient_3(x):\n",
    "    return np.exp(x) - 2\n",
    "\n",
    "def main():\n",
    "    print(\"Welcome to the gradient descent optimizer!\")\n",
    "    print(\"Choose a function to minimize:\")\n",
    "    print(\"1. (x - 3)^2\")\n",
    "    print(\"2. x^2 + 4x + 4\")\n",
    "    print(\"3. e^x - 2x\")\n",
    "    \n",
    "    choice = int(input(\"Enter the number of the function: \"))\n",
    "    initial_value = float(input(\"Enter the initial value: \"))\n",
    "    learn_rate = float(input(\"Enter the learning rate: \"))\n",
    "    iterations = int(input(\"Enter the number of iterations: \"))\n",
    "    \n",
    "    if choice == 1:\n",
    "        path = gradient_descent(initial_value, learn_rate, iterations, gradient_1)\n",
    "        final_value = function_to_minimize_1(path[-1])\n",
    "    elif choice == 2:\n",
    "        path = gradient_descent(initial_value, learn_rate, iterations, gradient_2)\n",
    "        final_value = function_to_minimize_2(path[-1])\n",
    "    elif choice == 3:\n",
    "        path = gradient_descent(initial_value, learn_rate, iterations, gradient_3)\n",
    "        final_value = function_to_minimize_3(path[-1])\n",
    "    \n",
    "    else:\n",
    "        print(\"Invalid choice\")\n",
    "        return\n",
    "    \n",
    "    print(\"PAth of parameter values: \", path)\n",
    "    print(\"Final parameter value: \", path[-1])\n",
    "    print(\"Minimum value of the function: \", final_value)\n",
    "    \n",
    "\n",
    "if __name__ == \"__main__\":\n",
    "    main()\n",
    "\n",
    "# Treh \n"
   ]
  },
  {
   "cell_type": "markdown",
   "id": "5c3a5cad-1c18-4eca-a5d2-e7cb4f26ec91",
   "metadata": {},
   "source": [
    "Task 2"
   ]
  },
  {
   "cell_type": "code",
   "execution_count": null,
   "id": "29fb7b18-f587-48d9-b5c6-259632033238",
   "metadata": {
    "tags": []
   },
   "outputs": [],
   "source": [
    "def gradient_descent(start, learn_rate, iterations, gradient):\n",
    "    \"\"\"\n",
    "    Performs gradient descent optimization.\n",
    "\n",
    "    Parameters:\n",
    "    starting_point (float): The initial value of the parameter to optimize.\n",
    "    learning_rate (float): The step size for each iteration.\n",
    "    num_iterations (int): The number of iterations to perform.\n",
    "    gradient_func (function): A function that computes the gradient of the loss function.\n",
    "\n",
    "    Returns:\n",
    "    np.ndarray: An array containing the path of parameter values during optimization.\n",
    "    \"\"\"\n",
    "    \n",
    "    parameter = np.array(start)\n",
    "    path = [parameter]\n",
    "    for i in range(iterations):\n",
    "        gr = gradient(parameter)\n",
    "        parameter -= learn_rate * gr\n",
    "        path.append(parameter)\n",
    "    return np.array(path)\n",
    "\n",
    "def function_1(x, y):\n",
    "    return (x-3) ** 2 + (y - 2) ** 2\n",
    "\n",
    "def gradient_1(xy):\n",
    "    x, y = xy\n",
    "    grad_x = 2 * (x-3)\n",
    "    grad_y = 2 * (y-2)\n",
    "    return np.array([grad_x, grad_y])\n",
    "def function_2(x, y):\n",
    "    \"\"\"Example function to minimize: x^2 + y^2.\"\"\"\n",
    "    return x ** 2 + y ** 2\n",
    "\n",
    "def gradient_2(xy):\n",
    "    \"\"\"Gradient of the function x^2 + y^2.\"\"\"\n",
    "    x, y = xy\n",
    "    grad_x = 2 * x\n",
    "    grad_y = 2 * y\n",
    "    return np.array([grad_x, grad_y])\n",
    "\n",
    "def function_3(x, y):\n",
    "    \"\"\"Example function to minimize: sin(x) + cos(y).\"\"\"\n",
    "    return np.sin(x) + np.cos(y)\n",
    "\n",
    "def gradient_3(xy):\n",
    "    \"\"\"Gradient of the function sin(x) + cos(y).\"\"\"\n",
    "    x, y = xy\n",
    "    grad_x = np.cos(x)\n",
    "    grad_y = -np.sin(y)\n",
    "    return np.array([grad_x, grad_y])\n",
    "\n",
    "def plot_results(start, learn_rate, iterations, function, gradient):\n",
    "    \"\"\"\n",
    "    Plots the results of the gradient descent optimization.\n",
    "\n",
    "    Parameters:\n",
    "    starting_point (float): The initial value of the parameter to optimize.\n",
    "    learning_rate (float): The step size for each iteration.\n",
    "    iterations (int): The number of iterations to perform.\n",
    "    function (function): The function to minimize.\n",
    "    gradient_func (function): The gradient of the function to minimize.\n",
    "    \"\"\"\n",
    "    # Perform gradient descent\n",
    "    path = gradient_descent(start, learn_rate, iterations, gradient)\n",
    "    \n",
    "    x = np.linspace(-10, 10, 400)\n",
    "    y = np.linspace(-10, 10, 400)\n",
    "    X, Y = np.meshgrid(x, y)\n",
    "    Z = function(X, Y)\n",
    "    \n",
    "    plt.figure(figsize=(10, 6))\n",
    "    plt.contour(X, Y, Z, levels=50, cmap='viridis')\n",
    "    plt.colorbar(label='function value')\n",
    "    \n",
    "    path_x = path[:, 0]\n",
    "    path_y = path[:, 1]\n",
    "    plt.plot(path_x, path_y, 'r-o', label='Gradient descent path')\n",
    "    \n",
    "    # Mark the starting and ending points\n",
    "    plt.scatter(path_x[0], path_y[0], color='blue', label='Starting point')\n",
    "    plt.scatter(path_x[-1], path_y[-1], color='red', label='Ending point')\n",
    "    \n",
    "    plt.title(\"Gradient descent oprimization path\")\n",
    "    plt.legend()\n",
    "    plt.show()\n",
    "\n",
    "def main():\n",
    "    print(\"Welcome to the gradient descent oprimizer!\")\n",
    "    print(\"Choose a function to minimize:\")\n",
    "    print(\"1. (x-3)^2 + (y-2)^2\")\n",
    "    print(\"2. x^2 + y^2\")\n",
    "    print(\"3. sin(x) + cos(y)\")\n",
    "        \n",
    "        \n",
    "    choice = int(input(\"Enter the number of the function: \"))\n",
    "    initial_value = [float(input(\"Enter the initial x value: \")), float(input(\"Enter the initial y value: \"))]\n",
    "    learn_rate = float(input(\"Enter the learning rate: \"))\n",
    "    iterations = int(input(\"Enter the number of iterations: \"))\n",
    "    \n",
    "    if choice == 1:\n",
    "        plot_results(initial_value, learn_rate, iterations, function_1, gradient_1)\n",
    "    elif choice == 2:\n",
    "        plot_results(initial_value, learn_rate, iterations, function_2, gradient_2)\n",
    "    elif choice == 3:\n",
    "        plot_results(initial_value, learn_rate, iterations, function_3, gradient_3)\n",
    "    else:\n",
    "        print(\"Invalid choice\")\n",
    "\n",
    "if __name__ == \"__main__\":\n",
    "    main()\n",
    "\n",
    "# The end \n"
   ]
  },
  {
   "cell_type": "markdown",
   "id": "b55d6957-77cf-4f30-b08b-297f022131a7",
   "metadata": {},
   "source": [
    "Task 3"
   ]
  },
  {
   "cell_type": "code",
   "execution_count": null,
   "id": "8839e758-5449-4cfb-a6a0-fc50845245ed",
   "metadata": {
    "tags": []
   },
   "outputs": [],
   "source": [
    "#X = 2 * np.random.rand(100, 1)\n",
    "X = [2, 5, 6, 9, 15, 16, 11]\n",
    "#y = 3 * X + 5 + np.random.randn(100, 1)\n",
    "y = [3  * n + 5 for n in X]\n",
    "print(\"X: \", X, \"Y: \", y)\n",
    "X_b = np.c_[np.ones((len(y), 1)), X]\n",
    "print(\"X_b :\", X_b)\n"
   ]
  },
  {
   "cell_type": "code",
   "execution_count": null,
   "id": "eeeb3b59-e272-4792-96af-31f4cae69a0b",
   "metadata": {},
   "outputs": [],
   "source": []
  }
 ],
 "metadata": {
  "kernelspec": {
   "display_name": "Python 3 (ipykernel)",
   "language": "python",
   "name": "python3"
  },
  "language_info": {
   "codemirror_mode": {
    "name": "ipython",
    "version": 3
   },
   "file_extension": ".py",
   "mimetype": "text/x-python",
   "name": "python",
   "nbconvert_exporter": "python",
   "pygments_lexer": "ipython3",
   "version": "3.11.5"
  }
 },
 "nbformat": 4,
 "nbformat_minor": 5
}
