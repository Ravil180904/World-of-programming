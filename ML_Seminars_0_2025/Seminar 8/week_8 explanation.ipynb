{
 "cells": [
  {
   "cell_type": "code",
   "execution_count": 32,
   "id": "5a526946-6dd2-4ad3-ba10-d2b8754fb173",
   "metadata": {
    "tags": []
   },
   "outputs": [],
   "source": [
    "import numpy as np\n",
    "import matplotlib.pyplot as plt"
   ]
  },
  {
   "cell_type": "markdown",
   "id": "37609952-a01a-4151-8254-314468564ced",
   "metadata": {},
   "source": [
    "1. Random choice explanation"
   ]
  },
  {
   "cell_type": "code",
   "execution_count": null,
   "id": "0de7086a-414c-42a8-8622-1de88ec046b4",
   "metadata": {
    "tags": []
   },
   "outputs": [],
   "source": [
    "arr = [1, 2, 3, 4, 5]\n",
    "choice = np.random.choice(arr)\n",
    "print(\"Random choice from array:\", choice)\n"
   ]
  },
  {
   "cell_type": "code",
   "execution_count": null,
   "id": "1c369a31-630e-4b09-b19c-e8befbc0063f",
   "metadata": {
    "tags": []
   },
   "outputs": [],
   "source": [
    "arr = [1, 2, 3, 4, 5]\n",
    "choices = np.random.choice(arr, size=3)\n",
    "print(\"Random array:\", choices)\n"
   ]
  },
  {
   "cell_type": "code",
   "execution_count": null,
   "id": "a05a95b2-6a51-46a0-9e44-93cdc0d3fdac",
   "metadata": {
    "tags": []
   },
   "outputs": [],
   "source": [
    "arr = [1, 2, 3, 6, 9, 10]\n",
    "choices = np.random.choice(arr, size=5, replace=True)\n",
    "print(choices)"
   ]
  },
  {
   "cell_type": "code",
   "execution_count": null,
   "id": "31b6186c-5b05-4a36-9398-9f9a86423deb",
   "metadata": {
    "tags": []
   },
   "outputs": [],
   "source": [
    "arr = [1, 2, 3, 4, 5]\n",
    "choices = np.random.choice(arr, size=4, replace=False)\n",
    "print(choices)\n"
   ]
  },
  {
   "cell_type": "code",
   "execution_count": null,
   "id": "fe19a70a-bb16-44c8-b5ea-37b4450bcbf6",
   "metadata": {
    "tags": []
   },
   "outputs": [],
   "source": [
    "arr = [1, 2, 3, 4, 5]\n",
    "probabilities = [0.1, 0.2, 0.3, 0.2, 0.2]\n",
    "choices = np.random.choice(arr, size=3, p=probabilities)\n",
    "print(choices)\n"
   ]
  },
  {
   "cell_type": "code",
   "execution_count": null,
   "id": "f70a129c-2bee-4338-8397-e8e03dd41a8f",
   "metadata": {
    "tags": []
   },
   "outputs": [],
   "source": [
    "arr = np.array([[1, 2, 3], [4, 5, 6], [7, 8, 9]])\n",
    "choice = np.random.choice(arr.flatten())\n",
    "print(choice) "
   ]
  },
  {
   "cell_type": "markdown",
   "id": "fdbf3571-d6a0-4776-949e-aeb28ed89059",
   "metadata": {},
   "source": [
    "2. Rng.normal examples"
   ]
  },
  {
   "cell_type": "code",
   "execution_count": null,
   "id": "3de46548-92b2-4033-8614-f8fa2ae3e040",
   "metadata": {},
   "outputs": [],
   "source": [
    "rng = np.random.default_rng()\n",
    "\n",
    "mean = 0\n",
    "std_dev = 1\n",
    "sample = rng.normal(mean, std_dev)\n",
    "print(\"Random sample from normal distribution\", sample)\n"
   ]
  },
  {
   "cell_type": "code",
   "execution_count": null,
   "id": "bf7dbbb0-aa8e-4154-86ca-94483fdd42bf",
   "metadata": {
    "tags": []
   },
   "outputs": [],
   "source": [
    "mean = 0\n",
    "std_dev = 1\n",
    "samples = rng.normal(mean, std_dev, size=10)\n",
    "print(\"Random samples from normal distribution:\", samples)\n"
   ]
  },
  {
   "cell_type": "code",
   "execution_count": null,
   "id": "0be83824-7117-423c-a3b1-b89169cb42b7",
   "metadata": {
    "tags": []
   },
   "outputs": [],
   "source": [
    "mean = 0\n",
    "std_dev = 1\n",
    "sample = rng.normal(mean, std_dev, size=1000)\n",
    "\n",
    "plt.hist(samples, bins=30, density=True)\n",
    "plt.title(\"Histogram of Samples from Normal Distribution\")\n",
    "plt.xlabel(\"Value\")\n",
    "plt.ylabel(\"Density\")\n",
    "plt.show()\n"
   ]
  },
  {
   "cell_type": "code",
   "execution_count": null,
   "id": "968581c0-9b4b-4d98-bbe6-4d0173dcbb71",
   "metadata": {
    "tags": []
   },
   "outputs": [],
   "source": [
    "rng2 = np.random.default_rng(42)\n",
    "mean = 0\n",
    "std_dev = 1\n",
    "samples = rng2.normal(mean, std_dev, size=5)\n",
    "print(\"Random samples from seeded RNG:\", samples)\n"
   ]
  },
  {
   "cell_type": "markdown",
   "id": "c36c506e-d277-4190-8793-8944c9bfa352",
   "metadata": {},
   "source": [
    "3. population = rng.normal(loc=population_mean, scale=population_std, size=population_size)\n",
    "explain me it"
   ]
  },
  {
   "cell_type": "markdown",
   "id": "05890a03-6ca0-46f1-a14b-fe71d394d4da",
   "metadata": {},
   "source": [
    "rng: An instance of Numpy's random number generator. This instance is used to generate random numbers.\n",
    "normal(loc, scale, size): This method generates random samples from a normal (Gaussian) distribution.\n",
    "\n",
    "loc(population_mean): This parameter specifies the standard deviation of the normal distribution. The generated random numbers will be centered around this mean.\n",
    "\n",
    "scale(population_std): This parameter specifies the standard deviation of the normal distribution. The standard deviation determines how spread out the values will be around the mean. A larger standard deviation results in a wider spread of values.\n",
    "\n",
    "size(population_size): This parameter specifies the number of random samples to generate. It can be a single integer (for a 1D aray) or a tuple of integers (for a multi-dimensional array).\n",
    "\n",
    "Population: The variable that stores the generated random samploes. The shape and size of this variable are determined by the size parameter. "
   ]
  },
  {
   "cell_type": "code",
   "execution_count": null,
   "id": "a6527186-4a6f-4ef4-958b-52a88a4d6d3a",
   "metadata": {
    "tags": []
   },
   "outputs": [],
   "source": [
    "rng = np.random.default_rng()\n",
    "population_mean = 100\n",
    "population_std = 150\n",
    "population_size = 1000\n",
    "\n",
    "population = rng.normal(loc = population_mean, scale=population_std, size = population_size)\n",
    "#print(population)\n",
    "plt.hist(population, bins=30, density=True)\n",
    "plt.show() "
   ]
  },
  {
   "cell_type": "markdown",
   "id": "5f9b2b0d-9c15-4c1b-8152-85c5f7a9b20c",
   "metadata": {},
   "source": [
    "In this example, population will be an array containing 100 random samples from a normal distribution with a mean of 100 and s standard deviation of 15. The values in this array will be centered around 100 and spread out according to the standard deviation of 15. "
   ]
  },
  {
   "cell_type": "code",
   "execution_count": null,
   "id": "9d69aa85-fc04-4019-a188-e878ab2ef5a5",
   "metadata": {},
   "outputs": [],
   "source": [
    " "
   ]
  }
 ],
 "metadata": {
  "kernelspec": {
   "display_name": "Python 3 (ipykernel)",
   "language": "python",
   "name": "python3"
  },
  "language_info": {
   "codemirror_mode": {
    "name": "ipython",
    "version": 3
   },
   "file_extension": ".py",
   "mimetype": "text/x-python",
   "name": "python",
   "nbconvert_exporter": "python",
   "pygments_lexer": "ipython3",
   "version": "3.11.5"
  }
 },
 "nbformat": 4,
 "nbformat_minor": 5
}
