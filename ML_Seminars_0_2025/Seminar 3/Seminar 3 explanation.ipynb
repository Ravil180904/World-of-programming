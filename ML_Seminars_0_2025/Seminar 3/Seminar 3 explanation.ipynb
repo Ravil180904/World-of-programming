{
 "cells": [
  {
   "cell_type": "markdown",
   "id": "2479694e-95a2-491d-be3d-7a5288c78306",
   "metadata": {},
   "source": [
    "Part 2"
   ]
  },
  {
   "cell_type": "code",
   "execution_count": 27,
   "id": "8df6d577-3b32-479d-9a5e-fcdde75cba3c",
   "metadata": {
    "tags": []
   },
   "outputs": [],
   "source": [
    "import numpy as np\n",
    "from scipy.optimize import minimize\n",
    "import matplotlib.pyplot as plt"
   ]
  },
  {
   "cell_type": "code",
   "execution_count": null,
   "id": "9b03c150-007b-4762-afc8-fe731be43080",
   "metadata": {
    "tags": []
   },
   "outputs": [],
   "source": [
    "np.random.seed(42)\n",
    "random_numbers1 = np.random.rand(5)\n",
    "print(\"Random Number 1:\", random_numbers1)\n",
    "\n",
    "np.random.seed(42)\n",
    "random_numbers2 = np.random.rand(5)\n",
    "print(\"Random number 2:\", random_numbers2)\n",
    "\n",
    "random_numbers3 = np.random.rand(5)\n",
    "print(\"Random Numbers 3:\", random_numbers3)\n"
   ]
  },
  {
   "cell_type": "code",
   "execution_count": null,
   "id": "5b0cedec-0d57-4a4f-9807-fafc5a063dbf",
   "metadata": {},
   "outputs": [],
   "source": [
    "array = np.linspace(1, 10, 10)\n",
    "print(array)"
   ]
  },
  {
   "cell_type": "code",
   "execution_count": null,
   "id": "a6efcc3e-d6f6-4a33-8121-8e473373adaa",
   "metadata": {
    "tags": []
   },
   "outputs": [],
   "source": [
    "array1 = np.linspace(0, 100, 6)\n",
    "print(array1)"
   ]
  },
  {
   "cell_type": "code",
   "execution_count": null,
   "id": "53dff8a1-012f-4cb2-9317-280170f5b355",
   "metadata": {
    "tags": []
   },
   "outputs": [],
   "source": [
    "array2 = np.linspace(0, 2*np.pi, 15)\n",
    "print(\"Example 2:\", array2)"
   ]
  },
  {
   "cell_type": "code",
   "execution_count": null,
   "id": "97efec44-7685-4886-aed8-23eda6480eec",
   "metadata": {
    "tags": []
   },
   "outputs": [],
   "source": [
    "array3 = np.linspace(5, 15, 7)\n",
    "print(array3)\n"
   ]
  },
  {
   "cell_type": "markdown",
   "id": "74d3317c-d7fa-4f17-a739-417f45e022ee",
   "metadata": {},
   "source": [
    "The np.random.seed function in NumPy is used to set the seed for the random number generator. \n",
    "\n",
    "This is important for reproducibility, as it allows you to generate the same sequence of random numbers across different runs of your code. \n",
    "\n",
    "By setting the seed, you ensure that the random number generator produces the same results every time you run your code with that seed value."
   ]
  },
  {
   "cell_type": "code",
   "execution_count": null,
   "id": "545dfd71-fbf9-4f90-9efa-dd1e113458fb",
   "metadata": {
    "tags": []
   },
   "outputs": [],
   "source": [
    "np.random.seed(0)\n",
    "array1 = np.random.normal(0, 1, 10)\n",
    "print(\"Example 1:\", array1)\n",
    "\n",
    "#np.random.seed(42)\n",
    "array2 = np.random.normal(5, 2, 5)\n",
    "print(\"Example 2:\", array2)\n",
    "\n",
    "array3 = np.random.normal(-3, 1.5, 15)\n",
    "print(\"Example 3:\", array3)\n"
   ]
  },
  {
   "cell_type": "markdown",
   "id": "1eb8fc5d-1b55-446c-8695-f291df065985",
   "metadata": {},
   "source": [
    "Part 3"
   ]
  },
  {
   "cell_type": "code",
   "execution_count": null,
   "id": "f8bdb4d5-ff85-4d13-ba23-37b81058dc67",
   "metadata": {
    "tags": []
   },
   "outputs": [],
   "source": [
    "np.random.seed(42)\n",
    "mean = 0\n",
    "std_dev = 1\n",
    "num_samples = 1000\n",
    "s = np.random.normal(mean, std_dev, num_samples)\n",
    "\n",
    "\n",
    "def compute_mse(a, b):\n",
    "    mse = np.mean((a-b)**2)\n",
    "    return mse\n",
    "\n",
    "a = np.array([1, 2, 2, 3, 5])\n",
    "b = np.array([1.1, 1.9, 3.2, 4.1, 4.8])\n",
    "mse = compute_mse(a, b)\n",
    "print(f\"Mean squared error: {mse}\")\n",
    "\n",
    "def mse_values(c, d):\n",
    "    predicted_values = np.full_like(d, c)\n",
    "    return compute_mse(d, c)\n",
    "d = np.array([1, 2, 1, 3, 5])\n",
    "c = 3\n",
    "mse1 = mse_values(c, d)\n",
    "print(f\"MSE for c = {c}: {mse1}\")\n",
    "\n",
    "mean_of_synthetic_data = np.mean(s)\n",
    "result = minimize(lambda c: mse_values(c, s), x0 = np.mean(s))\n",
    "optimal_c = result.x[0]\n",
    "\n",
    "print(f\"Optimal c: {optimal_c}\")\n",
    "print(f\"Mean of synthetic dataset: {mean_of_synthetic_data}\")\n"
   ]
  },
  {
   "cell_type": "code",
   "execution_count": null,
   "id": "aa46aff3-bdf7-44f3-92f4-e387b0555be4",
   "metadata": {
    "tags": []
   },
   "outputs": [],
   "source": [
    "mean_of_s_data = np.mean(s)\n",
    "print(f\"Optimal c: {optimal_c}\")\n",
    "print(f\"Mean of synthetic dataset: {mean_of_s_data}\") "
   ]
  },
  {
   "cell_type": "markdown",
   "id": "ce2121ab-c0f0-4ed0-9d81-c717cd81bf96",
   "metadata": {},
   "source": [
    "Part 4"
   ]
  },
  {
   "cell_type": "code",
   "execution_count": null,
   "id": "6908c298-2709-40c8-b9d0-27f7ff0bb896",
   "metadata": {
    "tags": []
   },
   "outputs": [],
   "source": [
    "np.random.seed(42)\n",
    "\n",
    "uniform_randoms = np.random.rand(5)\n",
    "print(\"Uniform random numbers:\", uniform_randoms)\n",
    "\n",
    "normal_randoms = np.random.randn(5)\n",
    "print(\"Standard normal random numbers:\", normal_randoms)\n",
    "\n",
    "random_integers = np.random.randint(1, 10, 8)\n",
    "print(\"Random integers:\", random_integers)\n",
    "\n",
    "sample_array = np.array([1, 2, 3, 4, 5])\n",
    "random_sample = np.random.choice(sample_array, 3)\n",
    "print(\"Random sample from array:\", random_sample)\n"
   ]
  },
  {
   "cell_type": "code",
   "execution_count": 39,
   "id": "37dfcf69-b7d1-494d-bf78-750b9723d8ea",
   "metadata": {
    "tags": []
   },
   "outputs": [
    {
     "data": {
      "text/plain": [
       "array([1., 1., 1., 1., 1.])"
      ]
     },
     "execution_count": 39,
     "metadata": {},
     "output_type": "execute_result"
    }
   ],
   "source": [
    "a = np.ones(5)\n",
    "a"
   ]
  },
  {
   "cell_type": "code",
   "execution_count": 31,
   "id": "7eee02f9-6bcb-4f9b-868f-f20ffe711041",
   "metadata": {},
   "outputs": [
    {
     "name": "stdout",
     "output_type": "stream",
     "text": [
      "None\n"
     ]
    }
   ],
   "source": [
    "np.random.seed(42)\n",
    "mean = 0\n",
    "std_dev = 1\n",
    "num_samples = 1000\n",
    "s = np.random.normal(mean, std_dev, num_samples)\n",
    "\n",
    "\n",
    "def mse_values(c, d):\n",
    "    predicted_values = np.full_like(c, d)\n",
    "    #return c, d\n",
    "    #return compute_mse(d, c)\n",
    "b = mse_values(3, 9)\n",
    "c = 3\n",
    "d = 4\n",
    "print(b)\n",
    "\n",
    "#mean_c = minimize(lambda c: mse_values(c, s), x0 = np.mean(s))\n"
   ]
  },
  {
   "cell_type": "code",
   "execution_count": 15,
   "id": "43586fd2-7265-4ebc-9a84-989256c17b4a",
   "metadata": {
    "tags": []
   },
   "outputs": [
    {
     "data": {
      "text/plain": [
       "array(6)"
      ]
     },
     "execution_count": 15,
     "metadata": {},
     "output_type": "execute_result"
    }
   ],
   "source": [
    "np.full_like(5, 6)"
   ]
  },
  {
   "cell_type": "code",
   "execution_count": null,
   "id": "30ab5467-f599-49ac-b5c5-b2ffd55c586c",
   "metadata": {},
   "outputs": [],
   "source": []
  }
 ],
 "metadata": {
  "kernelspec": {
   "display_name": "Python 3 (ipykernel)",
   "language": "python",
   "name": "python3"
  },
  "language_info": {
   "codemirror_mode": {
    "name": "ipython",
    "version": 3
   },
   "file_extension": ".py",
   "mimetype": "text/x-python",
   "name": "python",
   "nbconvert_exporter": "python",
   "pygments_lexer": "ipython3",
   "version": "3.11.5"
  }
 },
 "nbformat": 4,
 "nbformat_minor": 5
}
