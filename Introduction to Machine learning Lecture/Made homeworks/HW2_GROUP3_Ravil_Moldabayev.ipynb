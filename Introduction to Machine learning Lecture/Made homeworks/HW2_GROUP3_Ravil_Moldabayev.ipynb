{
 "cells": [
  {
   "cell_type": "markdown",
   "id": "bf0d66b6",
   "metadata": {},
   "source": [
    "(HW2)=\n",
    "# HW2\n",
    "\n",
    "## Task 2.1 (0.5 points)\n",
    "\n",
    "Show that similar matrices have equal determinants: $\\det \\boldsymbol A = \\det \\boldsymbol B$ if $\\boldsymbol A \\sim \\boldsymbol B$.\n",
    "\n",
    "### YOUR SOLUTION HERE\n",
    "\\section{Task 2.1}\n",
    "Show that similar matrices have equal determinants: det A = det B if AB\n",
    "Solution: AS=AB \\rightarrow det(AS) \\rightarrow det(SB) \\rightarrow det(A) det(S) \\rightarrow det(S) det(B) \\rightarrow det(A) = det(B)"
   ]
  },
  {
   "cell_type": "markdown",
   "id": "cebd2b22",
   "metadata": {},
   "source": [
    "## Task 2.2 (0.5 points)\n",
    "\n",
    "Prove that all eigenvalues of a projection matrix\n",
    "are equal either to $0$ or $1$.\n",
    "\n",
    "### YOUR SOLUTION HERE\n",
    "\\section{Task 2.2}\n",
    "\\begin{displaymach}\n",
    "AV=LV;\n",
    "AAV=ALV;\n",
    "A^2V=LAV;\n",
    "A^2V=L(LV)=L^2V;\n",
    "A^2V=AV=LV=L^2V;\n",
    "LV=L^2V;\n",
    "L^2V-LV=0;\n",
    "V(L^2-L)=0; \n",
    "\\ Since \\ V \\ is \\ nonzero, \\ we \\ have: L^2-L=0;\n",
    "L(L-1)=0; L1=0 \\ and \\ L2=1\n",
    "\\end{displaymach}"
   ]
  },
  {
   "cell_type": "markdown",
   "id": "e2b0a12c",
   "metadata": {},
   "source": [
    "## Task 2.3 (1 point)\n",
    "\n",
    "**Hilbert matrix** is a square matrix with entries $H_{ij} = \\frac 1{i + j - 1}$. Hilbert matrices can be created by `scipy.linalg.hilbert`:"
   ]
  },
  {
   "cell_type": "code",
   "execution_count": 12,
   "id": "3b435b87",
   "metadata": {},
   "outputs": [
    {
     "data": {
      "text/plain": [
       "array([[1.        , 0.5       , 0.33333333],\n",
       "       [0.5       , 0.33333333, 0.25      ],\n",
       "       [0.33333333, 0.25      , 0.2       ]])"
      ]
     },
     "execution_count": 12,
     "metadata": {},
     "output_type": "execute_result"
    }
   ],
   "source": [
    "import numpy as np\n",
    "from scipy.linalg import hilbert\n",
    "hilbert(3)"
   ]
  },
  {
   "cell_type": "markdown",
   "id": "dceb9782",
   "metadata": {},
   "source": [
    "[Wikipedia](https://en.wikipedia.org/wiki/Hilbert_matrix) says that the condition number of $n\\times n$ Hilbert matrix grows as $O\\Big(\\frac 1{\\sqrt n}\\big(1 + \\sqrt{2}\\big)^{4n}\\Big)$. Check this fact numerically. Calculate $\\kappa_n$ for $n= 1, \\ldots, 20$, and plot its graph along with the graph of the sequence inside big-O."
   ]
  },
  {
   "cell_type": "code",
   "execution_count": 4,
   "id": "8c955640",
   "metadata": {},
   "outputs": [
    {
     "ename": "NameError",
     "evalue": "name 'np' is not defined",
     "output_type": "error",
     "traceback": [
      "\u001b[1;31m---------------------------------------------------------------------------\u001b[0m",
      "\u001b[1;31mNameError\u001b[0m                                 Traceback (most recent call last)",
      "Cell \u001b[1;32mIn[4], line 27\u001b[0m\n\u001b[0;32m     24\u001b[0m     plt\u001b[38;5;241m.\u001b[39mxlabel(\u001b[38;5;124m\"\u001b[39m\u001b[38;5;124mn\u001b[39m\u001b[38;5;124m\"\u001b[39m)\n\u001b[0;32m     25\u001b[0m     plt\u001b[38;5;241m.\u001b[39mgrid(ls\u001b[38;5;241m=\u001b[39m\u001b[38;5;124m\"\u001b[39m\u001b[38;5;124m:\u001b[39m\u001b[38;5;124m\"\u001b[39m);\n\u001b[1;32m---> 27\u001b[0m plot_hilbert_cond(\u001b[38;5;241m20\u001b[39m)\n\u001b[0;32m     28\u001b[0m plt\u001b[38;5;241m.\u001b[39mshow\n",
      "Cell \u001b[1;32mIn[4], line 6\u001b[0m, in \u001b[0;36mplot_hilbert_cond\u001b[1;34m(n_max)\u001b[0m\n\u001b[0;32m      5\u001b[0m \u001b[38;5;28;01mdef\u001b[39;00m \u001b[38;5;21mplot_hilbert_cond\u001b[39m(n_max):\n\u001b[1;32m----> 6\u001b[0m     ns \u001b[38;5;241m=\u001b[39m np\u001b[38;5;241m.\u001b[39marange(\u001b[38;5;241m1\u001b[39m, n_max \u001b[38;5;241m+\u001b[39m \u001b[38;5;241m1\u001b[39m)\n\u001b[0;32m      7\u001b[0m     \u001b[38;5;66;03m# YOUR CODE HERE\u001b[39;00m\n\u001b[0;32m      8\u001b[0m     cond_numbers \u001b[38;5;241m=\u001b[39m []\n",
      "\u001b[1;31mNameError\u001b[0m: name 'np' is not defined"
     ]
    }
   ],
   "source": [
    "import matplotlib.pyplot as plt\n",
    "\n",
    "%config InlineBackend.figure_format = 'svg'\n",
    "\n",
    "def plot_hilbert_cond(n_max):\n",
    "    ns = np.arange(1, n_max + 1)\n",
    "    # YOUR CODE HERE\n",
    "    cond_numbers = []\n",
    "    sequence = []\n",
    "    for n in ns:\n",
    "        H = np.empty((n, n))\n",
    "        for i in range(1, n+1):\n",
    "            for j in range(1, n+1):\n",
    "                H[i-1, j-1] = 1 / (i+j-1)\n",
    "        cond_number = np.linag.cond(H)\n",
    "        cond_numbers.append(cond_number) #add a new row\n",
    "        sequence.append((1/np.sqrt(n))(1+sqrt(2))**(4*n) / np.sqrt(n))\n",
    "    \n",
    "    plt.plot(ns, cond_numbers, label = \"Hilbert condition number\")\n",
    "    plt.plot(ns. sequence, label =r\"$0((\\frac{1}{\\sqrt{n}})^{4n}/\\sqrt{n})$\")\n",
    "    plt.xlim(0, n_max)\n",
    "    plt.title(\"Hilbert condition number\")\n",
    "    plt.legend()\n",
    "    plt.xlabel(\"n\")\n",
    "    plt.grid(ls=\":\");\n",
    "\n",
    "plot_hilbert_cond(20)\n",
    "plt.show"
   ]
  },
  {
   "cell_type": "markdown",
   "id": "712c3dc7",
   "metadata": {},
   "source": [
    "What can you say looking at these graphs? Does the estimation for $\\kappa_n$ seem correct or not?"
   ]
  },
  {
   "cell_type": "markdown",
   "id": "e34afdb9",
   "metadata": {},
   "source": [
    "## Task 2.4 (1 point)\n",
    "\n",
    "Let $\\boldsymbol u_1, \\ldots, \\boldsymbol u_r \\in\\mathbb R^{n}$ be an orthonormal system of vectors, $1 \\leqslant r \\leqslant n$, and\n",
    "\n",
    "$$\n",
    "\\boldsymbol A = \\sum\\limits_{i=1}^r \\sigma_i \\boldsymbol u_i \\boldsymbol u_i^{\\mathsf T}, \\quad \\sigma_1 \\geqslant \\sigma_2 \\geqslant \\ldots \\geqslant \\sigma_r > 0.\n",
    "$$\n",
    "\n",
    "Show that $\\boldsymbol A$ is symmetric and semi-positive definite, i.e., $\\boldsymbol A^\\mathsf{T} =\\boldsymbol A$ and $\\boldsymbol x^\\mathsf{T}\\boldsymbol{Ax} \\geqslant 0$ for all $\\boldsymbol x \\in\\mathbb R^n$. Under which condition $\\boldsymbol A$ is positive definite?\n",
    "\n",
    "### YOUR SOLUTION  HERE\n",
    "\\begin{displaymach}\n",
    "A matrix is orthogonal if:\n",
    "Q^T=Q^-1 \\ QQ^T=QQ^-1 \\\n",
    "QQ^T=I\n",
    "\\end{displaymach}\n",
    "\\subsection{Example}\n",
    "A= $ \\left( \\begin{array}{cc}\n",
    "7 & 2 \\\\\n",
    "2 & 7 \\end{array} \\right)\n",
    "\\par A^T= \\left( \\begin{array}{ccc}\n",
    "7 & 2 \\\\\n",
    "2 & 7 \\end{array} \\right)\n",
    "\\par x^T Ax = \\left ( \\begin{array}{cc}\n",
    "x_1 & x_2 \\end{array} \\right)\n",
    "\\left( \\begin{array}{cc}\n",
    "7 & 2 \\\\    \n",
    "2 & 1 \\end{array} \\right)\n",
    "\\left ( \\begin{array}{cc}\n",
    "x_1 \\\\ x_2 \\end{array} \\right) = \\left (\\begin{array}{cc}\n",
    "x_1 & x_2 \\end{array} \\right) * \\left( \\begin{array}{cc}\n",
    "    7x_1 + 2x_2  \\\\\n",
    "    2x_1 + x_2 \\end{array} \\right)\n",
    "    =x_1(2x_1+4x_2)+x_2(3x_15x_2)=2x_1^2=4x_1x_2+3x_2x_1-5x_2^2\n",
    "    =2x^2_1+7x_1x_2-5x^2_2\n",
    "\\end{document}"
   ]
  },
  {
   "cell_type": "markdown",
   "id": "198ebb1d",
   "metadata": {},
   "source": [
    "## Task 2.5 (1 point)\n",
    "\n",
    "Take a **colored** image which has at least $300$ pixels in both width and height and apply SVD like it is done {ref}`here <image-svd>`. Display several low-rank approximations to your image and plot the graph of errors $\\Vert \\boldsymbol A - \\hat{\\boldsymbol A}_r\\Vert_F$ for all possible $r$.\n",
    "\n",
    "An image can be read, for example, by `plt.imread`:"
   ]
  },
  {
   "cell_type": "code",
   "execution_count": 12,
   "id": "235a7076",
   "metadata": {},
   "outputs": [],
   "source": [
    "import matplotlib.pyplot as plt \n",
    "import numpy as np\n",
    "\n",
    "# X = plt.imread(\"./YOUR_IMAGE.jpg\")\n",
    "# X.shape"
   ]
  },
  {
   "cell_type": "markdown",
   "id": "fd745ebe",
   "metadata": {},
   "source": [
    "**Do not forget to attach your image to your submission!**"
   ]
  },
  {
   "cell_type": "code",
   "execution_count": 1,
   "id": "084f6192",
   "metadata": {},
   "outputs": [
    {
     "data": {
      "text/plain": [
       "['A', 'a', 'b', 'b']"
      ]
     },
     "execution_count": 1,
     "metadata": {},
     "output_type": "execute_result"
    }
   ],
   "source": [
    "sorted(\"abAb\")"
   ]
  }
 ],
 "metadata": {
  "celltoolbar": "Tags",
  "kernelspec": {
   "display_name": "Python 3 (ipykernel)",
   "language": "python",
   "name": "python3"
  },
  "language_info": {
   "codemirror_mode": {
    "name": "ipython",
    "version": 3
   },
   "file_extension": ".py",
   "mimetype": "text/x-python",
   "name": "python",
   "nbconvert_exporter": "python",
   "pygments_lexer": "ipython3",
   "version": "3.11.5"
  }
 },
 "nbformat": 4,
 "nbformat_minor": 5
}
