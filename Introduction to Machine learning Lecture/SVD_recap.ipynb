{
 "cells": [
  {
   "cell_type": "code",
   "execution_count": 1,
   "id": "2835eae8",
   "metadata": {},
   "outputs": [],
   "source": [
    "import numpy as np"
   ]
  },
  {
   "cell_type": "code",
   "execution_count": 5,
   "id": "226ce181",
   "metadata": {},
   "outputs": [],
   "source": [
    "n = [[2,2],[-1,1]]\n",
    "#n2 = [[2,2],[-1,1]]"
   ]
  },
  {
   "cell_type": "code",
   "execution_count": 17,
   "id": "dc11504e",
   "metadata": {},
   "outputs": [],
   "source": [
    "array = np.array(n)\n",
    "array_t = array.T"
   ]
  },
  {
   "cell_type": "code",
   "execution_count": 18,
   "id": "a51492de",
   "metadata": {},
   "outputs": [
    {
     "data": {
      "text/plain": [
       "array([[ 2, -1],\n",
       "       [ 2,  1]])"
      ]
     },
     "execution_count": 18,
     "metadata": {},
     "output_type": "execute_result"
    }
   ],
   "source": [
    "array_t"
   ]
  },
  {
   "cell_type": "code",
   "execution_count": 19,
   "id": "1892d44e",
   "metadata": {},
   "outputs": [],
   "source": [
    "U, sigma, V =np.linalg.svd(array)"
   ]
  },
  {
   "cell_type": "code",
   "execution_count": 20,
   "id": "ca2b2c38",
   "metadata": {},
   "outputs": [],
   "source": [
    "#U, sigma, V =np.linalg.svd(array_t)"
   ]
  },
  {
   "cell_type": "code",
   "execution_count": 21,
   "id": "fa898a60",
   "metadata": {},
   "outputs": [
    {
     "name": "stdout",
     "output_type": "stream",
     "text": [
      "Elements U: [[-1.00000000e+00  1.11022302e-16]\n",
      " [ 1.11022302e-16  1.00000000e+00]]\n",
      "\n",
      "Elements sigma: [2.82842712 1.41421356]\n",
      "\n",
      "Elements V: [[-0.70710678 -0.70710678]\n",
      " [-0.70710678  0.70710678]]\n"
     ]
    }
   ],
   "source": [
    "print(f\"Elements U: {U}\")\n",
    "print()\n",
    "print(f\"Elements sigma: {sigma}\")\n",
    "print()\n",
    "print(f\"Elements V: {V}\")"
   ]
  },
  {
   "cell_type": "markdown",
   "id": "d4f4c6dc",
   "metadata": {},
   "source": [
    "## Validation:"
   ]
  },
  {
   "cell_type": "code",
   "execution_count": 30,
   "id": "4e84eeae",
   "metadata": {},
   "outputs": [],
   "source": [
    "def get_array(array, n):\n",
    "    empty_array=np.zeros((n , len(array)))\n",
    "    \n",
    "    for i in range(len(array)):\n",
    "        empty_array[i][i] = array[i]\n",
    "\n",
    "    return empty_array\n"
   ]
  },
  {
   "cell_type": "code",
   "execution_count": 33,
   "id": "a832e5f8",
   "metadata": {},
   "outputs": [],
   "source": [
    "s=get_array(sigma, len(sigma))"
   ]
  },
  {
   "cell_type": "code",
   "execution_count": null,
   "id": "281b5c09",
   "metadata": {},
   "outputs": [],
   "source": [
    "[2.82842712 1.41421356] -- > [[2.82842712 , 0\n",
    "                               0, 1.41421356]]"
   ]
  },
  {
   "cell_type": "code",
   "execution_count": 36,
   "id": "e42cc000",
   "metadata": {},
   "outputs": [
    {
     "data": {
      "text/plain": [
       "array([[ 2.,  2.],\n",
       "       [-1.,  1.]])"
      ]
     },
     "execution_count": 36,
     "metadata": {},
     "output_type": "execute_result"
    }
   ],
   "source": [
    "result_array = np.dot(U, np.dot(s, V))\n",
    "result_array"
   ]
  },
  {
   "cell_type": "code",
   "execution_count": null,
   "id": "1bffac27",
   "metadata": {},
   "outputs": [],
   "source": []
  },
  {
   "cell_type": "markdown",
   "id": "589561c6",
   "metadata": {},
   "source": [
    "### Another sample"
   ]
  },
  {
   "cell_type": "code",
   "execution_count": 37,
   "id": "24354e46",
   "metadata": {},
   "outputs": [],
   "source": [
    "x_test = [[2,-1], [3, 2], [5, -1],[-1, 2]]"
   ]
  },
  {
   "cell_type": "code",
   "execution_count": 38,
   "id": "97dadc9d",
   "metadata": {},
   "outputs": [],
   "source": [
    "U_test, sigma_test, V_test =np.linalg.svd(np.array(x_test))"
   ]
  },
  {
   "cell_type": "code",
   "execution_count": 43,
   "id": "180865bb",
   "metadata": {},
   "outputs": [
    {
     "name": "stdout",
     "output_type": "stream",
     "text": [
      "Elements U: [[-0.3335869   0.25411179 -0.81420001  0.40152873]\n",
      " [-0.44353203 -0.73718167 -0.26353743 -0.43633765]\n",
      " [-0.80960368  0.15598689  0.5056555   0.25401277]\n",
      " [ 0.19115701 -0.60634847  0.10926518  0.7641084 ]]\n",
      "\n",
      "Elements sigma: [6.2695369 3.1133434]\n",
      "\n",
      "Elements V: [[-0.99480159  0.10183217]\n",
      " [-0.10183217 -0.99480159]]\n"
     ]
    }
   ],
   "source": [
    "print(f\"Elements U: {U_test}\")\n",
    "print()\n",
    "print(f\"Elements sigma: {sigma_test}\")\n",
    "print()\n",
    "print(f\"Elements V: {V_test}\")"
   ]
  },
  {
   "cell_type": "code",
   "execution_count": 44,
   "id": "312a54f8",
   "metadata": {},
   "outputs": [
    {
     "data": {
      "text/plain": [
       "array([[6.2695369, 0.       ],\n",
       "       [0.       , 3.1133434],\n",
       "       [0.       , 0.       ],\n",
       "       [0.       , 0.       ]])"
      ]
     },
     "execution_count": 44,
     "metadata": {},
     "output_type": "execute_result"
    }
   ],
   "source": [
    "s_test = get_array(sigma_test, len(x_test))\n",
    "s_test"
   ]
  },
  {
   "cell_type": "code",
   "execution_count": 41,
   "id": "dcd56b22",
   "metadata": {},
   "outputs": [
    {
     "data": {
      "text/plain": [
       "[[2, -1], [3, 2], [5, -1], [-1, 2]]"
      ]
     },
     "execution_count": 41,
     "metadata": {},
     "output_type": "execute_result"
    }
   ],
   "source": [
    "x_test"
   ]
  },
  {
   "cell_type": "code",
   "execution_count": 46,
   "id": "37485bef",
   "metadata": {},
   "outputs": [
    {
     "data": {
      "text/plain": [
       "array([[ 2., -1.],\n",
       "       [ 3.,  2.],\n",
       "       [ 5., -1.],\n",
       "       [-1.,  2.]])"
      ]
     },
     "execution_count": 46,
     "metadata": {},
     "output_type": "execute_result"
    }
   ],
   "source": [
    "np.dot(U_test, np.dot(s_test, V_test))"
   ]
  },
  {
   "cell_type": "code",
   "execution_count": null,
   "id": "c7eaa536",
   "metadata": {},
   "outputs": [],
   "source": []
  }
 ],
 "metadata": {
  "kernelspec": {
   "display_name": "Python 3",
   "language": "python",
   "name": "python3"
  },
  "language_info": {
   "codemirror_mode": {
    "name": "ipython",
    "version": 3
   },
   "file_extension": ".py",
   "mimetype": "text/x-python",
   "name": "python",
   "nbconvert_exporter": "python",
   "pygments_lexer": "ipython3",
   "version": "3.8.5"
  }
 },
 "nbformat": 4,
 "nbformat_minor": 5
}
