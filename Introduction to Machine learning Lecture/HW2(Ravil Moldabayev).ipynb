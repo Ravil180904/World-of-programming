{
 "cells": [
  {
   "cell_type": "markdown",
   "id": "bf0d66b6",
   "metadata": {},
   "source": [
    "(HW2)=\n",
    "# HW2\n",
    "\n",
    "## Task 2.1 (0.5 points)\n",
    "\n",
    "Show that similar matrices have equal determinants: $\\det \\boldsymbol A = \\det \\boldsymbol B$ if $\\boldsymbol A \\sim \\boldsymbol B$.\n",
    "\n",
    "### YOUR SOLUTION HERE\n",
    "\n"
   ]
  },
  {
   "cell_type": "markdown",
   "id": "cebd2b22",
   "metadata": {},
   "source": [
    "## Task 2.2 (0.5 points)\n",
    "\n",
    "Prove that all eigenvalues of a projection matrix\n",
    "are equal either to $0$ or $1$.\n",
    "\n",
    "### YOUR SOLUTION HERE"
   ]
  },
  {
   "cell_type": "markdown",
   "id": "e2b0a12c",
   "metadata": {},
   "source": [
    "## Task 2.3 (1 point)\n",
    "\n",
    "**Hilbert matrix** is a square matrix with entries $H_{ij} = \\frac 1{i + j - 1}$. Hilbert matrices can be created by `scipy.linalg.hilbert`:"
   ]
  },
  {
   "cell_type": "code",
   "execution_count": 12,
   "id": "3b435b87",
   "metadata": {},
   "outputs": [
    {
     "data": {
      "text/plain": [
       "array([[1.        , 0.5       , 0.33333333],\n",
       "       [0.5       , 0.33333333, 0.25      ],\n",
       "       [0.33333333, 0.25      , 0.2       ]])"
      ]
     },
     "execution_count": 12,
     "metadata": {},
     "output_type": "execute_result"
    }
   ],
   "source": [
    "import numpy as np\n",
    "from scipy.linalg import hilbert\n",
    "hilbert(3)"
   ]
  },
  {
   "cell_type": "markdown",
   "id": "dceb9782",
   "metadata": {},
   "source": [
    "[Wikipedia](https://en.wikipedia.org/wiki/Hilbert_matrix) says that the condition number of $n\\times n$ Hilbert matrix grows as $O\\Big(\\frac 1{\\sqrt n}\\big(1 + \\sqrt{2}\\big)^{4n}\\Big)$. Check this fact numerically. Calculate $\\kappa_n$ for $n= 1, \\ldots, 20$, and plot its graph along with the graph of the sequence inside big-O."
   ]
  },
  {
   "cell_type": "code",
   "execution_count": 13,
   "id": "8c955640",
   "metadata": {},
   "outputs": [
    {
     "ename": "AttributeError",
     "evalue": "module 'numpy' has no attribute 'linag'",
     "output_type": "error",
     "traceback": [
      "\u001b[1;31m---------------------------------------------------------------------------\u001b[0m",
      "\u001b[1;31mAttributeError\u001b[0m                            Traceback (most recent call last)",
      "Cell \u001b[1;32mIn[13], line 27\u001b[0m\n\u001b[0;32m     24\u001b[0m     plt\u001b[38;5;241m.\u001b[39mxlabel(\u001b[38;5;124m\"\u001b[39m\u001b[38;5;124mn\u001b[39m\u001b[38;5;124m\"\u001b[39m)\n\u001b[0;32m     25\u001b[0m     plt\u001b[38;5;241m.\u001b[39mgrid(ls\u001b[38;5;241m=\u001b[39m\u001b[38;5;124m\"\u001b[39m\u001b[38;5;124m:\u001b[39m\u001b[38;5;124m\"\u001b[39m);\n\u001b[1;32m---> 27\u001b[0m plot_hilbert_cond(\u001b[38;5;241m20\u001b[39m)\n\u001b[0;32m     28\u001b[0m plt\u001b[38;5;241m.\u001b[39mshow\n",
      "Cell \u001b[1;32mIn[13], line 15\u001b[0m, in \u001b[0;36mplot_hilbert_cond\u001b[1;34m(n_max)\u001b[0m\n\u001b[0;32m     13\u001b[0m         \u001b[38;5;28;01mfor\u001b[39;00m j \u001b[38;5;129;01min\u001b[39;00m \u001b[38;5;28mrange\u001b[39m(\u001b[38;5;241m1\u001b[39m, n\u001b[38;5;241m+\u001b[39m\u001b[38;5;241m1\u001b[39m):\n\u001b[0;32m     14\u001b[0m             H[i\u001b[38;5;241m-\u001b[39m\u001b[38;5;241m1\u001b[39m, j\u001b[38;5;241m-\u001b[39m\u001b[38;5;241m1\u001b[39m] \u001b[38;5;241m=\u001b[39m \u001b[38;5;241m1\u001b[39m \u001b[38;5;241m/\u001b[39m (i\u001b[38;5;241m+\u001b[39mj\u001b[38;5;241m-\u001b[39m\u001b[38;5;241m1\u001b[39m)\n\u001b[1;32m---> 15\u001b[0m     cond_number \u001b[38;5;241m=\u001b[39m np\u001b[38;5;241m.\u001b[39mlinag\u001b[38;5;241m.\u001b[39mcond(H)\n\u001b[0;32m     16\u001b[0m     cond_numbers\u001b[38;5;241m.\u001b[39mappend(cond_number)\n\u001b[0;32m     17\u001b[0m sequence\u001b[38;5;241m.\u001b[39mappend((\u001b[38;5;241m1\u001b[39m\u001b[38;5;241m/\u001b[39mnp\u001b[38;5;241m.\u001b[39msqrt(n))\u001b[38;5;241m*\u001b[39m\u001b[38;5;241m*\u001b[39m(\u001b[38;5;241m4\u001b[39m\u001b[38;5;241m*\u001b[39mn) \u001b[38;5;241m/\u001b[39m np\u001b[38;5;241m.\u001b[39msqrt(n))\n",
      "File \u001b[1;32mc:\\ProgramData\\anaconda3\\Lib\\site-packages\\numpy\\__init__.py:320\u001b[0m, in \u001b[0;36m__getattr__\u001b[1;34m(attr)\u001b[0m\n\u001b[0;32m    317\u001b[0m     \u001b[38;5;28;01mfrom\u001b[39;00m \u001b[38;5;21;01m.\u001b[39;00m\u001b[38;5;21;01mtesting\u001b[39;00m \u001b[38;5;28;01mimport\u001b[39;00m Tester\n\u001b[0;32m    318\u001b[0m     \u001b[38;5;28;01mreturn\u001b[39;00m Tester\n\u001b[1;32m--> 320\u001b[0m \u001b[38;5;28;01mraise\u001b[39;00m \u001b[38;5;167;01mAttributeError\u001b[39;00m(\u001b[38;5;124m\"\u001b[39m\u001b[38;5;124mmodule \u001b[39m\u001b[38;5;132;01m{!r}\u001b[39;00m\u001b[38;5;124m has no attribute \u001b[39m\u001b[38;5;124m\"\u001b[39m\n\u001b[0;32m    321\u001b[0m                      \u001b[38;5;124m\"\u001b[39m\u001b[38;5;132;01m{!r}\u001b[39;00m\u001b[38;5;124m\"\u001b[39m\u001b[38;5;241m.\u001b[39mformat(\u001b[38;5;18m__name__\u001b[39m, attr))\n",
      "\u001b[1;31mAttributeError\u001b[0m: module 'numpy' has no attribute 'linag'"
     ]
    }
   ],
   "source": [
    "import matplotlib.pyplot as plt\n",
    "\n",
    "%config InlineBackend.figure_format = 'svg'\n",
    "\n",
    "def plot_hilbert_cond(n_max):\n",
    "    ns = np.arange(1, n_max + 1)\n",
    "    # YOUR CODE HERE\n",
    "    cond_numbers = []\n",
    "    sequence = []\n",
    "    for n in ns:\n",
    "        H = np.empty((n, n))\n",
    "        for i in range(1, n+1):\n",
    "            for j in range(1, n+1):\n",
    "                H[i-1, j-1] = 1 / (i+j-1)\n",
    "        cond_number = np.linag.cond(H)\n",
    "        cond_numbers.append(cond_number)\n",
    "    sequence.append((1/np.sqrt(n))**(4*n) / np.sqrt(n))\n",
    "    \n",
    "    plt.plot(ns, cond_numbers, label = \"Hilbert condition number\")\n",
    "    plt.plot(ns. sequence, label = r\"$0((\\frac{1}{\\sqrt{n}}) ^{4n}/\\sqrt{n})$\")\n",
    "    plt.xlim(0, n_max)\n",
    "    plt.title(\"Hilbert condition number\")\n",
    "    plt.legend()\n",
    "    plt.xlabel(\"n\")\n",
    "    plt.grid(ls=\":\");\n",
    "\n",
    "plot_hilbert_cond(20)\n",
    "plt.show"
   ]
  },
  {
   "cell_type": "markdown",
   "id": "712c3dc7",
   "metadata": {},
   "source": [
    "What can you say looking at these graphs? Does the estimation for $\\kappa_n$ seem correct or not?"
   ]
  },
  {
   "cell_type": "markdown",
   "id": "e34afdb9",
   "metadata": {},
   "source": [
    "## Task 2.4 (1 point)\n",
    "\n",
    "Let $\\boldsymbol u_1, \\ldots, \\boldsymbol u_r \\in\\mathbb R^{n}$ be an orthonormal system of vectors, $1 \\leqslant r \\leqslant n$, and\n",
    "\n",
    "$$\n",
    "\\boldsymbol A = \\sum\\limits_{i=1}^r \\sigma_i \\boldsymbol u_i \\boldsymbol u_i^{\\mathsf T}, \\quad \\sigma_1 \\geqslant \\sigma_2 \\geqslant \\ldots \\geqslant \\sigma_r > 0.\n",
    "$$\n",
    "\n",
    "Show that $\\boldsymbol A$ is symmetric and semi-positive definite, i.e., $\\boldsymbol A^\\mathsf{T} =\\boldsymbol A$ and $\\boldsymbol x^\\mathsf{T}\\boldsymbol{Ax} \\geqslant 0$ for all $\\boldsymbol x \\in\\mathbb R^n$. Under which condition $\\boldsymbol A$ is positive definite?\n",
    "\n",
    "### YOUR SOLUTION  HERE"
   ]
  },
  {
   "cell_type": "markdown",
   "id": "198ebb1d",
   "metadata": {},
   "source": [
    "## Task 2.5 (1 point)\n",
    "\n",
    "Take a **colored** image which has at least $300$ pixels in both width and height and apply SVD like it is done {ref}`here <image-svd>`. Display several low-rank approximations to your image and plot the graph of errors $\\Vert \\boldsymbol A - \\hat{\\boldsymbol A}_r\\Vert_F$ for all possible $r$.\n",
    "\n",
    "An image can be read, for example, by `plt.imread`:"
   ]
  },
  {
   "cell_type": "code",
   "execution_count": 12,
   "id": "235a7076",
   "metadata": {},
   "outputs": [],
   "source": [
    "import matplotlib.pyplot as plt \n",
    "import numpy as np\n",
    "\n",
    "# X = plt.imread(\"./YOUR_IMAGE.jpg\")\n",
    "# X.shape"
   ]
  },
  {
   "cell_type": "markdown",
   "id": "fd745ebe",
   "metadata": {},
   "source": [
    "**Do not forget to attach your image to your submission!**"
   ]
  },
  {
   "cell_type": "code",
   "execution_count": 1,
   "id": "084f6192",
   "metadata": {},
   "outputs": [
    {
     "data": {
      "text/plain": [
       "['A', 'a', 'b', 'b']"
      ]
     },
     "execution_count": 1,
     "metadata": {},
     "output_type": "execute_result"
    }
   ],
   "source": [
    "sorted(\"abAb\")"
   ]
  }
 ],
 "metadata": {
  "celltoolbar": "Tags",
  "kernelspec": {
   "display_name": "Python 3 (ipykernel)",
   "language": "python",
   "name": "python3"
  },
  "language_info": {
   "codemirror_mode": {
    "name": "ipython",
    "version": 3
   },
   "file_extension": ".py",
   "mimetype": "text/x-python",
   "name": "python",
   "nbconvert_exporter": "python",
   "pygments_lexer": "ipython3",
   "version": "3.11.5"
  }
 },
 "nbformat": 4,
 "nbformat_minor": 5
}
