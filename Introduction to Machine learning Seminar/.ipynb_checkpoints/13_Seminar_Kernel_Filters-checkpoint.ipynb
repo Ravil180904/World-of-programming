{
 "cells": [
  {
   "cell_type": "markdown",
   "id": "53d1d9ea",
   "metadata": {},
   "source": [
    "## Black and White"
   ]
  },
  {
   "cell_type": "code",
   "execution_count": 75,
   "id": "0be37e65",
   "metadata": {},
   "outputs": [],
   "source": [
    "\n",
    "import cv2\n",
    "class BlacknWhite(object):\n",
    "    \"\"\"BlacknWhite Filter\n",
    "        A class that applies BlacknWhite filter to an image.\n",
    "        The class uses downsampling, bilateral filter and upsampling to create\n",
    "        a BlacknWhite filter.\n",
    "    \"\"\"\n",
    "    def __init__(self):\n",
    "        pass\n",
    "    def resize(self,image, window_height = 500):\n",
    "        aspect_ratio = float(image.shape[1])/float(image.shape[0])\n",
    "        window_width = window_height/aspect_ratio\n",
    "        image = cv2.resize(image, (int(window_height),int(window_width)))\n",
    "        return image\n",
    "    \n",
    "    def render(self, img_rgb):\n",
    "        img_rgb = cv2.imread(img_rgb)\n",
    "        img_rgb = self.resize(img_rgb,500)\n",
    "        numDownSamples = 2       # number of downscaling steps\n",
    "        numBilateralFilters = 50  # number of bilateral filtering steps\n",
    "        # -- STEP 1 --\n",
    "        # downsample image using Gaussian pyramid\n",
    "        img_color = img_rgb\n",
    "        for _ in range(numDownSamples):\n",
    "            img_color = cv2.pyrDown(img_color)\n",
    "        #cv2.imshow(\"downcolor\",img_color)\n",
    "        #cv2.waitKey(0)\n",
    "        # repeatedly apply small bilateral filter instead of applying\n",
    "        # one large filter\n",
    "        for _ in range(numBilateralFilters):\n",
    "            img_color = cv2.bilateralFilter(img_color, 9, 9, 7)\n",
    "        #cv2.imshow(\"bilateral filter\",img_color)\n",
    "        #cv2.waitKey(0)\n",
    "        # upsample image to original size\n",
    "        for _ in range(numDownSamples):\n",
    "            img_color = cv2.pyrUp(img_color)\n",
    "        #cv2.imshow(\"upscaling\",img_color)\n",
    "        #cv2.waitKey(0)\n",
    "        # -- STEPS 2 and 3 --\n",
    "        # convert to grayscale and apply median blur\n",
    "        img_gray = cv2.cvtColor(img_rgb, cv2.COLOR_RGB2GRAY)\n",
    "        return img_gray\n",
    "    def start(self, img_path, image, new_image):\n",
    "        tmp_canvas =BlacknWhite() #make a temporary object\n",
    "        file_name = img_path #File_name will come here\n",
    "        res = tmp_canvas.render(image)\n",
    "        cv2.imwrite(f\"{new_image}\", res)\n",
    "        cv2.imshow(f\"{image}\", res)\n",
    "        cv2.waitKey(0)\n",
    "        cv2.destroyAllWindows()\n",
    "        print(f\"Image saved as {new_image}\")"
   ]
  },
  {
   "cell_type": "code",
   "execution_count": null,
   "id": "463c7230",
   "metadata": {},
   "outputs": [],
   "source": []
  },
  {
   "cell_type": "code",
   "execution_count": 76,
   "id": "97dfc123",
   "metadata": {},
   "outputs": [],
   "source": [
    "filter_img = BlacknWhite()"
   ]
  },
  {
   "cell_type": "code",
   "execution_count": 78,
   "id": "de342b5d",
   "metadata": {},
   "outputs": [],
   "source": [
    "img_path = os.getcwd()"
   ]
  },
  {
   "cell_type": "code",
   "execution_count": 79,
   "id": "c5071f5c",
   "metadata": {},
   "outputs": [
    {
     "name": "stdout",
     "output_type": "stream",
     "text": [
      "Image saved as nature_bw.jpg\n"
     ]
    }
   ],
   "source": [
    "filter_img.start(img_path = img_path, image = 'nature.jpg' , new_image = 'nature_bw.jpg')"
   ]
  },
  {
   "cell_type": "code",
   "execution_count": 122,
   "id": "e26ace93",
   "metadata": {},
   "outputs": [
    {
     "data": {
      "text/plain": [
       "(3,)"
      ]
     },
     "execution_count": 122,
     "metadata": {},
     "output_type": "execute_result"
    }
   ],
   "source": [
    "img_rgb[0][0].shape"
   ]
  },
  {
   "cell_type": "code",
   "execution_count": 129,
   "id": "d137e460",
   "metadata": {},
   "outputs": [],
   "source": [
    "img_rgb = cv2.imread('nature.jpg')\n",
    "#img_rgb[0].shape\n",
    "#img_rgb = img_rgb.resize(img_rgb,500)\n",
    "img_gray = cv2.cvtColor(img_rgb, cv2.COLOR_RGB2GRAY)"
   ]
  },
  {
   "cell_type": "code",
   "execution_count": 132,
   "id": "cac10799",
   "metadata": {},
   "outputs": [],
   "source": [
    "\n",
    "cv2.imshow(f\"test\", img_gray)"
   ]
  },
  {
   "cell_type": "markdown",
   "id": "6d13a2cc",
   "metadata": {},
   "source": [
    "## SHARPENING"
   ]
  },
  {
   "cell_type": "code",
   "execution_count": 16,
   "id": "37b1f56c",
   "metadata": {},
   "outputs": [],
   "source": [
    "import cv2\n",
    "import numpy as np\n",
    "\n",
    "class sharpening:\n",
    "    \"\"\"sharpening filter ---\n",
    "        This class will apply sharpening filter to an image \n",
    "        by applying a defined kernel values to the image.\n",
    "    \"\"\"\n",
    "    def __init__(self):\n",
    "        pass\n",
    "    \n",
    "    def resize(self,image,window_height = 500):\n",
    "        aspect_ratio = float(image.shape[1])/float(image.shape[0])\n",
    "        window_width = window_height/aspect_ratio\n",
    "        image = cv2.resize(image, (int(window_height),int(window_width)))\n",
    "        return image\n",
    "    \n",
    "    def sharp(self,image):\n",
    "        # Create sharpening kernel\n",
    "        kernel = np.array([[0, -1, 0], [-1, 5, -1], [0, -1, 0]])\n",
    "        \n",
    "        \n",
    "        # applying the sharpening kernel to the input image & displaying it.\n",
    "        sharpened = cv2.filter2D(image, -1, kernel)\n",
    "        # Noise reduction\n",
    "        sharpened = cv2.bilateralFilter(sharpened, 9, 75, 75) \n",
    "        return sharpened\n",
    "    \n",
    "    def start(self, img_path, new_image):\n",
    "        # Create an image object\n",
    "        image = cv2.imread(img_path)\n",
    "        image = self.resize(image, 500)\n",
    "        tmp_canvas = sharpening()\n",
    "        res = tmp_canvas.sharp(image)\n",
    "        cv2.imwrite(new_image, res)\n",
    "        cv2.imshow('original',image)\n",
    "        cv2.imshow('sharp',res)\n",
    "        \n",
    "        print(f'Image saved as {new_image}')\n",
    "        cv2.waitKey(0)\n",
    "        cv2.destroyAllWindows()"
   ]
  },
  {
   "cell_type": "code",
   "execution_count": 17,
   "id": "f240c28c",
   "metadata": {},
   "outputs": [],
   "source": [
    "filter_sharp = sharpening()"
   ]
  },
  {
   "cell_type": "code",
   "execution_count": 18,
   "id": "f9dc1e38",
   "metadata": {},
   "outputs": [
    {
     "name": "stdout",
     "output_type": "stream",
     "text": [
      "Image saved as image_Venice_sharp.jpg\n"
     ]
    }
   ],
   "source": [
    "filter_sharp.start(img_path = 'image_Venice.jpg', new_image = 'image_Venice_sharp.jpg')"
   ]
  },
  {
   "cell_type": "markdown",
   "id": "b5ac0824",
   "metadata": {},
   "source": [
    "## CARTOONIZER"
   ]
  },
  {
   "cell_type": "code",
   "execution_count": 83,
   "id": "16242547",
   "metadata": {},
   "outputs": [],
   "source": [
    "\n",
    "class Cartoonizer(object):\n",
    "    \"\"\"Cartoonizer effect\n",
    "        A class that applies a cartoon effect to an image.\n",
    "        The class uses a bilateral filter and adaptive thresholding to create\n",
    "        a cartoon effect.\n",
    "    \"\"\"\n",
    "    def __init__(self):\n",
    "        pass\n",
    "    \n",
    "    def resize(self,image,window_height = 500):\n",
    "        aspect_ratio = float(image.shape[1])/float(image.shape[0])\n",
    "        window_width = window_height/aspect_ratio\n",
    "        image = cv2.resize(image, (int(window_height),int(window_width)))\n",
    "        return image\n",
    "    def render(self, img_rgb):\n",
    "        img_rgb = cv2.imread(img_rgb)\n",
    "        img_rgb = self.resize(img_rgb, 500)\n",
    "        numDownSamples = 2       # number of downscaling steps\n",
    "        numBilateralFilters = 50  # number of bilateral filtering steps\n",
    "        # -- STEP 1 --\n",
    "        # downsample image using Gaussian pyramid\n",
    "        img_color = img_rgb\n",
    "        for _ in range(numDownSamples):\n",
    "            img_color = cv2.pyrDown(img_color)\n",
    "        #cv2.imshow(\"downcolor\",img_color)\n",
    "        #cv2.waitKey(0)\n",
    "        # repeatedly apply small bilateral filter instead of applying\n",
    "        # one large filter\n",
    "        for _ in range(numBilateralFilters):\n",
    "            img_color = cv2.bilateralFilter(img_color, 9, 9, 7)\n",
    "        #cv2.imshow(\"bilateral filter\",img_color)\n",
    "        #cv2.waitKey(0)\n",
    "        # upsample image to original size\n",
    "        for _ in range(numDownSamples):\n",
    "            img_color = cv2.pyrUp(img_color)\n",
    "        #cv2.imshow(\"upscaling\",img_color)\n",
    "        #cv2.waitKey(0)\n",
    "        # -- STEPS 2 and 3 --\n",
    "        # convert to grayscale and apply median blur\n",
    "        img_gray = cv2.cvtColor(img_rgb, cv2.COLOR_RGB2GRAY)\n",
    "        img_blur = cv2.medianBlur(img_gray, 3)\n",
    "        #cv2.imshow(\"grayscale+median blur\",img_color)\n",
    "        #cv2.waitKey(0)\n",
    "        # -- STEP 4 --\n",
    "        # detect and enhance edges\n",
    "        img_edge = cv2.adaptiveThreshold(img_blur, 255,\n",
    "                                         cv2.ADAPTIVE_THRESH_MEAN_C,\n",
    "                                         cv2.THRESH_BINARY,9, 2)\n",
    "        #cv2.imshow(\"edge\",img_edge)\n",
    "        #cv2.waitKey(0)\n",
    "        # -- STEP 5 --\n",
    "        # convert back to color so that it can be bit-ANDed with color image\n",
    "        (x,y,z) = img_color.shape\n",
    "        img_edge = cv2.resize(img_edge,(y,x))\n",
    "        img_edge = cv2.cvtColor(img_edge, cv2.COLOR_GRAY2RGB)\n",
    "        #cv2.imwrite(\"edge.png\",img_edge)\n",
    "        #cv2.imshow(\"step 5\", img_edge)\n",
    "        #cv2.waitKey(0)\n",
    "        #img_edge = cv2.resize(img_edge,(i for i in img_color.shape[:2]))\n",
    "        #print img_edge.shape, img_color.shape\n",
    "        return cv2.bitwise_and(img_color, img_edge)\n",
    "    def start(self, img_path, image, new_image):\n",
    "        tmp_canvas = Cartoonizer() #make a temporary object\n",
    "        file_name = img_path #File_name will come here\n",
    "        res = tmp_canvas.render(image)\n",
    "        cv2.imwrite(new_image, res)\n",
    "        cv2.imshow(\"Cartoon version\", res)\n",
    "        cv2.waitKey(0)\n",
    "        cv2.destroyAllWindows()\n",
    "        print(f\"Image saved as '{new_image}'\")"
   ]
  },
  {
   "cell_type": "code",
   "execution_count": 84,
   "id": "eb14d0ea",
   "metadata": {},
   "outputs": [],
   "source": [
    "cartoon_filter = Cartoonizer()"
   ]
  },
  {
   "cell_type": "code",
   "execution_count": 85,
   "id": "45153be6",
   "metadata": {},
   "outputs": [
    {
     "name": "stdout",
     "output_type": "stream",
     "text": [
      "Image saved as 'image_Venice_cartoon.jpg'\n"
     ]
    }
   ],
   "source": [
    "cartoon_filter.start(img_path = img_path, image = 'image_Venice.jpg', new_image = 'image_Venice_cartoon.jpg' )"
   ]
  },
  {
   "cell_type": "markdown",
   "id": "86e660bb",
   "metadata": {},
   "source": [
    "## Negative filtering"
   ]
  },
  {
   "cell_type": "code",
   "execution_count": 86,
   "id": "2508eea2",
   "metadata": {},
   "outputs": [],
   "source": [
    "\n",
    "\n",
    "# find max GSV \n",
    "def findMax(k):\n",
    "    mx = 0\n",
    "    for i in k:\n",
    "        if i>mx:\n",
    "            mx = i\n",
    "    return mx\n",
    "\n",
    "class Negative(object):\n",
    "\n",
    "    def __init__(self):\n",
    "        pass\n",
    "    def resize(self,image,window_height = 500):\n",
    "        aspect_ratio = float(image.shape[1])/float(image.shape[0])\n",
    "        window_width = window_height/aspect_ratio\n",
    "        image = cv2.resize(image, (int(window_height),int(window_width)))\n",
    "        return image\n",
    "    \n",
    "    def render(self, img_rgb):\n",
    "        img_gray = cv2.imread(img_rgb, 0)\n",
    "        img_gray = self.resize(img_gray, 500)\n",
    "        #get all image values\n",
    "        k = []\n",
    "        for i in range(img_gray.shape[0]):\n",
    "            for j in range(img_gray.shape[1]):\n",
    "                k.append(img_gray[i,j])\n",
    "        L = findMax(k) #max GSV\n",
    "        dst = img_gray[:] #copy image\n",
    "        #update dst\n",
    "        for i in range(img_gray.shape[0]):\n",
    "          for j in range(img_gray.shape[1]):\n",
    "            dst[i,j] = L - dst[i,j]\n",
    "        return dst\n",
    "    def start(self, img_path, image, new_image):\n",
    "        tmp_canvas = Negative() #make a temporary object\n",
    "        file_name = img_path #File_name will come here\n",
    "        res = tmp_canvas.render(image)\n",
    "        cv2.imwrite(new_image, res)\n",
    "        cv2.imshow(\"Negative Version\", res)\n",
    "        cv2.waitKey(0)\n",
    "        cv2.destroyAllWindows()\n",
    "        print(\"Image saved as {new_image}\")\n",
    "    "
   ]
  },
  {
   "cell_type": "code",
   "execution_count": 87,
   "id": "1fe24916",
   "metadata": {},
   "outputs": [],
   "source": [
    "negative_filter = Negative()"
   ]
  },
  {
   "cell_type": "code",
   "execution_count": 88,
   "id": "a1aaf1b6",
   "metadata": {},
   "outputs": [
    {
     "name": "stdout",
     "output_type": "stream",
     "text": [
      "Image saved as {new_image}\n"
     ]
    }
   ],
   "source": [
    "negative_filter.start(img_path, image = 'image_Venice.jpg', new_image = 'image_Venice_negative.jpg' )"
   ]
  },
  {
   "cell_type": "markdown",
   "id": "640638b7",
   "metadata": {},
   "source": [
    "## OLD FILTER"
   ]
  },
  {
   "cell_type": "code",
   "execution_count": 101,
   "id": "7c57f928",
   "metadata": {},
   "outputs": [],
   "source": [
    "import numpy as np\n",
    "import argparse\n",
    "import random\n",
    "import os, sys\n",
    "\n",
    "class old_filter(object):\n",
    "    \"\"\"old_filter effect\n",
    "        A class that applies a random old filter effect to an image\n",
    "        using a set of pre-designed filters and applying Arithmetic \n",
    "        Operations on Image to add the filter effect on it.\n",
    "    \"\"\"\n",
    "    \n",
    "    def __init__(self):\n",
    "        pass\n",
    "    \n",
    "    #function to resize\n",
    "    #according to the aspect ratio of the image\n",
    "    def resize(self,image,window_height = 500):\n",
    "        aspect_ratio = float(image.shape[1])/float(image.shape[0])\n",
    "        window_width = window_height/aspect_ratio\n",
    "        image = cv2.resize(image, (int(window_height),int(window_width)))\n",
    "        return image\n",
    "    #function that renders the image\n",
    "    def render(self, img_rgb):\n",
    "        img = cv2.imread(img_rgb,0)\n",
    "        img = self.resize(img, 500)\n",
    "        \n",
    "        filtern = []\n",
    "        filters = list(range(1,7))\n",
    "        for l in filters:\n",
    "            filtern.append(str(l) +'n')\n",
    "        #filtern -> stores numbers (1-7) with preceeding n\n",
    "        #filters -> all numbers (1-7) and elements of filtern\n",
    "        filters.extend(filtern)\n",
    "             \n",
    "        #selects random filter everytime\n",
    "        selectedfilter = str(random.choice(filters))\n",
    "        #print(selectedfilter)\n",
    "        #filter path in generalized form to work in all systems\n",
    "        #filter_path = os.path.abspath(os.path.join('oldfilters','old' + selectedfilter + '.jpg'))\n",
    "        filter_path = img_rgb\n",
    "        if selectedfilter.endswith('n'):\n",
    "            #selected file is an normal filter and Arithmetic addition \n",
    "            #needs to be applied on it \n",
    "            \n",
    "            old = cv2.imread(filter_path,0)\n",
    "            old = cv2.resize(old,(img.shape[1],img.shape[0]))\n",
    "            #cv2.imshow('filter',old)\n",
    "            #cv2.imshow('image',img)\n",
    "            \n",
    "            #Arithmetic add\n",
    "            add=cv2.add(img,old)\n",
    "            return add\n",
    "                    \n",
    "        else:\n",
    "            #selected file is an inverted filter and Weighted addition \n",
    "            #needs to be applied on it \n",
    "            \n",
    "            old = cv2.imread(filter_path, 0)\n",
    "            old = cv2.resize(old,(img.shape[1],img.shape[0]))\n",
    "            #print old.shape\n",
    "            #for i in range(old.shape[0]):\n",
    "            #\t for j in range(old.shape[1]):\n",
    "            #\t\tif old[i][j]>200:\n",
    "            #\t\t\told[i][j]=255\n",
    "            #cv2.imshow('filter',old)\n",
    "            #cv2.imshow('image',img)\n",
    "        \n",
    "            #Weightedadd\n",
    "            add=cv2.addWeighted(img,0.7,old,0.3,0)\n",
    "            return add\n",
    "                     \n",
    "    def start(self, image, new_image):\n",
    "        #make a temporary object\n",
    "        tmp_canvas = old_filter()\n",
    "        #File_name will come here\n",
    "        res = tmp_canvas.render(image)\n",
    "        cv2.imwrite(new_image, res)\n",
    "        cv2.imshow(\"old version\", res)\n",
    "        cv2.waitKey(0)\n",
    "        cv2.destroyAllWindows()\n",
    "        print(f\"Image saved as {new_image}\")"
   ]
  },
  {
   "cell_type": "code",
   "execution_count": 102,
   "id": "4c6026ef",
   "metadata": {},
   "outputs": [],
   "source": [
    "old_filters = old_filter()"
   ]
  },
  {
   "cell_type": "code",
   "execution_count": 104,
   "id": "f5231757",
   "metadata": {},
   "outputs": [
    {
     "name": "stdout",
     "output_type": "stream",
     "text": [
      "Image saved as image_Venice_old.jpg\n"
     ]
    }
   ],
   "source": [
    "old_filters.start(image = 'image_Venice.jpg',  new_image = 'image_Venice_old.jpg' )"
   ]
  },
  {
   "cell_type": "code",
   "execution_count": null,
   "id": "410ab539",
   "metadata": {},
   "outputs": [],
   "source": []
  }
 ],
 "metadata": {
  "kernelspec": {
   "display_name": "Python 3 (ipykernel)",
   "language": "python",
   "name": "python3"
  },
  "language_info": {
   "codemirror_mode": {
    "name": "ipython",
    "version": 3
   },
   "file_extension": ".py",
   "mimetype": "text/x-python",
   "name": "python",
   "nbconvert_exporter": "python",
   "pygments_lexer": "ipython3",
   "version": "3.9.12"
  }
 },
 "nbformat": 4,
 "nbformat_minor": 5
}
