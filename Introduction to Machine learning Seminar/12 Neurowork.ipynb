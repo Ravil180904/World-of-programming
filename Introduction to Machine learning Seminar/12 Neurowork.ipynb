{
 "cells": [
  {
   "cell_type": "code",
   "execution_count": 14,
   "metadata": {},
   "outputs": [],
   "source": [
    "import pandas as pd\n",
    "import numpy as np\n",
    "from sklearn import preprocessing"
   ]
  },
  {
   "cell_type": "code",
   "execution_count": 15,
   "metadata": {},
   "outputs": [],
   "source": [
    "w1 = np.array([[-0.2, 0.3, -0.4], [0.1, -0.3, -0.4]])\n",
    "w2 = np.array([0.2, 0.3])"
   ]
  },
  {
   "cell_type": "code",
   "execution_count": 16,
   "metadata": {},
   "outputs": [],
   "source": [
    "def go_forward(inp):\n",
    "    sum_= np.dot(w1, inp)\n",
    "    out = np.array([f(elem) for elem in sum_])\n",
    "\n",
    "    sum_2 = np.dot(w2, out)\n",
    "    y = f(sum_2)\n",
    "\n",
    "    return y, out"
   ]
  },
  {
   "cell_type": "code",
   "execution_count": 17,
   "metadata": {},
   "outputs": [],
   "source": [
    "def train(epoch):\n",
    "    global w1, w2\n",
    "    lmb = 0.01\n",
    "    N = 10000\n",
    "    count = len(epoch)\n",
    "    for k in range(N):\n",
    "\n",
    "        x = epoch[np.random.randint(0, count)]\n",
    "        y, out =  go_forward(x[0:3])\n",
    "        E = y - x[-1]\n",
    "\n",
    "        delta = E * df(y)\n",
    "        w2[0] = w2[0] - lmb * delta * out[0]\n",
    "        w2[1] = w2[1] - lmb * delta * out[1]\n",
    "\n",
    "        delta2 = w2 *delta * df(out)\n",
    "        w1[0,:] = w1[0,:] - np.array(x[0:3]) * delta2[0] * lmb\n",
    "        w1[1,:] = w1[1,:] - np.array(x[0:3]) * delta2[1] * lmb"
   ]
  },
  {
   "cell_type": "code",
   "execution_count": 18,
   "metadata": {},
   "outputs": [],
   "source": [
    "epoch = [(-1, -1, -1, -1,),\n",
    "         (-1, -1, 1, 1),\n",
    "         (-1, 1, -1, -1),\n",
    "         (-1, 1, 1, 1),\n",
    "         \n",
    "         (1, -1, -1, -1),\n",
    "         (1, -1, 1, 1),\n",
    "         (1, 1, -1, -1),\n",
    "         (1, 1, 1, -1)]"
   ]
  },
  {
   "cell_type": "code",
   "execution_count": 19,
   "metadata": {},
   "outputs": [
    {
     "ename": "NameError",
     "evalue": "name 'f' is not defined",
     "output_type": "error",
     "traceback": [
      "\u001b[1;31m---------------------------------------------------------------------------\u001b[0m",
      "\u001b[1;31mNameError\u001b[0m                                 Traceback (most recent call last)",
      "Cell \u001b[1;32mIn[19], line 1\u001b[0m\n\u001b[1;32m----> 1\u001b[0m \u001b[43mtrain\u001b[49m\u001b[43m(\u001b[49m\u001b[43mepoch\u001b[49m\u001b[43m)\u001b[49m\n\u001b[0;32m      2\u001b[0m \u001b[38;5;28mprint\u001b[39m(\u001b[38;5;124m'\u001b[39m\u001b[38;5;124mOptimized\u001b[39m\u001b[38;5;124m'\u001b[39m, end \u001b[38;5;241m=\u001b[39m \u001b[38;5;124m'\u001b[39m\u001b[38;5;130;01m\\n\u001b[39;00m\u001b[38;5;124m'\u001b[39m)\n\u001b[0;32m      4\u001b[0m \u001b[38;5;28;01mfor\u001b[39;00m x \u001b[38;5;129;01min\u001b[39;00m epoch:\n",
      "Cell \u001b[1;32mIn[17], line 9\u001b[0m, in \u001b[0;36mtrain\u001b[1;34m(epoch)\u001b[0m\n\u001b[0;32m      6\u001b[0m \u001b[38;5;28;01mfor\u001b[39;00m k \u001b[38;5;129;01min\u001b[39;00m \u001b[38;5;28mrange\u001b[39m(N):\n\u001b[0;32m      8\u001b[0m     x \u001b[38;5;241m=\u001b[39m epoch[np\u001b[38;5;241m.\u001b[39mrandom\u001b[38;5;241m.\u001b[39mrandint(\u001b[38;5;241m0\u001b[39m, count)]\n\u001b[1;32m----> 9\u001b[0m     y, out \u001b[38;5;241m=\u001b[39m  \u001b[43mgo_forward\u001b[49m\u001b[43m(\u001b[49m\u001b[43mx\u001b[49m\u001b[43m[\u001b[49m\u001b[38;5;241;43m0\u001b[39;49m\u001b[43m:\u001b[49m\u001b[38;5;241;43m3\u001b[39;49m\u001b[43m]\u001b[49m\u001b[43m)\u001b[49m\n\u001b[0;32m     10\u001b[0m     E \u001b[38;5;241m=\u001b[39m y \u001b[38;5;241m-\u001b[39m x[\u001b[38;5;241m-\u001b[39m\u001b[38;5;241m1\u001b[39m]\n\u001b[0;32m     12\u001b[0m     delta \u001b[38;5;241m=\u001b[39m E \u001b[38;5;241m*\u001b[39m df(y)\n",
      "Cell \u001b[1;32mIn[16], line 3\u001b[0m, in \u001b[0;36mgo_forward\u001b[1;34m(inp)\u001b[0m\n\u001b[0;32m      1\u001b[0m \u001b[38;5;28;01mdef\u001b[39;00m \u001b[38;5;21mgo_forward\u001b[39m(inp):\n\u001b[0;32m      2\u001b[0m     sum_\u001b[38;5;241m=\u001b[39m np\u001b[38;5;241m.\u001b[39mdot(w1, inp)\n\u001b[1;32m----> 3\u001b[0m     out \u001b[38;5;241m=\u001b[39m np\u001b[38;5;241m.\u001b[39marray([\u001b[43mf\u001b[49m(elem) \u001b[38;5;28;01mfor\u001b[39;00m elem \u001b[38;5;129;01min\u001b[39;00m sum_])\n\u001b[0;32m      5\u001b[0m     sum_2 \u001b[38;5;241m=\u001b[39m np\u001b[38;5;241m.\u001b[39mdot(w2, out)\n\u001b[0;32m      6\u001b[0m     y \u001b[38;5;241m=\u001b[39m f(sum_2)\n",
      "\u001b[1;31mNameError\u001b[0m: name 'f' is not defined"
     ]
    }
   ],
   "source": [
    "train(epoch)\n",
    "print('Optimized', end = '\\n')\n",
    "\n",
    "for x in epoch:\n",
    "    y, out = go_forward(x[0:3])\n",
    "    print(f'The output is: {y} ==> {x[-1]}')\n"
   ]
  }
 ],
 "metadata": {
  "kernelspec": {
   "display_name": "base",
   "language": "python",
   "name": "python3"
  },
  "language_info": {
   "codemirror_mode": {
    "name": "ipython",
    "version": 3
   },
   "file_extension": ".py",
   "mimetype": "text/x-python",
   "name": "python",
   "nbconvert_exporter": "python",
   "pygments_lexer": "ipython3",
   "version": "3.12.4"
  }
 },
 "nbformat": 4,
 "nbformat_minor": 2
}
