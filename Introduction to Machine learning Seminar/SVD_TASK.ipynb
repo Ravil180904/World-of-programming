{
 "cells": [
  {
   "cell_type": "markdown",
   "id": "a3a3d001",
   "metadata": {},
   "source": [
    "## Home Work 2\n",
    "## Introduction to Machine Learning\n",
    "### Singular Value Decomposition: Image compression"
   ]
  },
  {
   "cell_type": "markdown",
   "id": "2eb9c4b6",
   "metadata": {},
   "source": [
    "First, be introduced with the following theory:"
   ]
  },
  {
   "cell_type": "markdown",
   "id": "7277dc5c",
   "metadata": {},
   "source": [
    "# <font face=\"gotham\" color=\"purple\"> The Singular Values </font>"
   ]
  },
  {
   "cell_type": "markdown",
   "id": "062a4a92",
   "metadata": {},
   "source": [
    "We have discussed what _Spectral Decomposition_ which can decompose any symmetric matrices unconditionally into three special matrices.However only square matrices have eigenvalues and vectors, however we want to extend a similar concept for any $m \\times n$ matrices.\n",
    "\n",
    "If $A$ is an $m \\times n$ matrix, then $A^TA$ and $AA^T$ are both symmetric and orthogonally diagonalizable."
   ]
  },
  {
   "cell_type": "markdown",
   "id": "46da4746",
   "metadata": {},
   "source": [
    "The square roots of eigenvalues of $A^TA$ are called <font face=\"gotham\" color=\"red\"> singular values</font>  of $A$, denoted by $\\sigma_1, ..., \\sigma_n$ in decreasing order. \n",
    "\n",
    "We can also show that singular values of $A$ are the lengths of vectors $A\\mathbf{v}_1,..., A\\mathbf{v}_n$, where $\\mathbf{v}_i$ is the eigenvalue of $A^TA$."
   ]
  },
  {
   "cell_type": "markdown",
   "id": "73684d8f",
   "metadata": {},
   "source": [
    "The length of $A\\mathbf{v}_i$ is $\\|A\\mathbf{v}_i\\|$\n",
    "\n",
    "$$\n",
    "\\|A\\mathbf{v}_i\\| = \\sqrt{(A\\mathbf{v}_i)^TA\\mathbf{v}_i} = \\sqrt{\\mathbf{v}_i^TA^T A\\mathbf{v}_i}=\\sqrt{\\mathbf{v}_i^T(\\lambda_i\\mathbf{v}_i)} = \\sqrt{\\lambda_i}=\\sigma_1\n",
    "$$\n",
    "\n",
    "where $\\sqrt{\\mathbf{v}_i^T\\mathbf{v}_i} = 1$ and $\\lambda_i$'s are eigenvalues of $A^TA$."
   ]
  },
  {
   "cell_type": "markdown",
   "id": "fcfe7e2d",
   "metadata": {},
   "source": [
    " # <font face=\"gotham\" color=\"purple\"> Singular Value Decomposition</font>"
   ]
  },
  {
   "cell_type": "markdown",
   "id": "4edb8040",
   "metadata": {},
   "source": [
    "**Singular Value Decomposition** (SVD) is probably the most important decomposition technique in the history of linear algebra, it combines all the theory we discussed, then culminate at this point."
   ]
  },
  {
   "cell_type": "markdown",
   "id": "88f6f011",
   "metadata": {},
   "source": [
    "$A$ is a $m\\times n$ matrix. However $AA^T$ and $A^TA$ are symmetric matrices,then both are orthogonally diagonalizable.\n",
    "\n",
    "$$\n",
    "AA^T = U\\Sigma\\Sigma^T U^T=(U\\Sigma V^T)(V\\Sigma U^T)\\\\\n",
    "A^TA = V\\Sigma^T \\Sigma V^T = (V\\Sigma^T U^T)(U \\Sigma V^T)\n",
    "$$\n",
    "\n",
    "where $\\Sigma\\Sigma^T$ is a diagonal matrix with all eigenvalues of $AA^T$ and $\\Sigma^T \\Sigma$ is a diagonal matrix with all eigenvalues of $VV^T$."
   ]
  },
  {
   "cell_type": "markdown",
   "id": "f1c7939c",
   "metadata": {},
   "source": [
    "Because both $AA^T$ and $A^TA$ are symmetric, then $UU^T= U^TU=I_{m\\times m}$ and $VV^T= V^TV=I_{n\\times n}$."
   ]
  },
  {
   "cell_type": "markdown",
   "id": "317f466f",
   "metadata": {},
   "source": [
    "We have implicitly shown the singular value decompositions above, one of the most important concept in linear algebra.\n",
    "\n",
    "<font face=\"gotham\" color=\"red\">\n",
    "$$\n",
    "\\Large\n",
    "SVD:\\quad\n",
    "A_{m\\times n} = U_{m\\times m}\\Sigma_{m \\times n} V^T_{n \\times n}\n",
    "$$\n",
    "</font>"
   ]
  },
  {
   "cell_type": "markdown",
   "id": "7e9d5d9c",
   "metadata": {},
   "source": [
    "The SVD theory guarantees that any matrix $A$, no matter its ranks or shapes, can be unconditionally decomposed into three special matrices."
   ]
  },
  {
   "cell_type": "markdown",
   "id": "e3991c2a",
   "metadata": {},
   "source": [
    "So next question: what is $\\Sigma$? \n",
    "\n",
    "It is an $m\\times n$ main diagonal matrix, with all singular values on the main diagonal. Rewrite"
   ]
  },
  {
   "cell_type": "markdown",
   "id": "f790da61",
   "metadata": {},
   "source": [
    "$$\n",
    "A^TA = V\\Sigma^T \\Sigma V^T = V\\Sigma^2 V^T\n",
    "$$"
   ]
  },
  {
   "cell_type": "markdown",
   "id": "19907125",
   "metadata": {},
   "source": [
    "Post-multiply both sides by $V$\n",
    "\n",
    "$$\n",
    "A^TAV = V\\Sigma^2\n",
    "$$"
   ]
  },
  {
   "cell_type": "markdown",
   "id": "14b533bf",
   "metadata": {},
   "source": [
    "This is the matrix version of $A\\mathbf{v}_i = \\lambda_i \\mathbf{v}_i$, but here the matrix of interest is $A^TA$ rather than $A$. Similarly it can be written with singular values\n",
    "\n",
    "$$\n",
    "A^TA\\mathbf{v}_i = \\sigma_i^2\\mathbf{v}_i\n",
    "$$"
   ]
  },
  {
   "cell_type": "markdown",
   "id": "9b991802",
   "metadata": {},
   "source": [
    "Because $U$ and $V$ are not unique, we tend to standardize the solution by arranging $\\sigma_1 \\geq \\sigma_2 \\geq \\sigma_3\\geq ... \\geq\\sigma_r$."
   ]
  },
  {
   "cell_type": "markdown",
   "id": "5331aaff",
   "metadata": {},
   "source": [
    "Why we only arrange $r$ singular values? Because it is the rank of $A$, so is the rank of $A^TA$. Explicitly $\\Sigma$ looks like\n",
    "\n",
    "\n",
    "$$\\Sigma =\\left[\\begin{array}{cccccc}\n",
    "\\sqrt{\\lambda_{1}} & & & & &\\\\\n",
    "& \\sqrt{\\lambda_{2}} & & & &\\\\\n",
    "& & \\ddots & & &\\\\\n",
    "& & & \\sqrt{\\lambda}_{\\mathrm{r}} & &\\\\\n",
    "& & & & \\ddots &\\\\\n",
    "& & & & & 0 \n",
    "\\end{array}\\right]\n",
    "=\\left[\\begin{array}{cccccc}\n",
    "\\sigma_1 & & & & &\\\\\n",
    "& \\sigma_2 & & & &\\\\\n",
    "& & \\ddots & & &\\\\\n",
    "& & & \\sigma_r & &\\\\\n",
    "& & & & \\ddots &\\\\\n",
    "& & & & & 0 \n",
    "\\end{array}\\right]\n",
    "$$"
   ]
  },
  {
   "cell_type": "markdown",
   "id": "1225ee69",
   "metadata": {},
   "source": [
    "We can do the same for $AA^T$ and get\n",
    "\n",
    "$$\n",
    "AA^TU = U \\Sigma^2\n",
    "$$\n",
    "\n",
    "or \n",
    "\n",
    "$$\n",
    "AA^T\\mathbf{u}_i = \\sigma_i^2\\mathbf{u}_i\n",
    "$$"
   ]
  },
  {
   "cell_type": "markdown",
   "id": "1ef38b47",
   "metadata": {},
   "source": [
    "We have shown why $A_{m\\times n} = U_{m\\times m}\\Sigma_{m \\times n} V^T_{n \\times n}$ holds."
   ]
  },
  {
   "cell_type": "markdown",
   "id": "5ff79402",
   "metadata": {},
   "source": [
    "To perfomr a SVD on $A$, we just need two equations and this is also a mannual procedure to decompose any matrix.\n",
    "\n",
    "$$\n",
    "A^TA = V\\Sigma^T \\Sigma V^T\\\\\n",
    "AV = U\\Sigma\n",
    "$$"
   ]
  },
  {
   "cell_type": "markdown",
   "id": "c5a5929b",
   "metadata": {},
   "source": [
    "Here's an example, let's say we have we have a data set $A$"
   ]
  },
  {
   "cell_type": "code",
   "execution_count": 8,
   "id": "8587cbd7",
   "metadata": {},
   "outputs": [],
   "source": [
    "import numpy as np\n",
    "A = np.random.rand(10, 2)"
   ]
  },
  {
   "cell_type": "markdown",
   "id": "7abad2d9",
   "metadata": {},
   "source": [
    "Give it a $\\text{SVD}$ decomposition"
   ]
  },
  {
   "cell_type": "code",
   "execution_count": 11,
   "id": "d382eff8",
   "metadata": {},
   "outputs": [],
   "source": [
    "U, S, VT = np.linalg.svd(A, full_matrices=False)"
   ]
  },
  {
   "cell_type": "markdown",
   "id": "bac48545",
   "metadata": {
    "tags": []
   },
   "source": [
    "## <font face=\"gotham\" color=\"purple\"> Reformulate SVD</font>"
   ]
  },
  {
   "cell_type": "markdown",
   "id": "ef1a4f51",
   "metadata": {},
   "source": [
    "Rewrite $SVD$\n",
    "\n",
    "$$\n",
    "AV = U\\Sigma\n",
    "$$"
   ]
  },
  {
   "cell_type": "markdown",
   "id": "e709034d",
   "metadata": {},
   "source": [
    "vector version is \n",
    "\n",
    "$$\n",
    "A\\mathbf{v}_i = \\sigma_i \\mathbf{u}_i\n",
    "$$"
   ]
  },
  {
   "cell_type": "markdown",
   "id": "f1925b09",
   "metadata": {},
   "source": [
    "There two implications from the equation above: $(a)$ $A$ can be decomposed into\n",
    "\n",
    "$$\n",
    "A = \\sum_{i}^r\\sigma_i\\mathbf{u}_i \\mathbf{v}_i^T\n",
    "$$\n",
    "\n",
    "$(b)$ We can compute $\\mathbf{u}_i$ by using \n",
    "\n",
    "$$\\mathbf{u}_i = \\frac{A\\mathbf{v}_i}{\\sigma_i}$$"
   ]
  },
  {
   "cell_type": "code",
   "execution_count": null,
   "id": "5f135305",
   "metadata": {},
   "outputs": [],
   "source": []
  },
  {
   "cell_type": "markdown",
   "id": "1997f2e1",
   "metadata": {},
   "source": [
    "### Instruction of the task:\n",
    "\n",
    "This notebook consists of the algorithm of image compression by method SVD. The code is partially hidden and your task is to restore it by the formula of SVD.\n",
    "\n",
    "In the end, you should get the plot that visualizes the error of the compression process.\n",
    "\n",
    "!! Image format should be .bmp\n",
    "\n",
    "For the Image, please, take a selfie from your device and process the image from your own phone!!\n",
    "\n",
    "Deadline: 04.02.2024"
   ]
  },
  {
   "cell_type": "code",
   "execution_count": null,
   "id": "5a697429",
   "metadata": {},
   "outputs": [],
   "source": [
    "import cv2\n",
    "import numpy as np\n",
    "import math\n",
    "from math import log10, sqrt\n",
    "from PIL import Image\n",
    "import os\n",
    "\n",
    "A = cv2.imread(\"link to image\")\n",
    "A = # make it 2d array, leave the 3rd dimension\n",
    "\n",
    "A_float64 = # convert it to float values\n",
    "\n",
    "k = int(input('Please, indicate the k-number:\\nFor better results, start from 75 to 250\\nK-number:'))\n",
    "\n",
    "m = # the row shape of photo \n",
    "n = # the columns shape of photo \n",
    "\n",
    "print('-----------------------------')\n",
    "print('Results of Image compression:')\n",
    "print(\"row = \", m)\n",
    "print(\"col = \", n)\n",
    "\n",
    "if (m > n):\n",
    "    AtA = #your code\n",
    "    sigma, v = # use the library from linalg from numpy\n",
    "    \n",
    "    u = []\n",
    "    for i in range(len(v)):\n",
    "        ui = (1/sigma[i])*np.dot(A_float64, v[:,i])\n",
    "        u.append(ui)  \n",
    "        \n",
    "        \n",
    "    u = np.transpose(np.array(u))\n",
    "    \n",
    "else:\n",
    "    AAt = #your code\n",
    "    sigma, u = # use the library from linalg from numpy\n",
    "    \n",
    "    v = []\n",
    "    for i in range(len(u)):\n",
    "        vi = #your code\n",
    "        v.append(vi)\n",
    "\n",
    "    v = np.transpose(np.array(v))\n",
    "    \n",
    "    \n",
    "def compressed_image(sigma, u, v, k):\n",
    "    B = np.zeros((m,n))\n",
    "    A_hat = np.zeros((m, n), dtype=np.uint8)\n",
    "\n",
    "    for i in range(k):\n",
    "        B = np.add(B, sigma[i]*np.outer(u[:, i], v[:, i]))\n",
    "\n",
    "    for i in range(B.shape[0]):\n",
    "        for j in range(B.shape[1]):\n",
    "            if B[i][j] > 255:\n",
    "                A_hat[i][j] = 255\n",
    "            elif B[i][j] < 0:\n",
    "                A_hat[i][j] = 0\n",
    "            else:\n",
    "                A_hat[i][j] = B[i][j]\n",
    "                \n",
    "    return A_hat\n",
    "\n",
    "\n",
    "def get_error(A, A_hat):\n",
    "    #your code\n",
    "    return mse, psnr\n",
    "\n",
    "\n",
    "A_hat = compressed_image(sigma, u, v, k)\n",
    "mse, psnr = get_error(A_float64, A_hat)\n",
    "print(f'The MSE is {mse}\\nThe PSNR is {psnr}')\n",
    "\n",
    "\n",
    "# cv2.imshow(\"A\", A)\n",
    "# cv2.imshow(\"A_hat\", A_hat)\n",
    "plt.imshow(cv2.cvtColor(A_hat,cv2.COLOR_BGR2RGB));\n",
    "cv2.imwrite('compressed{}.jpg'.format(k), A_hat)\n",
    "\n",
    "path_of_compressed = f'compressed{k}.jpg'\n",
    "path_of_original = 'images/image_gray.bmp'\n",
    "compressed_size = os.path.getsize(path_of_compressed)\n",
    "original_size = os.path.getsize(path_of_original)\n",
    "print(f'Compression ratio is: {round(original_size/compressed_size)}:1')\n",
    "print(f'Space saving is: {(1-round(compressed_size/original_size,4))*100}%')\n",
    "\n",
    "\n",
    "# cv2.waitKey(0)\n",
    "# cv2.destroyAllWindows()"
   ]
  },
  {
   "cell_type": "markdown",
   "id": "eccecbcb",
   "metadata": {},
   "source": [
    "Expected Results:\n",
    "1. Original Image\n",
    "2. Compressed Image"
   ]
  },
  {
   "cell_type": "code",
   "execution_count": 12,
   "id": "c0642ec5",
   "metadata": {},
   "outputs": [
    {
     "name": "stdout",
     "output_type": "stream",
     "text": [
      "Please wait:\n",
      "loading 100.0%\n"
     ]
    },
    {
     "data": {
      "image/png": "[encoded data removed]",
      "text/plain": [
       "<Figure size 432x288 with 1 Axes>"
      ]
     },
     "metadata": {
      "needs_background": "light"
     },
     "output_type": "display_data"
    },
    {
     "name": "stdout",
     "output_type": "stream",
     "text": [
      "The plot successfully displayed\n"
     ]
    }
   ],
   "source": [
    "\n",
    "l_value = []\n",
    "for i in range(0,k):\n",
    "    comp_image=compressed_image(sigma, u, v, i)\n",
    "    comp_image.shape\n",
    "    mse, psnr = get_error(A, comp_image)\n",
    "    l_value.append(mse)\n",
    "    clear_output(wait=True)\n",
    "    print('Please wait:') \n",
    "    print(f\"loading {100/k*(i+1)}%\")\n",
    "    \n",
    "  \n",
    "plt.figure('GRAPHICAL COMPARISON')\n",
    "plt.title('ERROR IN COMPRESSION')\n",
    "plt.plot(list(range(0,k)), l_value, 'k')\n",
    "plt.grid('on')\n",
    "plt.xlabel('K- number of elements we keep')\n",
    "plt.ylabel('Error between compress and original image')\n",
    "plt.xlim(1,k)\n",
    "plt.show()\n",
    "print('The plot successfully displayed')"
   ]
  },
  {
   "attachments": {
    "download.png": {
     "image/png": "[encoded data removed]"
    }
   },
   "cell_type": "markdown",
   "id": "e90b78f5",
   "metadata": {},
   "source": [
    "## Expected result\n",
    "![download.png](attachment:download.png)"
   ]
  }
 ],
 "metadata": {
  "kernelspec": {
   "display_name": "Python 3",
   "language": "python",
   "name": "python3"
  },
  "language_info": {
   "codemirror_mode": {
    "name": "ipython",
    "version": 3
   },
   "file_extension": ".py",
   "mimetype": "text/x-python",
   "name": "python",
   "nbconvert_exporter": "python",
   "pygments_lexer": "ipython3",
   "version": "3.8.5"
  }
 },
 "nbformat": 4,
 "nbformat_minor": 5
}
