{
 "cells": [
  {
   "cell_type": "markdown",
   "metadata": {},
   "source": [
    "Consider the conservation law\n",
    "$\\frac{∂u}{∂t}+2 \\frac{∂u}{∂x}=0 \\ in \\ 0<x<L, 0<t<T \\ (9.1)\n",
    "\\ with \\\\\n",
    "u(x,0)=cos^2⁡x, 0<x<L, \\\\\n",
    "(9.2) \\\\ \n",
    "u(0,t)=1,0<t<T. \\\\$\n",
    "Task. Solve the conservation law (9.1), (9.2) by the Lax-Friedrichs method, which utilizes the FTCS (forward in time, centered in space) scheme with numerical dissipation term of 1/2, for L =10 and T = (1.25, 2.5, 5) . Draw the graphs. \n",
    "The following stability condition must be satisfied:\n",
    "$\\\\ |2 \\frac{Δt}{Δx}≤1.|$ "
   ]
  },
  {
   "cell_type": "code",
   "execution_count": null,
   "metadata": {},
   "outputs": [],
   "source": [
    "# Norm reshenie 2 s t uze\n",
    "import numpy as np\n",
    "import matplotlib.pyplot as plt\n",
    "\n",
    "L = 10\n",
    "a = 2\n",
    "dx = 0.01\n",
    "dt = 0.2 * dx / a\n",
    "T_initial = [1.25, 2.5, 5]\n",
    "x = np.arange(0, L, dx)\n",
    "u_initial = np.cos(x) ** 2\n",
    "\n",
    "#def lax_friedrichs(u_step):\n",
    "def lax_friedrichs(u):\n",
    "    #u_step[1:-1] = 0.5 * (u_step[2:] + u_step[:-2]) - 0.5 * a * (dt / dx) * (u_step[2:] - u_step[:-2])\n",
    "    u[1:-1] = 0.5 * (u[2:] + u[:-2]) - 0.5 * a * (dt / dx) * (u[2:] - u[:-2])\n",
    "    #u_step[0] = 1\n",
    "    u[0] = 1\n",
    "    #return u_step\n",
    "    return u\n",
    "\n",
    "plt.figure(figsize=(9, 5))\n",
    "for T in T_initial:\n",
    "    u = np.copy(u_initial)\n",
    "    #t = np.arange(0, T, dt)\n",
    "    #u_step = np.cos(x) ** 2\n",
    "    for t in np.arange(0, T, dt):\n",
    "        #u_initial = lax_friedrichs(u_step)\n",
    "        u = lax_friedrichs(u)\n",
    "    plt.plot(x, u, label=f\"T = {T}\")\n",
    "\n",
    "plt.xlabel(\"X value\")\n",
    "plt.ylabel(\"u(x, t)\")\n",
    "plt.title(\"Solution of the lax-Friedrichs mathod\")\n",
    "plt.legend()\n",
    "plt.grid()\n",
    "plt.show() \n"
   ]
  }
 ],
 "metadata": {
  "kernelspec": {
   "display_name": "Python 3",
   "language": "python",
   "name": "python3"
  },
  "language_info": {
   "codemirror_mode": {
    "name": "ipython",
    "version": 3
   },
   "file_extension": ".py",
   "mimetype": "text/x-python",
   "name": "python",
   "nbconvert_exporter": "python",
   "pygments_lexer": "ipython3",
   "version": "3.12.2"
  }
 },
 "nbformat": 4,
 "nbformat_minor": 2
}
