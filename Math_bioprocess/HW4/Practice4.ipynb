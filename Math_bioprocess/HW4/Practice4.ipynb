{
 "cells": [
  {
   "cell_type": "markdown",
   "metadata": {},
   "source": [
    "Write an algorithm to implement one of the root-finding methods (the bisection method or Newton’s method) to solve \n",
    "x_1^3+x_2=1,\n",
    "x_2^3-x_1=-1. (4.1)\n",
    "Indicate your initial condition and how many steps it requires to reach the tolerance of error to be within 10^(-6).\n"
   ]
  },
  {
   "cell_type": "code",
   "execution_count": null,
   "metadata": {},
   "outputs": [],
   "source": [
    "import numpy as np;\n",
    "\n",
    "#numb_inp = (input(\"Enter a number: \"))\n",
    "#numbers = [int(num) for num in numb_inp.split()]\n",
    "\n",
    "def Newton(x1, x2, tol=10^-6, max_iter=100):\n",
    "    for i in range(max_iter):\n",
    "        f1 = x1**3 + x2-1\n",
    "        f2 = x2**3 - x1+1\n",
    "        J=np.array([[3*x1**2, 1], [3*x2**2, -1]])\n",
    "        F = np.array([f1, f2])\n",
    "        delta = np.linalg.solve(J, -F) #Solve a linear matrix equation\n",
    "        x1, x2 = x1 + delta[0], x2 + delta[1]\n",
    "        if np.linalg.norm(delta) < tol: # This function is able to return one of eight different matrix norms, or one of an infinite number of vector norms\n",
    "            return x1, x2, i+1\n",
    "    return x1, x2, max_iter\n",
    "\n",
    "x1, x2, steps = Newton(0.5, 0.5)\n",
    "print(f\"Solution: x1 = {x1}, x2 = {x2}, steps: {steps}\")"
   ]
  },
  {
   "cell_type": "code",
   "execution_count": null,
   "metadata": {},
   "outputs": [],
   "source": [
    "import numpy as np;\n",
    "\n",
    "#numb_inp = (input(\"Enter a number: \"))\n",
    "#numbers = [int(num) for num in numb_inp.split()]\n",
    "\n",
    "def f(x):\n",
    "    return np.array([x[0]**3 + x[1] - 1, x[1] ** 3 - x[0] + 1])\n",
    "\n",
    "def jacobian(x):\n",
    "    return np.array([[3*x[0]**2, 1], [-1, 3*x[1]**2]])\n",
    "\n",
    "def Newton(x0, tol=10^-6, max_iter=100):\n",
    "    x = x0\n",
    "    for i in range(max_iter):\n",
    "        J_inv = np.linalg.inv(jacobian(x))\n",
    "        dx = np.dot(J_inv, f(x))\n",
    "        x = x - dx #Solve a linear matrix equation\n",
    "        if np.linalg.norm(dx) < tol: # This function is able to return one of eight different matrix norms, or one of an infinite number of vector norms\n",
    "            return x\n",
    "    return x, max_iter\n",
    "\n",
    "x0 = np.array([2, 8])\n",
    "sol = Newton(x0)\n",
    "print(f\"Solution: {sol}\")"
   ]
  }
 ],
 "metadata": {
  "kernelspec": {
   "display_name": "Python 3",
   "language": "python",
   "name": "python3"
  },
  "language_info": {
   "codemirror_mode": {
    "name": "ipython",
    "version": 3
   },
   "file_extension": ".py",
   "mimetype": "text/x-python",
   "name": "python",
   "nbconvert_exporter": "python",
   "pygments_lexer": "ipython3",
   "version": "3.12.2"
  }
 },
 "nbformat": 4,
 "nbformat_minor": 2
}
