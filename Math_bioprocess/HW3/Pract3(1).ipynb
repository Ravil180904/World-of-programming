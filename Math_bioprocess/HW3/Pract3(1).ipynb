{
 "cells": [
  {
   "cell_type": "code",
   "execution_count": null,
   "metadata": {},
   "outputs": [],
   "source": [
    "import numpy as np\n",
    "import matplotlib.pyplot as plt\n",
    "\n",
    "# Parameters\n",
    "lambda_ = 0.2\n",
    "T_0 = 10^4\n",
    "T_init = 10^3\n",
    "\n",
    "# Time range\n",
    "t_start = 0\n",
    "t_end = 30\n",
    "t_step = 0.1\n",
    "t = np.arange(t_start, t_end, t_step)\n",
    "\n",
    "# Solve the differential equation\n",
    "T = (T_0 * T_init * np.exp(lambda_ * t)) / (T_0 + T_init * (np.exp(lambda_ * t) - 1))\n",
    "\n",
    "# Plot the solution\n",
    "plt.figure(figsize=(8, 6))\n",
    "plt.plot(t, T)\n",
    "plt.xlabel('Time (t)')\n",
    "plt.ylabel('Tumor Cell Population (T)')\n",
    "plt.title('Tumor Cell Proliferation Model')\n",
    "plt.grid()\n",
    "plt.show()\n"
   ]
  },
  {
   "cell_type": "code",
   "execution_count": null,
   "metadata": {},
   "outputs": [],
   "source": [
    "import numpy as np \n",
    "import matplotlib.pyplot as plt \n",
    "\n",
    "lambda_ = 0.2\n",
    "T_0 = 10^4\n",
    "T_1 = 10^3\n",
    "k1=0.5\n",
    "k2=0.6\n",
    "\n",
    "t_start = 0\n",
    "t_end = 30\n",
    "dt = 0.1\n",
    "t = np.arange(t_start, t_end, dt)\n",
    "\n",
    "T = np.zeros_like(t)\n",
    "T[0] = T_1\n",
    "for i in range(len(t) - 1):\n",
    "    T[i+1] = T[i] + dt * (lambda_ * T[i] * (1 - (T[i] / T_0)) - ((k1 *k2 * np.exp(3) * T[i]) / (k2 + k1 * T[i]))) + T[i]\n",
    "\n",
    "plt.figure(figsize=(8, 6))\n",
    "plt.plot(t, T)\n",
    "plt.xlabel(\"Time t\")\n",
    "plt.ylabel(\"Tumor T\")\n",
    "plt.title(\"Graph of finite differential\")\n",
    "plt.grid()\n",
    "plt.show() "
   ]
  }
 ],
 "metadata": {
  "kernelspec": {
   "display_name": "Python 3",
   "language": "python",
   "name": "python3"
  },
  "language_info": {
   "codemirror_mode": {
    "name": "ipython",
    "version": 3
   },
   "file_extension": ".py",
   "mimetype": "text/x-python",
   "name": "python",
   "nbconvert_exporter": "python",
   "pygments_lexer": "ipython3",
   "version": "3.12.2"
  }
 },
 "nbformat": 4,
 "nbformat_minor": 2
}
