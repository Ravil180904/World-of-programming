{
 "cells": [
  {
   "cell_type": "code",
   "execution_count": 1,
   "metadata": {},
   "outputs": [],
   "source": [
    "import numpy as np\n",
    "import matplotlib.pyplot as plt\n",
    "\n",
    "alpha1 = 2\n",
    "alpha2 = 0.2\n",
    "lambda1 = 2.7\n",
    "lambda2 = 0.9\n",
    "nu1 = 3\n",
    "nu2 = 1\n",
    "M = 1\n",
    "T = 28\n",
    "dt = 0.01\n",
    "t = np.arange(0, T, dt)\n",
    "\n",
    "sigma1 = np.zeros(len(t))\n",
    "sigma2 = np.zeros(len(t))\n",
    "b1 = np.zeros(len(t))\n",
    "b2 = np.zeros(len(t))\n",
    "\n",
    "\n",
    "def h1(t):\n",
    "    if 0 <= t <= 14:\n",
    "        return 5   \n",
    "    if 14 <= t <= 28:\n",
    "        return 0\n",
    "\n",
    "def h2(t):\n",
    "    if 0 <= t <= 7: \n",
    "        return 10\n",
    "    if 7 <= t <= 28:\n",
    "        return 0\n",
    "\n",
    "def P(b1, b2):\n",
    "    if 1 <= b1 + b2 <= 2:\n",
    "        return 3\n",
    "    if b1 + b2 < 1 or b1+b2 > 2:\n",
    "        return 0\n",
    "\n",
    "Q2_h1 = np.zeros(len(t))\n",
    "Q2_h2 = np.zeros(len(t))\n",
    "\n",
    "\n",
    "A1 = db1_dt = lambda1 * b1 - (nu1*b1**2)/(1+b1**2) - sigma1 * b1 - (M*b1)/ (1+sigma1)\n",
    "A2 = db2_dt = lambda2 * b2 - (nu2*b1**2)/(1+b2**2) - sigma2 * b2 + (M*b2) / (1+sigma1)\n",
    "\n",
    "for i in range(len(t) - 1):\n",
    "    b1[i+1] = b1[i] + db1_dt * b1"
   ]
  }
 ],
 "metadata": {
  "kernelspec": {
   "display_name": "Python 3",
   "language": "python",
   "name": "python3"
  },
  "language_info": {
   "codemirror_mode": {
    "name": "ipython",
    "version": 3
   },
   "file_extension": ".py",
   "mimetype": "text/x-python",
   "name": "python",
   "nbconvert_exporter": "python",
   "pygments_lexer": "ipython3",
   "version": "3.12.2"
  }
 },
 "nbformat": 4,
 "nbformat_minor": 2
}
