{
 "cells": [
  {
   "cell_type": "markdown",
   "metadata": {},
   "source": [
    "Mathematical and Computer Modeling of Biological Processes \n",
    " \n",
    "Practice 8 \n",
    " \n",
    "Consider the FitzHugh-Nagumo model of neuronal oscillations:\n",
    "dν/dt=-ν(ν-a)(ν-1)-w+I,\n",
    "(8.1)\n",
    "dw/dt=ϵ(ν-γw)\n",
    "where ν is the voltage of the action potential, w is a variable acting to diminish v, i.e. a channel blocking mechanism, I is the applied current coming from the soma, ϵ is a small parameter, and γ is a positive constant. \n",
    "Initial conditions for (v w,) are given by \n",
    " \n",
    "\t(0.4, 0); \n",
    "\t(0.5, 0); \t \t(8.2) \n",
    "\t(0.6, 0). \n",
    " \n",
    " \n",
    "Tasks \n",
    "\t1.Solve model (8.1) with three initial conditions (8.2) at a = 0.3,ϵ= 0.001,γ= 2.5, and I =0. \n",
    "\t2.Draw the graphs for dv\n",
    "\t\n",
    "\ta) v versus dv/dt;\n",
    "\t\n",
    "\tb) v(t) and w(t) versus time t. "
   ]
  },
  {
   "cell_type": "code",
   "execution_count": null,
   "metadata": {},
   "outputs": [],
   "source": [
    "import numpy as np\n",
    "import matplotlib.pyplot as plt\n",
    "\n",
    "a, epsilon, gamma, I = 0.3, 0.01, 2.5, 0\n",
    "t_start, t_end, dt = 0, 200, 0.01\n",
    "t = np.arange(t_start, t_end, dt)\n",
    "initial = [(0.4, 0), (0.5, 0), (0.6, 0)]\n",
    "def dv_dt(v, w):\n",
    "    return -v * (v-a)*(v-1)-w+I\n",
    "def dw_dt(v, w):\n",
    "    return epsilon * (v - gamma * w)\n",
    "\n",
    "results = []\n",
    "for v0, w0 in initial:\n",
    "    v, w = np.zeros(len(t)), np.zeros(len(t))\n",
    "    v[0], w[0] = v0, w0\n",
    "    for i in range(len(t) - 1):\n",
    "        v[i+1] = v[i] + dv_dt(v[i], w[i]) * dt\n",
    "        w[i+1] = w[i] + dw_dt(v[i], w[i]) * dt\n",
    "    results.append((v, w))\n",
    "\n",
    "figures, index = plt.subplots(3, 2, figsize=(10, 10))\n",
    "#dv = dv_dt(v, w)\n",
    "#print(results)\n",
    "for i in range(3):\n",
    "    v, w = results[i]\n",
    "    dv = dv_dt(v, w)\n",
    "\n",
    "    # Plot v versus dv/dt\n",
    "    index[i, 0].plot(v, dv)\n",
    "    index[i, 0].set_title(f'v vs dv/dt (IC: {initial [i]})')\n",
    "    index[i, 0].set_xlabel('v')\n",
    "    index[i, 0].set_ylabel('dv/dt')\n",
    "    \n",
    "    # Plot v(t) and w(t) versus time t\n",
    "    index[i, 1].plot(t, v, 'b', label='v(t)')\n",
    "    index[i, 1].plot(t, w, 'r', label='w(t)')\n",
    "    index[i, 1].set_title(f'v(t) and w(t) versus time t (IC: {initial [i]})')\n",
    "    index[i, 1].set_xlabel('Time')\n",
    "    index[i, 1].set_ylabel('Values')\n",
    "    index[i, 1].legend()\n",
    "\n",
    "plt.tight_layout()\n",
    "plt.show() "
   ]
  }
 ],
 "metadata": {
  "kernelspec": {
   "display_name": "Python 3",
   "language": "python",
   "name": "python3"
  },
  "language_info": {
   "codemirror_mode": {
    "name": "ipython",
    "version": 3
   },
   "file_extension": ".py",
   "mimetype": "text/x-python",
   "name": "python",
   "nbconvert_exporter": "python",
   "pygments_lexer": "ipython3",
   "version": "3.12.2"
  }
 },
 "nbformat": 4,
 "nbformat_minor": 2
}
