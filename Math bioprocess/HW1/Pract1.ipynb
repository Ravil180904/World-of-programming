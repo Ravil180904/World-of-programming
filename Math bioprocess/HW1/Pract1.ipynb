{
 "cells": [
  {
   "cell_type": "code",
   "execution_count": null,
   "metadata": {},
   "outputs": [],
   "source": [
    "# Finite solution\n",
    "import numpy as np\n",
    "import matplotlib.pyplot as plt\n",
    "\n",
    "k = 10^-3\n",
    "b = 10\n",
    "\n",
    "#y0=0\n",
    "#y1=0\n",
    "\n",
    "t_start = 0\n",
    "t_end = 10\n",
    "t_step = 0.01\n",
    "\n",
    "t = np.arange(t_start, t_end, t_step)\n",
    "y = np.zeros_like(t)\n",
    "y[0]=0\n",
    "y[1]=0\n",
    "\n",
    "#Solve the differential equation using finite difference\n",
    "for i in range(2, len(t)):\n",
    "    y[i] = (1/(1+k*t_step))*(2*y[i-1]+k*t_step*y[i-1]-y[i-2]+b*t_step**2)\n",
    "\n",
    "plt.figure(figsize=(10, 5))\n",
    "plt.plot(t, y, label='y(t)')\n",
    "#plt.plot(t, np.gradient(y, t_step), label=\"y'(t)\")\n",
    "plt.xlabel('Time (t)')\n",
    "plt.ylabel('Value')\n",
    "plt.title('Numerical Solution of the Second-Order Linear Differential Equation')\n",
    "plt.legend()\n",
    "plt.grid()\n",
    "plt.show()\n"
   ]
  },
  {
   "cell_type": "code",
   "execution_count": 2,
   "metadata": {},
   "outputs": [
    {
     "ename": "TypeError",
     "evalue": "only integer scalar arrays can be converted to a scalar index",
     "output_type": "error",
     "traceback": [
      "\u001b[1;31m---------------------------------------------------------------------------\u001b[0m",
      "\u001b[1;31mTypeError\u001b[0m                                 Traceback (most recent call last)",
      "Cell \u001b[1;32mIn[2], line 20\u001b[0m\n\u001b[0;32m     16\u001b[0m t \u001b[38;5;241m=\u001b[39m np\u001b[38;5;241m.\u001b[39marange(t_start, t_end, t_step)\n\u001b[0;32m     17\u001b[0m \u001b[38;5;66;03m#y = np.zeros_like(t)\u001b[39;00m\n\u001b[0;32m     18\u001b[0m \n\u001b[0;32m     19\u001b[0m \u001b[38;5;66;03m#t = [i*dt for i in range(0, t, dt)]\u001b[39;00m\n\u001b[1;32m---> 20\u001b[0m \u001b[38;5;28;01mfor\u001b[39;00m i \u001b[38;5;129;01min\u001b[39;00m \u001b[38;5;28;43mrange\u001b[39;49m\u001b[43m(\u001b[49m\u001b[38;5;241;43m0\u001b[39;49m\u001b[43m,\u001b[49m\u001b[43m \u001b[49m\u001b[43mt\u001b[49m\u001b[43m,\u001b[49m\u001b[43m \u001b[49m\u001b[43mdt\u001b[49m\u001b[43m)\u001b[49m:    \n\u001b[0;32m     21\u001b[0m     y[i]\u001b[38;5;241m=\u001b[39mb\u001b[38;5;241m/\u001b[39m(k\u001b[38;5;241m^\u001b[39m\u001b[38;5;241m2\u001b[39m)\u001b[38;5;241m*\u001b[39m(np\u001b[38;5;241m.\u001b[39mexp((\u001b[38;5;241m-\u001b[39mk)\u001b[38;5;241m*\u001b[39mt[i])\u001b[38;5;241m-\u001b[39m\u001b[38;5;241m1\u001b[39m)\u001b[38;5;241m+\u001b[39mb\u001b[38;5;241m/\u001b[39m(k)\u001b[38;5;241m*\u001b[39mt[i]\n\u001b[0;32m     22\u001b[0m     \u001b[38;5;28mprint\u001b[39m(y)\n",
      "\u001b[1;31mTypeError\u001b[0m: only integer scalar arrays can be converted to a scalar index"
     ]
    }
   ],
   "source": [
    "# Analytical solution\n",
    "import numpy as np\n",
    "import matplotlib.pyplot as plt\n",
    "\n",
    "k = 10^-3\n",
    "b = 10\n",
    "\n",
    "#y0=0\n",
    "#y1=0\n",
    "\n",
    "t_start = 0\n",
    "t_end = 10\n",
    "t_step = 0.01\n",
    "dt = 1\n",
    "\n",
    "t = np.arange(t_start, t_end, t_step)\n",
    "#y = np.zeros_like(t)\n",
    "\n",
    "#t = [i*dt for i in range(0, t, dt)]\n",
    "for i in range(0, t, dt):    \n",
    "    y[i]=b/(k^2)*(np.exp((-k)*t[i])-1)+b/(k)*t[i]\n",
    "    print(y)\n",
    "    \n"
   ]
  },
  {
   "cell_type": "markdown",
   "metadata": {},
   "source": []
  },
  {
   "cell_type": "code",
   "execution_count": null,
   "metadata": {},
   "outputs": [],
   "source": [
    "import numpy as np\n",
    "import matplotlib.pyplot as plt\n",
    "\n",
    "# Define the differential equation parameters\n",
    "K = 10^-3\n",
    "b = 10\n",
    "\n",
    "# Define the initial conditions\n",
    "y0 = 0\n",
    "y0_dot = 0\n",
    "\n",
    "# Define the time interval and step size\n",
    "t_start = 0\n",
    "t_end = 10\n",
    "t_step = 0.01\n",
    "t = np.arange(t_start, t_end, t_step)\n",
    "\n",
    "# Initialize the solution array\n",
    "y = np.zeros_like(t)\n",
    "y[0] = y0\n",
    "y[1] = y0 + y0_dot*t_step\n",
    "\n",
    "# Solve the differential equation using finite difference\n",
    "for i in range(2, len(t-1)):\n",
    "    y[i] = 2*y[i-1] - y[i-2] + t_step**2*(-K*(y[i-1] - y[i-2])/(2*t_step) + b)\n",
    "\n",
    "# Plot the solution\n",
    "plt.figure(figsize=(10, 6))\n",
    "plt.plot(t, y, label='y(t)')\n",
    "plt.plot(t, np.gradient(y, t_step), label=\"y'(t)\")\n",
    "plt.xlabel('Time (t)')\n",
    "plt.ylabel('Value')\n",
    "plt.title('Numerical Solution of the Second-Order Linear Differential Equation')\n",
    "plt.legend()\n",
    "plt.grid()\n",
    "plt.show()\n",
    "\n"
   ]
  },
  {
   "cell_type": "code",
   "execution_count": null,
   "metadata": {},
   "outputs": [],
   "source": []
  }
 ],
 "metadata": {
  "kernelspec": {
   "display_name": "Python 3",
   "language": "python",
   "name": "python3"
  },
  "language_info": {
   "codemirror_mode": {
    "name": "ipython",
    "version": 3
   },
   "file_extension": ".py",
   "mimetype": "text/x-python",
   "name": "python",
   "nbconvert_exporter": "python",
   "pygments_lexer": "ipython3",
   "version": "3.12.2"
  }
 },
 "nbformat": 4,
 "nbformat_minor": 2
}
