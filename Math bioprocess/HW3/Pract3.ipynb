{
 "cells": [
  {
   "cell_type": "markdown",
   "metadata": {},
   "source": [
    "Consider the model of the tumor cell proliferation in the absence of effector cells:  dT/dt=λT(1-T/T_0 ), (3.1) where T is the number density of tumor cells,  is the tumor growth rate, T0 is the capacity of tissue for sustaining the tumor population. The initial condition is given by: T(t) |_(t=0)=10^3. (3.3) Solve model (3.1) with initial condition (3.3) analytically, i.e. find its general and particular solutions"
   ]
  },
  {
   "cell_type": "markdown",
   "metadata": {},
   "source": [
    "1. Solve model (3.1) with initial condition (3.3) analytically, i.e. find its general and particular\n",
    "solutions"
   ]
  },
  {
   "cell_type": "code",
   "execution_count": null,
   "metadata": {},
   "outputs": [],
   "source": [
    "import numpy as np \n",
    "import matplotlib.pyplot as plt \n",
    "\n",
    "T_0 = 10^2\n",
    "T_1 = 10^3\n",
    "lambda_ = 0.2\n",
    "\n",
    "t_start = 0\n",
    "t_end = 30\n",
    "t_step = 0.1\n",
    "t = np.arange(t_start, t_end, t_step)\n",
    "\n",
    "#T = (T_0 * T_1 * np.exp(lambda_ * t)) / (T_0 - T_1) * (1 + np.exp(lambda_ * t))\n",
    "T = (T_0 * T_1 * np.exp(lambda_ * t)) / (T_0 + T_1 * np.exp(lambda_ * t) - 1)\n",
    "\n",
    "plt.figure(figsize=(8, 6))\n",
    "plt.plot(t, T)\n",
    "plt.xlabel(\"Time t\")\n",
    "plt.ylabel(\"Tumor T\")\n",
    "plt.title(\"Graph function\")\n",
    "plt.grid()\n",
    "plt.show() "
   ]
  },
  {
   "cell_type": "markdown",
   "metadata": {},
   "source": [
    "2. Solve model (3.1) with initial condition (3.3) numerically using the finite difference method. \n",
    "Select the appropriate values for coefficients. Draw a graph of T(t).\n",
    "\n",
    "The finite difference: dT/dt = (T[i+1]-T[i])/dt\n",
    "Rearranging the diff. equation: T[i+1] = T[i] + dt * lambda * T[i] * (1 - T[i] / T_0)\n"
   ]
  },
  {
   "cell_type": "code",
   "execution_count": null,
   "metadata": {},
   "outputs": [],
   "source": [
    "import numpy as np \n",
    "import matplotlib.pyplot as plt \n",
    "\n",
    "lambda_ = 0.2\n",
    "T_0 = 10^3\n",
    "#T_1 = 10^4\n",
    "\n",
    "t_start = 0\n",
    "t_end = 50\n",
    "dt = 0.1\n",
    "t = np.arange(t_start, t_end, dt)\n",
    "\n",
    "T = np.zeros_like(t)\n",
    "T[0] = T_0\n",
    "for i in range(len(t) - 1):\n",
    "    T[i+1] = T[i] + dt * lambda_ * T[i] * (1 - (T[i] / T[0]))\n",
    "\n",
    "plt.figure(figsize=(8, 6))\n",
    "plt.plot(t, T)\n",
    "plt.xlabel(\"Time t\")\n",
    "plt.ylabel(\"Tumor T\")\n",
    "plt.title(\"Graph of finite differential\")\n",
    "plt.grid()\n",
    "plt.show() "
   ]
  },
  {
   "cell_type": "markdown",
   "metadata": {},
   "source": [
    "3. Solve model (3.2) with initial condition (3.3) numerically by the finite difference method. Plot \n",
    "the results. Compare them with the solution of model (3.1).\n",
    "\n",
    "The finite difference: dT/dt = (T[i+1]-T[i])/dt\n",
    "Rearranging the diff. equation: T[i+1] = dt * dT/dt + T[i] = dt * (lambda * T[i] * (1 - (T[i] / T[0])) - ((k1-k2*e0*T[i]) / (k2 + k1 * T[i]))) + T[i] "
   ]
  },
  {
   "cell_type": "code",
   "execution_count": null,
   "metadata": {},
   "outputs": [],
   "source": [
    "import numpy as np \n",
    "import matplotlib.pyplot as plt \n",
    "\n",
    "lambda_ = 0.2\n",
    "T_0 = 10^3\n",
    "T_1 = 10^4\n",
    "k1=0.5\n",
    "k2=0.6\n",
    "\n",
    "t_start = 0\n",
    "t_end = 30\n",
    "dt = 0.1\n",
    "t = np.arange(t_start, t_end, dt)\n",
    "\n",
    "T = np.zeros_like(t)\n",
    "T[0] = T_0\n",
    "for i in range(len(t) - 1):\n",
    "    #T[i+1] = dt * (lambda_ * T[i] * (1 - (T[i] / T_0)) - ((k1 *k2 * np.exp(3) * T[i]) / (k2 + k1 * T[i]))) + T[i]\n",
    "    \n",
    "    T[i+1] = dt * (lambda_ * T[i] * (1 - (T[i] / T[0])) - ((k1 * k2 * np.exp(3) * T[i]) / (k2 + k1 * T[i]))) + T[i]\n",
    "\n",
    "plt.figure(figsize=(8, 6))\n",
    "plt.plot(t, T)\n",
    "plt.xlabel(\"Time t\")\n",
    "plt.ylabel(\"Tumor T\")\n",
    "plt.title(\"Graph of finite differential\")\n",
    "plt.grid()\n",
    "plt.show() "
   ]
  }
 ],
 "metadata": {
  "kernelspec": {
   "display_name": "Python 3",
   "language": "python",
   "name": "python3"
  },
  "language_info": {
   "codemirror_mode": {
    "name": "ipython",
    "version": 3
   },
   "file_extension": ".py",
   "mimetype": "text/x-python",
   "name": "python",
   "nbconvert_exporter": "python",
   "pygments_lexer": "ipython3",
   "version": "3.12.4"
  }
 },
 "nbformat": 4,
 "nbformat_minor": 2
}
