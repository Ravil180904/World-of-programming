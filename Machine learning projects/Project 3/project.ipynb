{
 "cells": [
  {
   "cell_type": "markdown",
   "metadata": {},
   "source": [
    "Employee Attrition Prediction with Python\n",
    "\n",
    "Machine Learning Project on Employee Attrition Prediction with Python"
   ]
  },
  {
   "cell_type": "code",
   "execution_count": null,
   "metadata": {},
   "outputs": [],
   "source": [
    "import numpy as np\n",
    "import pandas as pd\n",
    "import seaborn as sns\n",
    "import matplotlib.pyplot as plt\n",
    "%matplotlib inline\n",
    "\n",
    "import plotly.offline as py\n",
    "py.init_notebook_mode(connected=True)\n",
    "import plotly.graph_objs as go\n",
    "import plotly.tools as tls\n",
    "\n",
    "from sklearn.ensemble import RandomForestClassifier, GradientBoostingClassifier\n",
    "from sklearn.linear_model import LogisticRegression\n",
    "from sklearn.metrics import (accuracy_score, log_loss, classification_report)\n",
    "from imblearn.over_sampling import SMOTE\n",
    "import xgboost"
   ]
  },
  {
   "cell_type": "code",
   "execution_count": 21,
   "metadata": {},
   "outputs": [],
   "source": [
    "attribition = pd.read_csv(\"C:\\\\Users\\\\User\\\\Desktop\\\\World of programming\\\\Machine learning projects\\\\Project 3\\\\Employee-Attrition.csv\") "
   ]
  },
  {
   "cell_type": "code",
   "execution_count": null,
   "metadata": {},
   "outputs": [],
   "source": [
    "f, axes = plt.subplots(3, 3, figsize=(10, 8), sharex=False, sharey=False)\n",
    "s = np.linspace(0, 3, 10)\n",
    "cmap = sns.cubehelix_palette(start=0.0, light=1, as_cmap=True)\n",
    "\n",
    "x = attribition['Age'].values\n",
    "y = attribition['TotalWorkingYears'].values\n",
    "sns.kdeplot(x=x, y=y, cmap=cmap, shade=True, cut=5, ax=axes[0,0])\n",
    "#sns.kdeplot(x, y, cmap=cmap, shade=True, ax=axes[0,0])\n",
    "axes[0,0].set(title = 'Age against Total working years')\n",
    "\n",
    "cmap = sns.cubehelix_palette(start=0.333333333, light=1, as_cmap=True)\n",
    "# Generate and plot\n",
    "x = attribition['Age'].values\n",
    "y = attribition['DailyRate'].values\n",
    "sns.kdeplot(x=x, y=y, cmap=cmap, shade=True, ax=axes[0,1])\n",
    "axes[0,1].set(title='Age against Daily Rate')\n",
    "\n",
    "cmap = sns.cubehelix_palette(start=0.66666666667, light=1, as_cmap=True)\n",
    "x = attribition['YearsInCurrentRole'].values\n",
    "y = attribition['Age'].values\n",
    "sns.kdeplot(x=x, y=y, cmap=cmap, shade=True, ax=axes[0,2])\n",
    "axes[0,2].set(title='Years in role against Age')\n",
    "\n",
    "cmap = sns.cubehelix_palette(start=1.0, light=1, as_cmap=True)\n",
    "x = attribition['DailyRate'].values\n",
    "y = attribition['DistanceFromHome'].values\n",
    "sns.kdeplot(x=x, y=y, cmap=cmap, shade=True, ax=axes[1,0])\n",
    "axes[1,0].set(title='Daily Rate against Distancefromhome')\n",
    "\n",
    "cmap = sns.cubehelix_palette(start=1.3333333333, light=1, as_cmap=True)\n",
    "x = attribition['DailyRate'].values\n",
    "y = attribition['JobSatisfaction'].values\n",
    "sns.kdeplot(x=x, y=y, cmap=cmap, shade=True, ax=axes[1,1])\n",
    "axes[1,1].set(title='Daily Rate against Job satisfaction')\n",
    "\n",
    "cmap = sns.cubehelix_palette(start=1.66666666667, light=1, as_cmap=True)\n",
    "x = attribition['YearsAtCompany'].values\n",
    "y = attribition['JobSatisfaction'].values\n",
    "sns.kdeplot(x=x, y=y, cmap=cmap, shade=True, ax=axes[1,2])\n",
    "axes[1,2].set(title='Daily Rate against distance')\n",
    "\n",
    "cmap = sns.cubehelix_palette(start=2.0, light=1, as_cmap=True)\n",
    "x = attribition['YearsAtCompany'].values\n",
    "y = attribition['DailyRate'].values\n",
    "sns.kdeplot(x=x, y=y, cmap=cmap, shade=True, ax=axes[2,0])\n",
    "axes[2,0].set(title='Years at company against Daily Rate')\n",
    "\n",
    "cmap = sns.cubehelix_palette(start=2.3333333333, light=1, as_cmap=True)\n",
    "x = attribition['RelationshipSatisfaction'].values\n",
    "y = attribition['YearsWithCurrManager'].values\n",
    "sns.kdeplot(x=x, y=y, cmap=cmap, shade=True, ax=axes[2,1])\n",
    "axes[2,1].set(title='Relationship Satisfaction vs years with manager')\n",
    "\n",
    "cmap = sns.cubehelix_palette(start=2.66666666667, light=1, as_cmap=True)\n",
    "x = attribition['WorkLifeBalance'].values\n",
    "y = attribition['JobSatisfaction'].values\n",
    "sns.kdeplot(x=x, y=y, cmap=cmap, shade=True, ax=axes[2,2])\n",
    "axes[2,2].set(title='WorklifeBalance against Satisfaction')\n",
    "\n",
    "f.tight_layout() "
   ]
  },
  {
   "cell_type": "markdown",
   "metadata": {},
   "source": [
    "Finding Correlation"
   ]
  }
 ],
 "metadata": {
  "kernelspec": {
   "display_name": "Python 3",
   "language": "python",
   "name": "python3"
  },
  "language_info": {
   "codemirror_mode": {
    "name": "ipython",
    "version": 3
   },
   "file_extension": ".py",
   "mimetype": "text/x-python",
   "name": "python",
   "nbconvert_exporter": "python",
   "pygments_lexer": "ipython3",
   "version": "3.13.1"
  }
 },
 "nbformat": 4,
 "nbformat_minor": 2
}
